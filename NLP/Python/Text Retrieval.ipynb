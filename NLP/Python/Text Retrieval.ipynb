{
 "cells": [
  {
   "cell_type": "markdown",
   "metadata": {},
   "source": [
    "# Text Retrieval Formal Definition"
   ]
  },
  {
   "cell_type": "markdown",
   "metadata": {},
   "source": [
    "### Steps\n",
    "\n",
    "1. Define the document collection (C)\n",
    "2. Define the user query (q)\n",
    "3. Tokenize documents and query (Bag-of-Words representation)\n",
    "4. Build the vocabulary V (all unique words)\n",
    "5. Define scoring function f(q, d): number of query words appearing in a document\n",
    "6. Compute f(q, d) for each document\n",
    "7. Document Selection strategy\n",
    "8. Document Ranking strategy\n"
   ]
  },
  {
   "cell_type": "markdown",
   "metadata": {},
   "source": [
    "### 1. Define the document collection (C)\n",
    "####  A small set of documents representing our text collection."
   ]
  },
  {
   "cell_type": "code",
   "execution_count": 1,
   "metadata": {
    "id": "FTBNfRcZ5WdH"
   },
   "outputs": [],
   "source": [
    "documents = {\n",
    "    \"d1\": \"climate change is real and affecting the planet\",\n",
    "    \"d2\": \"renewable energy helps to reduce global warming\",\n",
    "    \"d3\": \"python programming is useful for data science\",\n",
    "    \"d4\": \"global efforts are needed to stop climate change\"\n",
    "}"
   ]
  },
  {
   "cell_type": "markdown",
   "metadata": {},
   "source": [
    "### 2. Define the user query (q)\n",
    "#### The user's input query to retrieve relevant documents."
   ]
  },
  {
   "cell_type": "code",
   "execution_count": 2,
   "metadata": {
    "id": "xnODkcC0I1HR"
   },
   "outputs": [],
   "source": [
    "query_text = \"climate change and global warming\""
   ]
  },
  {
   "cell_type": "markdown",
   "metadata": {},
   "source": [
    "### 3. Tokenize documents and query (Bag-of-Words representation)\n",
    "#### Convert all texts into lowercase word lists for easy comparison.\n",
    "\n"
   ]
  },
  {
   "cell_type": "code",
   "execution_count": 3,
   "metadata": {
    "id": "NhcWmowwI13a"
   },
   "outputs": [],
   "source": [
    "def tokenize(text):\n",
    "    return text.lower().split()"
   ]
  },
  {
   "cell_type": "markdown",
   "metadata": {},
   "source": [
    "### 4. Build the vocabulary V (all unique words)\n",
    "#### Collect all unique words from documents and query."
   ]
  },
  {
   "cell_type": "code",
   "execution_count": 4,
   "metadata": {
    "colab": {
     "base_uri": "https://localhost:8080/"
    },
    "id": "VCjmxYNfIaby",
    "outputId": "e983116b-54b9-4fdb-f81d-3de2905b302b"
   },
   "outputs": [],
   "source": [
    "vocabulary = set()\n",
    "tokenized_documents = {}\n",
    "for doc_id, text in documents.items():\n",
    "    tokens = tokenize(text)\n",
    "    tokenized_documents[doc_id] = tokens\n",
    "    vocabulary.update(tokens)"
   ]
  },
  {
   "cell_type": "code",
   "execution_count": 5,
   "metadata": {
    "id": "35xK1SwAIseh"
   },
   "outputs": [],
   "source": [
    "query_tokens = tokenize(query_text)\n",
    "vocabulary.update(query_tokens)"
   ]
  },
  {
   "cell_type": "markdown",
   "metadata": {},
   "source": [
    "### 5. Define scoring function f(q, d): number of query words appearing in a document\n",
    "#### A function that counts how many query words appear in a document."
   ]
  },
  {
   "cell_type": "code",
   "execution_count": 6,
   "metadata": {
    "id": "h0gY8J8EIdph"
   },
   "outputs": [],
   "source": [
    "def f(query_tokens, document_tokens):\n",
    "    return sum(1 for word in query_tokens if word in document_tokens)"
   ]
  },
  {
   "cell_type": "markdown",
   "metadata": {},
   "source": [
    "### 6. Compute f(q, d) for each document\n",
    "#### Calculate relevance scores for all documents based on the query."
   ]
  },
  {
   "cell_type": "code",
   "execution_count": 7,
   "metadata": {
    "colab": {
     "base_uri": "https://localhost:8080/"
    },
    "id": "nEvn4yhQIf1q",
    "outputId": "d7ee922d-b7a3-4c7e-cc36-4a1830ddfd2c"
   },
   "outputs": [
    {
     "data": {
      "text/plain": [
       "{'d1': 3, 'd2': 2, 'd3': 0, 'd4': 3}"
      ]
     },
     "execution_count": 7,
     "metadata": {},
     "output_type": "execute_result"
    }
   ],
   "source": [
    "scores = {doc_id: f(query_tokens, tokens) for doc_id, tokens in tokenized_documents.items()}\n",
    "scores"
   ]
  },
  {
   "cell_type": "markdown",
   "metadata": {},
   "source": [
    "#### Vocabulary, Query and tokenized documents"
   ]
  },
  {
   "cell_type": "code",
   "execution_count": 8,
   "metadata": {
    "colab": {
     "base_uri": "https://localhost:8080/"
    },
    "id": "mCiiyFzMIlWh",
    "outputId": "fba3d85d-9724-4667-cc5a-6c8f7f7d3e5e"
   },
   "outputs": [
    {
     "name": "stdout",
     "output_type": "stream",
     "text": [
      "Vocabulary (V):  {'data', 'to', 'useful', 'science', 'renewable', 'the', 'helps', 'stop', 'reduce', 'for', 'warming', 'is', 'energy', 'efforts', 'global', 'change', 'affecting', 'python', 'climate', 'programming', 'real', 'needed', 'and', 'planet', 'are'} \n",
      "\n",
      "Query (q): ['climate', 'change', 'and', 'global', 'warming']\n",
      "\n",
      "Tokenized Documents:\n",
      "d1: ['climate', 'change', 'is', 'real', 'and', 'affecting', 'the', 'planet']\n",
      "d2: ['renewable', 'energy', 'helps', 'to', 'reduce', 'global', 'warming']\n",
      "d3: ['python', 'programming', 'is', 'useful', 'for', 'data', 'science']\n",
      "d4: ['global', 'efforts', 'are', 'needed', 'to', 'stop', 'climate', 'change']\n"
     ]
    }
   ],
   "source": [
    "print(\"Vocabulary (V): \", vocabulary, \"\\n\")\n",
    "print(\"Query (q):\", query_tokens)\n",
    "print(\"\\nTokenized Documents:\")\n",
    "\n",
    "for doc_id, tokens in tokenized_documents.items():\n",
    "    print(f\"{doc_id}: {tokens}\")"
   ]
  },
  {
   "cell_type": "markdown",
   "metadata": {},
   "source": [
    "## 7. Document Selection strategy\n",
    "#### Select documents with scores above a certain threshold (e.g., ≥ 2)."
   ]
  },
  {
   "cell_type": "code",
   "execution_count": 9,
   "metadata": {
    "id": "CkolzjLoIhqp"
   },
   "outputs": [],
   "source": [
    "selection_threshold = 2 # select documents where the score is at least 2\n",
    "R_selection = {doc_id: score for doc_id, score in scores.items() if score >= selection_threshold}"
   ]
  },
  {
   "cell_type": "code",
   "execution_count": 10,
   "metadata": {},
   "outputs": [
    {
     "name": "stdout",
     "output_type": "stream",
     "text": [
      "Document Selection (Score ≥ 2):\n",
      "d1: Score = 3\n",
      "d2: Score = 2\n",
      "d4: Score = 3\n"
     ]
    }
   ],
   "source": [
    "print(\"Document Selection (Score ≥ 2):\") \n",
    "for doc_id, score in R_selection.items():\n",
    "    print(f\"{doc_id}: Score = {score}\")"
   ]
  },
  {
   "cell_type": "markdown",
   "metadata": {},
   "source": [
    "## 8. Document Ranking strategy\n",
    "#### sort all documents by their f(q, d) score in descending order"
   ]
  },
  {
   "cell_type": "code",
   "execution_count": 11,
   "metadata": {
    "id": "qTzykn8AIjvJ"
   },
   "outputs": [],
   "source": [
    "R_ranking = dict(sorted(scores.items(), key=lambda x: x[1], reverse=True))"
   ]
  },
  {
   "cell_type": "code",
   "execution_count": 12,
   "metadata": {},
   "outputs": [
    {
     "name": "stdout",
     "output_type": "stream",
     "text": [
      "All documents ranked by relevance to query:\n",
      "d1: Score = 3\n",
      "d4: Score = 3\n",
      "d2: Score = 2\n",
      "d3: Score = 0\n"
     ]
    }
   ],
   "source": [
    "print(\"All documents ranked by relevance to query:\")\n",
    "for doc_id, score in R_ranking.items():\n",
    "    print(f\"{doc_id}: Score = {score}\")"
   ]
  }
 ],
 "metadata": {
  "colab": {
   "provenance": []
  },
  "kernelspec": {
   "display_name": "Python 3 (ipykernel)",
   "language": "python",
   "name": "python3"
  },
  "language_info": {
   "codemirror_mode": {
    "name": "ipython",
    "version": 3
   },
   "file_extension": ".py",
   "mimetype": "text/x-python",
   "name": "python",
   "nbconvert_exporter": "python",
   "pygments_lexer": "ipython3",
   "version": "3.10.11"
  }
 },
 "nbformat": 4,
 "nbformat_minor": 1
}

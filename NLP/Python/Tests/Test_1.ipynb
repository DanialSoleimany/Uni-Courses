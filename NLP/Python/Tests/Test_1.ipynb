{
  "nbformat": 4,
  "nbformat_minor": 0,
  "metadata": {
    "colab": {
      "provenance": []
    },
    "kernelspec": {
      "name": "python3",
      "display_name": "Python 3"
    },
    "language_info": {
      "name": "python"
    }
  },
  "cells": [
    {
      "cell_type": "code",
      "source": [
        "def find_vowels(text):\n",
        "  vowels = \"aeiouAEIOU\"\n",
        "  n_vowels = 0\n",
        "  for char in text:\n",
        "    if char in vowels:\n",
        "      n_vowels += 1\n",
        "  return n_vowels"
      ],
      "metadata": {
        "id": "yWhydxikK8ZX"
      },
      "execution_count": 11,
      "outputs": []
    },
    {
      "cell_type": "code",
      "source": [
        "text = \"Programming is both an art and a science. It requires creativity, logical thinking, and the ability to solve problems. Many people start learning programming as a hobby, but later realize it can become a rewarding career. As technology continues to advance, the demand for skilled programmers grows. Whether it's building websites, developing mobile apps, or creating software solutions, programming offers a vast range of possibilities for those willing to put in the effort and learn the necessary skills.\""
      ],
      "metadata": {
        "id": "AaNc9V8hNiFp"
      },
      "execution_count": 12,
      "outputs": []
    },
    {
      "cell_type": "code",
      "source": [
        "n_vowels = find_vowels(text)"
      ],
      "metadata": {
        "id": "jdrSJYy2N8Ir"
      },
      "execution_count": 13,
      "outputs": []
    },
    {
      "cell_type": "code",
      "source": [
        "n_vowels"
      ],
      "metadata": {
        "colab": {
          "base_uri": "https://localhost:8080/"
        },
        "id": "02q3yPA8N9cx",
        "outputId": "97855260-8474-44e7-d484-ca13b5ba6cb7"
      },
      "execution_count": 14,
      "outputs": [
        {
          "output_type": "execute_result",
          "data": {
            "text/plain": [
              "154"
            ]
          },
          "metadata": {},
          "execution_count": 14
        }
      ]
    }
  ]
}
{
 "cells": [
  {
   "cell_type": "markdown",
   "id": "96129ff5",
   "metadata": {},
   "source": [
    "# Introduction\n",
    "\n",
    "CBOW (Continuous Bag of Words) is a neural network architecture used to learn word embeddings by predicting a target word based on its surrounding context words. Given a fixed-size window of words before and after a missing or central word, the CBOW model computes a combined (typically averaged) representation of these context words and uses it to predict the most probable target word that fits in the center. It treats the context as a “bag of words,” meaning it ignores the order of the surrounding words and focuses only on their presence. CBOW is efficient, especially for frequent words, and helps capture semantic relationships by learning vector representations where similar words have similar meanings in the vector space."
   ]
  },
  {
   "cell_type": "markdown",
   "id": "8dc38c07",
   "metadata": {},
   "source": [
    "# 📚 Table of Contents\n",
    "\n",
    "**1. Text with Blanks**  \n",
    "Define the paragraph containing missing words (represented as `____`) that we want the model to fill.\n",
    "\n",
    "**2. Original Clean Text**  \n",
    "Provide the full, original version of the text to train the CBOW model before attempting to fill in the blanks.\n",
    "\n",
    "**3. Preprocessing and Vocabulary Construction**  \n",
    "Convert the text into lowercase, remove punctuation, tokenize it into words, and build the vocabulary with word-to-index mappings.\n",
    "\n",
    "**4. CBOW (Continuous Bag of Words) Training Data Creation**  \n",
    "Generate pairs of context words and their corresponding target word based on a fixed context window size.\n",
    "\n",
    "**5. Utility Functions**  \n",
    "Define helper functions such as one-hot encoding, softmax, cosine similarity, etc., which are used throughout the model.\n",
    "\n",
    "**6. Weight Initialization**  \n",
    "Randomly initialize two weight matrices (W1 and W2) that will be learned during model training.\n",
    "\n",
    "**7. CBOW Training Loop**  \n",
    "Implement the training process using forward pass, loss calculation (cross-entropy), and backpropagation for weight updates.\n",
    "\n",
    "**8. Word Embedding Extraction**  \n",
    "Retrieve the final learned word vector (embedding) for any word in the vocabulary after training.\n",
    "\n",
    "**9. Missing Word Prediction Function**  \n",
    "Define a function that takes context words and predicts the most probable missing word using the trained model.\n",
    "\n",
    "**10. Context Extraction for Blanks**  \n",
    "For each blank (`____`), extract the surrounding words within a defined window to serve as context for prediction.\n",
    "\n",
    "**11. Model Training**  \n",
    "Train the CBOW model on the clean original text using a defined number of epochs and learning rate.\n",
    "\n",
    "**12. Blank Filling Procedure**  \n",
    "Iterate through the text with blanks, use the model to predict missing words, and replace each `____` with the predicted word.\n",
    "\n",
    "**13. Final Reconstructed Text**  \n",
    "Rebuild the final paragraph by joining all words (including predicted ones) into a readable and completed sentence.\n"
   ]
  },
  {
   "cell_type": "markdown",
   "id": "b1442f34",
   "metadata": {},
   "source": [
    "### Import Libraries"
   ]
  },
  {
   "cell_type": "code",
   "execution_count": 1,
   "id": "996625bb",
   "metadata": {},
   "outputs": [],
   "source": [
    "import numpy as np\n",
    "import re\n",
    "from collections import Counter\n",
    "from numpy.linalg import norm\n",
    "import pandas as pd"
   ]
  },
  {
   "cell_type": "markdown",
   "id": "9e63da57",
   "metadata": {},
   "source": [
    "### 1. Text with Blanks"
   ]
  },
  {
   "cell_type": "code",
   "execution_count": 2,
   "id": "abc8d13b",
   "metadata": {},
   "outputs": [],
   "source": [
    "text_with_blanks = \"\"\"In a ____ where knowledge holds immense ____,\n",
    "one must strive to seek the truth. You shall know the truth,\n",
    "and it is through this ____ that you shall find freedom.\n",
    "The path to ____ begins with awareness,\n",
    "and awareness begins with a deep understanding of what is real.\"\"\""
   ]
  },
  {
   "cell_type": "markdown",
   "id": "fd998b9d",
   "metadata": {},
   "source": [
    "### 2. Original Clean Text"
   ]
  },
  {
   "cell_type": "code",
   "execution_count": 3,
   "id": "e982408a",
   "metadata": {},
   "outputs": [],
   "source": [
    "original_text = \"\"\"In a world where knowledge holds immense power,\n",
    "one must strive to seek the truth. You shall know the truth,\n",
    "and it is through this truth that you shall find freedom.\n",
    "The path to liberation begins with awareness,\n",
    "and awareness begins with a deep understanding of what is real.\"\"\""
   ]
  },
  {
   "cell_type": "markdown",
   "id": "8667638f",
   "metadata": {},
   "source": [
    "### 3. Preprocessing and Vocabulary Construction"
   ]
  },
  {
   "cell_type": "code",
   "execution_count": 4,
   "id": "780340cf",
   "metadata": {},
   "outputs": [
    {
     "name": "stdout",
     "output_type": "stream",
     "text": [
      "['in', 'a', 'world', 'where', 'knowledge', 'holds', 'immense', 'power', 'one', 'must', 'strive', 'to', 'seek', 'the', 'truth', 'you', 'shall', 'know', 'the', 'truth', 'and', 'it', 'is', 'through', 'this', 'truth', 'that', 'you', 'shall', 'find', 'freedom', 'the', 'path', 'to', 'liberation', 'begins', 'with', 'awareness', 'and', 'awareness', 'begins', 'with', 'a', 'deep', 'understanding', 'of', 'what', 'is', 'real']\n"
     ]
    }
   ],
   "source": [
    "words = re.findall(r'\\w+', original_text.lower())\n",
    "print(words)"
   ]
  },
  {
   "cell_type": "code",
   "execution_count": 5,
   "id": "0b87588a",
   "metadata": {},
   "outputs": [
    {
     "name": "stdout",
     "output_type": "stream",
     "text": [
      "['seek', 'path', 'strive', 'a', 'world', 'and', 'in', 'must', 'find', 'awareness', 'what', 'understanding', 'where', 'freedom', 'immense', 'truth', 'power', 'you', 'liberation', 'with', 'real', 'one', 'is', 'knowledge', 'shall', 'the', 'this', 'know', 'begins', 'deep', 'it', 'through', 'holds', 'to', 'that', 'of']\n"
     ]
    }
   ],
   "source": [
    "vocab = list(set(words))\n",
    "print(vocab)"
   ]
  },
  {
   "cell_type": "code",
   "execution_count": 6,
   "id": "eeafc23b",
   "metadata": {},
   "outputs": [
    {
     "name": "stdout",
     "output_type": "stream",
     "text": [
      "{'seek': 0, 'path': 1, 'strive': 2, 'a': 3, 'world': 4, 'and': 5, 'in': 6, 'must': 7, 'find': 8, 'awareness': 9, 'what': 10, 'understanding': 11, 'where': 12, 'freedom': 13, 'immense': 14, 'truth': 15, 'power': 16, 'you': 17, 'liberation': 18, 'with': 19, 'real': 20, 'one': 21, 'is': 22, 'knowledge': 23, 'shall': 24, 'the': 25, 'this': 26, 'know': 27, 'begins': 28, 'deep': 29, 'it': 30, 'through': 31, 'holds': 32, 'to': 33, 'that': 34, 'of': 35}\n"
     ]
    }
   ],
   "source": [
    "word2idx = {w: i for i, w in enumerate(vocab)}\n",
    "print(word2idx)"
   ]
  },
  {
   "cell_type": "code",
   "execution_count": 7,
   "id": "3f5c6fcf",
   "metadata": {},
   "outputs": [
    {
     "name": "stdout",
     "output_type": "stream",
     "text": [
      "{0: 'seek', 1: 'path', 2: 'strive', 3: 'a', 4: 'world', 5: 'and', 6: 'in', 7: 'must', 8: 'find', 9: 'awareness', 10: 'what', 11: 'understanding', 12: 'where', 13: 'freedom', 14: 'immense', 15: 'truth', 16: 'power', 17: 'you', 18: 'liberation', 19: 'with', 20: 'real', 21: 'one', 22: 'is', 23: 'knowledge', 24: 'shall', 25: 'the', 26: 'this', 27: 'know', 28: 'begins', 29: 'deep', 30: 'it', 31: 'through', 32: 'holds', 33: 'to', 34: 'that', 35: 'of'}\n"
     ]
    }
   ],
   "source": [
    "idx2word = {i: w for w, i in word2idx.items()}\n",
    "print(idx2word)"
   ]
  },
  {
   "cell_type": "code",
   "execution_count": 8,
   "id": "1db11acf",
   "metadata": {},
   "outputs": [
    {
     "data": {
      "text/plain": [
       "36"
      ]
     },
     "execution_count": 8,
     "metadata": {},
     "output_type": "execute_result"
    }
   ],
   "source": [
    "vocab_size = len(vocab)\n",
    "vocab_size"
   ]
  },
  {
   "cell_type": "markdown",
   "id": "801c7aba",
   "metadata": {},
   "source": [
    "### 4. CBOW Training Data Creation"
   ]
  },
  {
   "cell_type": "code",
   "execution_count": 9,
   "id": "c6477908",
   "metadata": {},
   "outputs": [],
   "source": [
    "window_size = 2\n",
    "training_data = []\n",
    "\n",
    "for i in range(window_size, len(words) - window_size): \n",
    "    context = (\n",
    "        [words[i - j] for j in range(window_size, 0, -1)] +\n",
    "        [words[i + j] for j in range(1, window_size + 1)]\n",
    "    )\n",
    "    target = words[i] \n",
    "    training_data.append([context, target])"
   ]
  },
  {
   "cell_type": "code",
   "execution_count": 10,
   "id": "69b5d7dd",
   "metadata": {},
   "outputs": [
    {
     "data": {
      "text/plain": [
       "[[['in', 'a', 'where', 'knowledge'], 'world'],\n",
       " [['a', 'world', 'knowledge', 'holds'], 'where'],\n",
       " [['world', 'where', 'holds', 'immense'], 'knowledge'],\n",
       " [['where', 'knowledge', 'immense', 'power'], 'holds'],\n",
       " [['knowledge', 'holds', 'power', 'one'], 'immense'],\n",
       " [['holds', 'immense', 'one', 'must'], 'power'],\n",
       " [['immense', 'power', 'must', 'strive'], 'one'],\n",
       " [['power', 'one', 'strive', 'to'], 'must'],\n",
       " [['one', 'must', 'to', 'seek'], 'strive'],\n",
       " [['must', 'strive', 'seek', 'the'], 'to'],\n",
       " [['strive', 'to', 'the', 'truth'], 'seek'],\n",
       " [['to', 'seek', 'truth', 'you'], 'the'],\n",
       " [['seek', 'the', 'you', 'shall'], 'truth'],\n",
       " [['the', 'truth', 'shall', 'know'], 'you'],\n",
       " [['truth', 'you', 'know', 'the'], 'shall'],\n",
       " [['you', 'shall', 'the', 'truth'], 'know'],\n",
       " [['shall', 'know', 'truth', 'and'], 'the'],\n",
       " [['know', 'the', 'and', 'it'], 'truth'],\n",
       " [['the', 'truth', 'it', 'is'], 'and'],\n",
       " [['truth', 'and', 'is', 'through'], 'it'],\n",
       " [['and', 'it', 'through', 'this'], 'is'],\n",
       " [['it', 'is', 'this', 'truth'], 'through'],\n",
       " [['is', 'through', 'truth', 'that'], 'this'],\n",
       " [['through', 'this', 'that', 'you'], 'truth'],\n",
       " [['this', 'truth', 'you', 'shall'], 'that'],\n",
       " [['truth', 'that', 'shall', 'find'], 'you'],\n",
       " [['that', 'you', 'find', 'freedom'], 'shall'],\n",
       " [['you', 'shall', 'freedom', 'the'], 'find'],\n",
       " [['shall', 'find', 'the', 'path'], 'freedom'],\n",
       " [['find', 'freedom', 'path', 'to'], 'the'],\n",
       " [['freedom', 'the', 'to', 'liberation'], 'path'],\n",
       " [['the', 'path', 'liberation', 'begins'], 'to'],\n",
       " [['path', 'to', 'begins', 'with'], 'liberation'],\n",
       " [['to', 'liberation', 'with', 'awareness'], 'begins'],\n",
       " [['liberation', 'begins', 'awareness', 'and'], 'with'],\n",
       " [['begins', 'with', 'and', 'awareness'], 'awareness'],\n",
       " [['with', 'awareness', 'awareness', 'begins'], 'and'],\n",
       " [['awareness', 'and', 'begins', 'with'], 'awareness'],\n",
       " [['and', 'awareness', 'with', 'a'], 'begins'],\n",
       " [['awareness', 'begins', 'a', 'deep'], 'with'],\n",
       " [['begins', 'with', 'deep', 'understanding'], 'a'],\n",
       " [['with', 'a', 'understanding', 'of'], 'deep'],\n",
       " [['a', 'deep', 'of', 'what'], 'understanding'],\n",
       " [['deep', 'understanding', 'what', 'is'], 'of'],\n",
       " [['understanding', 'of', 'is', 'real'], 'what']]"
      ]
     },
     "execution_count": 10,
     "metadata": {},
     "output_type": "execute_result"
    }
   ],
   "source": [
    "training_data"
   ]
  },
  {
   "cell_type": "markdown",
   "id": "bd2c5107",
   "metadata": {},
   "source": [
    "### 5. Utility Functions"
   ]
  },
  {
   "cell_type": "code",
   "execution_count": 11,
   "id": "60544571",
   "metadata": {},
   "outputs": [],
   "source": [
    "def word_to_onehot(word): \n",
    "    vec = np.zeros(vocab_size) \n",
    "    vec[word2idx[word]] = 1 \n",
    "    return vec"
   ]
  },
  {
   "cell_type": "code",
   "execution_count": 12,
   "id": "e603d1f8",
   "metadata": {},
   "outputs": [
    {
     "data": {
      "text/plain": [
       "array([0., 0., 0., 0., 0., 1., 0., 0., 0., 0., 0., 0., 0., 0., 0., 0., 0.,\n",
       "       0., 0., 0., 0., 0., 0., 0., 0., 0., 0., 0., 0., 0., 0., 0., 0., 0.,\n",
       "       0., 0.])"
      ]
     },
     "execution_count": 12,
     "metadata": {},
     "output_type": "execute_result"
    }
   ],
   "source": [
    "word_to_onehot(\"and\")"
   ]
  },
  {
   "cell_type": "markdown",
   "id": "91e399b6",
   "metadata": {},
   "source": [
    "### Softmax"
   ]
  },
  {
   "cell_type": "markdown",
   "id": "b5e3eed7",
   "metadata": {},
   "source": [
    "![description](softmax.png)"
   ]
  },
  {
   "cell_type": "code",
   "execution_count": 13,
   "id": "5dd426a8",
   "metadata": {},
   "outputs": [],
   "source": [
    "def softmax(x): \n",
    "    e_x = np.exp(x) \n",
    "    return e_x / np.sum(e_x)"
   ]
  },
  {
   "cell_type": "markdown",
   "id": "f8dbfa13",
   "metadata": {},
   "source": [
    "### cosine_similarity"
   ]
  },
  {
   "cell_type": "markdown",
   "id": "e2082210",
   "metadata": {},
   "source": [
    "![description](cs.png)"
   ]
  },
  {
   "cell_type": "code",
   "execution_count": 14,
   "id": "4f4b55e0",
   "metadata": {},
   "outputs": [],
   "source": [
    "def cosine_similarity(v1, v2): \n",
    "    return np.dot(v1, v2) / (norm(v1) * norm(v2))"
   ]
  },
  {
   "cell_type": "markdown",
   "id": "de7116cc",
   "metadata": {},
   "source": [
    "### 6. Weight Initialization"
   ]
  },
  {
   "cell_type": "code",
   "execution_count": 15,
   "id": "39a8d2ce",
   "metadata": {},
   "outputs": [],
   "source": [
    "embedding_size = 10\n",
    "W1 = np.random.randn(vocab_size, embedding_size)\n",
    "W2 = np.random.randn(embedding_size, vocab_size)"
   ]
  },
  {
   "cell_type": "code",
   "execution_count": 16,
   "id": "c518399f",
   "metadata": {
    "scrolled": false
   },
   "outputs": [
    {
     "name": "stdout",
     "output_type": "stream",
     "text": [
      "[ 0.33778226 -1.20460252 -0.5313687  -0.36628509 -0.68015166 -0.06997364\n",
      "  1.34723843 -0.09789417  0.68917642  1.7539125 ]\n",
      "\n",
      "[-0.83231963 -0.41646749  1.15329715  0.50040134 -1.10089516  0.31658547\n",
      " -0.69460133  1.71040067  0.15381943 -0.17266875]\n",
      "\n",
      "[-0.61882282 -0.39091241  0.19502879 -0.38320889  1.97655631 -0.68166635\n",
      "  0.64021659 -0.54026835  0.27952969 -1.00849724]\n",
      "\n",
      "[-0.08207348 -1.70132408  0.23804193 -0.33589806 -0.55364757 -0.37070888\n",
      "  0.0181981   1.64853284  1.02826813  0.21967641]\n",
      "\n",
      "[ 1.2828925   0.36965927  0.48294673  0.15121616  0.66058636  0.70987494\n",
      " -1.14913248  1.03277768 -1.16062833  1.60662147]\n",
      "\n",
      "[-2.28836707 -0.14432359  1.26624947  1.56844574  0.33793155 -0.45084976\n",
      "  0.0097666  -0.16272751  0.78512274  1.49104151]\n",
      "\n",
      "[ 0.56378539  0.75050187  1.06056114  0.86032958 -0.45497603  0.43333374\n",
      " -0.68998786  0.72670877 -0.86775053  1.76098891]\n",
      "\n",
      "[-0.48173927 -0.1882952  -0.264587    0.13236801  2.29796084  0.30730652\n",
      " -1.76528193 -0.52643456  1.48445105  1.78128927]\n",
      "\n",
      "[-0.00660138 -0.76115927 -0.18421658  0.47793747 -0.81709058 -0.19594651\n",
      " -0.04626639 -1.56232524 -0.81733752 -0.408323  ]\n",
      "\n",
      "[-0.30648616  1.73963455 -1.30831455  0.18415965 -0.31024019  0.98011032\n",
      " -1.08746331 -1.902349   -0.63542536 -0.35146538]\n",
      "\n",
      "[-0.82976837  0.33991218  0.6263241   0.46914103 -0.55022808 -0.15342475\n",
      " -0.23488773 -0.58573334  1.82910683 -2.23882858]\n",
      "\n",
      "[ 1.15898491 -0.41440051 -0.56922889  1.21522241 -0.49525281  0.52956634\n",
      " -0.24978901 -0.74679419 -0.01530915 -0.47126871]\n",
      "\n",
      "[-0.90152739  1.32448624  1.07294448 -0.40402735 -0.29889401  0.28847489\n",
      " -0.02466551 -0.47095604 -0.76391677 -0.88559518]\n",
      "\n",
      "[ 0.65947482 -0.5018182  -0.48194432 -0.92696467  0.90136679  0.96137894\n",
      "  1.32679847 -0.11863326 -0.46179593 -0.64717992]\n",
      "\n",
      "[ 1.58600321  0.75807128  0.52598867 -2.2515357   0.09373684 -0.15927495\n",
      " -1.99974726  1.64722446 -1.29154724  0.8112897 ]\n",
      "\n",
      "[-1.16281397  1.37917331  0.10931854  0.42393616  0.32976903  0.19071628\n",
      "  0.0541985   1.01008177  1.09628051  0.42954136]\n",
      "\n",
      "[-0.21653449  0.07241834  0.39854784 -1.70096653  1.64506819  1.04404402\n",
      " -0.31671731  0.08511228 -1.5100939  -0.00620495]\n",
      "\n",
      "[-2.62199701e+00 -1.36314272e+00  7.27753199e-01 -7.37753391e-04\n",
      "  7.90765352e-01 -1.20454438e+00 -1.06565488e+00 -1.09263155e+00\n",
      "  2.59016718e+00  1.55666315e+00]\n",
      "\n",
      "[-0.01878084 -0.29504853 -1.50471485 -0.35570231 -0.88172541 -2.67348153\n",
      " -1.05551206  0.34513035  0.78820205  2.48792632]\n",
      "\n",
      "[-0.74567349 -0.32649764 -0.34069037 -0.04155001  0.58665322 -0.25861769\n",
      "  0.14432394 -0.44038406  0.37567466 -1.21631286]\n",
      "\n",
      "[ 0.85647831  1.95470235  0.75312798  0.10820177 -1.04224613 -1.01909502\n",
      "  0.24631555 -0.37815955 -0.35441165  0.78312771]\n",
      "\n",
      "[-0.65019556 -0.39495142 -1.86637811  1.09184439  0.03180474 -1.15240101\n",
      "  1.09352956  0.34394362 -0.90063776 -0.03466011]\n",
      "\n",
      "[ 0.36690579  0.50280185 -0.74974343  0.18131609 -0.99758059 -0.90600347\n",
      " -1.37654537 -0.55010979  1.04759105 -1.67091367]\n",
      "\n",
      "[ 0.1837231  -0.16062787 -0.90332962  0.46872116 -0.3502157   0.6981476\n",
      "  0.48445031  0.42256358 -0.0214796  -2.534208  ]\n",
      "\n",
      "[-1.72505498 -0.37877111 -1.2218984  -0.98090367  0.47746899  1.23502451\n",
      " -1.2830204  -0.47393118  1.06309732  0.6215511 ]\n",
      "\n",
      "[ 0.96088968 -0.55286493 -1.20937621  0.2952452  -0.17060928 -0.84468218\n",
      " -1.14229868 -0.03267292 -0.28985304  0.3349864 ]\n",
      "\n",
      "[-0.76043008 -1.08384081 -0.44209895 -1.00697626 -2.83707265  0.02199031\n",
      " -0.86664773 -0.03938349 -1.29036142 -0.92372106]\n",
      "\n",
      "[-0.23847613 -0.11431594 -1.89262055  1.32627332  0.27683786 -0.1851151\n",
      " -0.04483002 -0.29550319 -0.38800667 -0.48211842]\n",
      "\n",
      "[ 1.06851021 -0.23539567  0.09775996 -0.13897817 -1.00662266 -0.24639551\n",
      " -0.65292481 -1.11585598  0.11561513 -0.21441384]\n",
      "\n",
      "[-0.11213318 -0.679695   -0.12106741  0.84614611  0.5246      0.5834984\n",
      "  1.67371543 -0.77520343  0.88459498 -0.2438904 ]\n",
      "\n",
      "[ 0.69721144  0.73396348  1.78093194  2.81015681 -0.90641776 -1.98267135\n",
      "  0.18137498  0.32503656 -1.73467122  0.55882347]\n",
      "\n",
      "[-1.68754953 -0.21208809  0.4727296   0.4777021  -0.83874773 -0.45089552\n",
      " -0.83108464  0.39305185  0.50928659 -0.07948876]\n",
      "\n",
      "[ 1.33501286 -0.15304801 -0.07977251 -0.46743551 -0.28048487 -0.77458554\n",
      " -0.1457225   0.10317868 -0.38036127  0.03734791]\n",
      "\n",
      "[ 0.56217375 -0.59736605 -0.08531916  0.24886326  0.68662996  0.09003532\n",
      " -0.82405772 -0.87624706  0.19913575  1.10141922]\n",
      "\n",
      "[ 0.2011383  -0.35844355  0.19836379 -1.63047721 -0.82814453 -0.689065\n",
      "  0.60416619  0.8903612   1.02632859 -1.97949721]\n",
      "\n",
      "[ 0.98158032 -0.70380276 -1.11286177  0.53439527  0.22976329  0.25163348\n",
      " -0.63978864 -2.12797642 -0.29034179 -0.40352215]\n",
      "\n"
     ]
    }
   ],
   "source": [
    "for w in W1:\n",
    "    print(w)\n",
    "    print()"
   ]
  },
  {
   "cell_type": "code",
   "execution_count": 17,
   "id": "4e39c07a",
   "metadata": {},
   "outputs": [
    {
     "name": "stdout",
     "output_type": "stream",
     "text": [
      "[ 0.67860269 -1.71731239 -0.95920496  0.65372007 -2.27636258 -0.75345074\n",
      "  1.01327858 -0.42046474  1.55656135  1.67101768 -0.26108949 -0.27586962\n",
      " -0.6635004  -0.81682508  0.66086686  0.18423991 -0.21168071 -0.36131349\n",
      "  0.1381996   0.09283225 -1.80581129  0.04715965  0.02367211 -0.58177224\n",
      " -0.44752913 -0.16753873 -1.52476586  1.68174267 -0.92328954  1.84862946\n",
      "  1.1286734  -0.66261733 -0.61345421  0.21081274 -0.20792785  1.21997304]\n",
      "\n",
      "[ 1.11952494  0.05677692  1.11166742 -0.52759849  0.54124325 -1.32689728\n",
      "  0.41932367  0.63977648  1.30053631 -0.24608426  2.29484367 -1.30022039\n",
      " -0.47764942 -2.31774093 -0.01753492 -0.33328329  0.89359865  0.00496097\n",
      "  0.81624922  2.44405771  0.42178988 -0.81443968  0.5069484   0.13551767\n",
      "  1.0832627  -1.52108374  2.03424915 -1.02623829  0.58468899 -0.64494097\n",
      "  0.91619116  2.84815956 -0.20814604  1.19380529  1.94938628  0.23557442]\n",
      "\n",
      "[ 1.04094784 -0.60265714  1.03585258 -0.82540771  0.51885367  0.75682983\n",
      "  0.23507265  0.35138716  1.9827737  -1.83213908 -0.26557325  1.31545645\n",
      " -0.93184365  0.83529809  0.23824921 -0.03274097 -1.01415632  1.01497274\n",
      " -0.05357059  1.7050323  -0.6921249  -0.02792548  0.33279794 -0.39364744\n",
      "  0.28146538 -0.81904471 -0.11754488  0.65961297 -0.14821513  0.81316957\n",
      " -0.0795062   1.6654728   0.70177338  0.92661767 -1.45191189  0.51511181]\n",
      "\n",
      "[ 0.11472054 -1.22823871  0.94132225  1.57284022 -1.57594628  0.4330702\n",
      "  0.48239273  0.62297005  0.57294808 -0.77290147  0.51631321 -0.17809225\n",
      "  0.53317325  0.03185419  0.8923275   1.50446988  1.90386633  0.16100449\n",
      " -0.17510587  0.06680662  0.8419878  -0.44628093  0.47629015  0.13117282\n",
      "  2.01358688 -1.21060666  0.54721046 -0.26900073  1.41219567  0.54380457\n",
      " -0.1248423   1.33987221 -0.34586709  1.12201875  2.22038621  0.84707653]\n",
      "\n",
      "[-0.734364   -1.01107217  1.19174886  0.1373724  -0.08977271 -1.52161632\n",
      " -0.22801538  0.76938893 -0.19568854 -0.10080508  0.4930127  -0.3762313\n",
      "  0.23489642  0.32419822 -0.00373737  1.27851589  0.12815939 -0.72575319\n",
      " -0.04110183 -1.0282153  -0.45268388  0.7805345  -0.30436118  1.67058454\n",
      " -0.63555956  0.108154   -0.40913971 -1.85720607  1.37653996  0.52106868\n",
      " -1.29199486 -1.23254852 -0.18697884  0.0638447  -0.39918422 -0.72891587]\n",
      "\n",
      "[ 0.59486632  0.27194957  1.38684365  0.04258598 -1.12978096  0.02469126\n",
      " -0.59070857  0.80952261 -0.20855437  1.60034971  0.06229821 -0.11397589\n",
      " -0.80201695  1.26729769  1.07470313  0.28220695  1.29622671 -1.71341861\n",
      " -1.99057029  0.99487029  0.96858118  0.0511282   1.79882833 -0.66990465\n",
      " -1.01634645 -0.78031268 -0.58648034 -0.08563061 -0.03704918  1.44068619\n",
      "  0.1570519   0.44155662  0.64457457 -0.08952714 -1.47432535 -0.77921986]\n",
      "\n",
      "[-1.08915883 -1.11854055  0.78532751  0.19216926 -0.64192081  0.60172047\n",
      " -1.75678701 -0.05482211 -0.43533227 -0.59218224 -0.30905518  1.23605145\n",
      " -0.30546675 -0.03766869  0.23028503 -0.45463247 -0.87498848 -1.02696352\n",
      " -1.45389698 -0.21970575  0.74952235 -0.33679261  0.96631963 -0.43708272\n",
      "  0.75396299  1.56656202  1.39243634 -0.65760121  0.55134138 -1.3322369\n",
      "  2.17836341 -0.76544186 -0.53745204  0.27739321  0.83137332  0.54670209]\n",
      "\n",
      "[ 1.11564319  0.20878246 -0.0317862  -0.49689969  0.81062558  0.56519568\n",
      "  1.11625768 -1.43317346 -0.9755583  -0.07914427  1.32806668  0.18410747\n",
      "  0.26457162  2.15656674  0.49656937 -1.51055012  1.13270317 -0.66754245\n",
      "  0.82599387 -0.53960072  0.60410837 -1.90930732 -0.92801967  0.38801938\n",
      "  0.55898302 -0.10680615  1.08119295  1.15934312 -1.82256122 -0.50516642\n",
      "  1.11936943  0.07304586  0.66810068  0.4043727  -0.09062125  0.91201812]\n",
      "\n",
      "[ 0.51859758 -0.2674937  -1.50570168  0.6874138  -0.57283785 -2.23094802\n",
      " -0.53754546 -1.22917797 -0.15729569 -1.02920193 -0.11674327  0.39789196\n",
      " -0.7604608  -0.91979502 -0.66651856  1.39233302 -0.6668286  -1.43887551\n",
      " -0.53267238  0.36540151  1.20537161 -0.43747513  0.79529377 -0.32595225\n",
      " -0.42187889  1.73643073 -1.87244064  0.4069765   1.49868365 -0.52909391\n",
      "  0.37213214  0.32062137  0.44105514 -0.73501693 -1.52431548 -0.28054803]\n",
      "\n",
      "[ 2.19543584  1.96792333  1.50618662  0.54576851 -0.95232629  0.70245064\n",
      "  1.95306414  1.10032188 -1.11244961  0.62414493  1.21440969  0.5277849\n",
      "  0.82409452 -0.23566503 -0.01956857  0.0466219  -0.36144394 -1.88497048\n",
      " -1.12716887  0.46850359 -0.50628993 -2.25404749 -0.87320858  0.91388883\n",
      " -1.14428714  0.06986931  1.58321538  0.7938552  -0.48926455  0.62729459\n",
      " -0.14451045  0.66705334 -0.47320677 -0.27003956  0.01272049 -0.55726848]\n",
      "\n"
     ]
    }
   ],
   "source": [
    "for w in W2:\n",
    "    print(w)\n",
    "    print()"
   ]
  },
  {
   "cell_type": "markdown",
   "id": "d4914107",
   "metadata": {},
   "source": [
    "### 7. CBOW Training Loop"
   ]
  },
  {
   "cell_type": "markdown",
   "id": "6b885dcd",
   "metadata": {},
   "source": [
    "#### Gradeint Descent"
   ]
  },
  {
   "cell_type": "markdown",
   "id": "e5aa78d6",
   "metadata": {},
   "source": [
    "![description](gd.png)"
   ]
  },
  {
   "cell_type": "code",
   "execution_count": 18,
   "id": "d2e0c28d",
   "metadata": {},
   "outputs": [],
   "source": [
    "def train_cbow(epochs=1000, learning_rate=0.01):\n",
    "    global W1, W2\n",
    "    for epoch in range(epochs):\n",
    "        total_loss = 0\n",
    "        for context_words, target_word in training_data:\n",
    "            x = np.sum([word_to_onehot(w) for w in context_words], axis=0) / len(context_words)\n",
    "            y_true = word_to_onehot(target_word)\n",
    "\n",
    "            # forward\n",
    "            h = np.dot(W1.T, x)\n",
    "            u = np.dot(W2.T, h)\n",
    "            y_pred = softmax(u)\n",
    "\n",
    "            # loss & backprop\n",
    "            loss = -np.log(y_pred[np.argmax(y_true)] + 1e-7)\n",
    "            error = y_pred - y_true\n",
    "            dW2 = np.outer(h, error)\n",
    "            dW1 = np.outer(x, np.dot(W2, error))\n",
    "\n",
    "            # update\n",
    "            W1 -= learning_rate * dW1\n",
    "            W2 -= learning_rate * dW2\n",
    "\n",
    "            total_loss += loss\n",
    "\n",
    "        if epoch % 100 == 0:\n",
    "            print(f\"Epoch {epoch}, Loss: {total_loss:.4f}\")"
   ]
  },
  {
   "cell_type": "markdown",
   "id": "9e22d117",
   "metadata": {},
   "source": [
    "### 8. Word Embedding Extraction"
   ]
  },
  {
   "cell_type": "code",
   "execution_count": 19,
   "id": "48c38921",
   "metadata": {},
   "outputs": [
    {
     "data": {
      "text/plain": [
       "array([-1.16281397,  1.37917331,  0.10931854,  0.42393616,  0.32976903,\n",
       "        0.19071628,  0.0541985 ,  1.01008177,  1.09628051,  0.42954136])"
      ]
     },
     "execution_count": 19,
     "metadata": {},
     "output_type": "execute_result"
    }
   ],
   "source": [
    "def get_embedding(word): \n",
    "    return W1[word2idx[word]]\n",
    "\n",
    "get_embedding(\"truth\")"
   ]
  },
  {
   "cell_type": "markdown",
   "id": "a00f9c68",
   "metadata": {},
   "source": [
    "### 9. Missing Word Prediction Function"
   ]
  },
  {
   "cell_type": "code",
   "execution_count": 20,
   "id": "e9bf8358",
   "metadata": {},
   "outputs": [],
   "source": [
    "def predict_cbow(context_words): \n",
    "    valid_context = [w for w in context_words if w in word2idx] \n",
    "    if not valid_context: \n",
    "        return \"____\" \n",
    "    x = np.sum([word_to_onehot(w) for w in valid_context], axis=0) / len(valid_context) \n",
    "    h = np.dot(W1.T, x) \n",
    "    u = np.dot(W2.T, h) \n",
    "    y_pred = softmax(u) \n",
    "    predicted_idx = np.argmax(y_pred) \n",
    "    return idx2word[predicted_idx]"
   ]
  },
  {
   "cell_type": "markdown",
   "id": "344174b1",
   "metadata": {},
   "source": [
    "### 10. Context Extraction for Blanks"
   ]
  },
  {
   "cell_type": "code",
   "execution_count": 21,
   "id": "e8417c35",
   "metadata": {},
   "outputs": [],
   "source": [
    "def get_context(words, index, window=2): \n",
    "    context = [] \n",
    "    for i in range(index - window, index + window + 1): \n",
    "        if i != index and 0 <= i < len(words) and words[i] != \"____\":\n",
    "            context.append(words[i]) \n",
    "    return context"
   ]
  },
  {
   "cell_type": "markdown",
   "id": "63cf6e59",
   "metadata": {},
   "source": [
    "### 11. Model Training"
   ]
  },
  {
   "cell_type": "code",
   "execution_count": 22,
   "id": "f4cf72f7",
   "metadata": {},
   "outputs": [
    {
     "name": "stdout",
     "output_type": "stream",
     "text": [
      "Epoch 0, Loss: 199.3310\n",
      "Epoch 100, Loss: 69.9717\n",
      "Epoch 200, Loss: 30.1245\n",
      "Epoch 300, Loss: 15.4481\n",
      "Epoch 400, Loss: 9.0437\n",
      "Epoch 500, Loss: 5.9789\n",
      "Epoch 600, Loss: 4.3182\n",
      "Epoch 700, Loss: 3.3132\n",
      "Epoch 800, Loss: 2.6536\n",
      "Epoch 900, Loss: 2.1938\n",
      "Epoch 1000, Loss: 1.8581\n",
      "Epoch 1100, Loss: 1.6040\n",
      "Epoch 1200, Loss: 1.4059\n",
      "Epoch 1300, Loss: 1.2478\n",
      "Epoch 1400, Loss: 1.1191\n",
      "Epoch 1500, Loss: 1.0126\n",
      "Epoch 1600, Loss: 0.9231\n",
      "Epoch 1700, Loss: 0.8470\n",
      "Epoch 1800, Loss: 0.7816\n",
      "Epoch 1900, Loss: 0.7249\n",
      "Epoch 2000, Loss: 0.6752\n",
      "Epoch 2100, Loss: 0.6315\n",
      "Epoch 2200, Loss: 0.5926\n",
      "Epoch 2300, Loss: 0.5580\n",
      "Epoch 2400, Loss: 0.5269\n",
      "Epoch 2500, Loss: 0.4988\n",
      "Epoch 2600, Loss: 0.4734\n",
      "Epoch 2700, Loss: 0.4502\n",
      "Epoch 2800, Loss: 0.4291\n",
      "Epoch 2900, Loss: 0.4097\n",
      "Epoch 3000, Loss: 0.3919\n"
     ]
    }
   ],
   "source": [
    "train_cbow(epochs=3001, learning_rate=0.01)"
   ]
  },
  {
   "cell_type": "markdown",
   "id": "0909a2b5",
   "metadata": {},
   "source": [
    "### 12. Blank Filling Procedure"
   ]
  },
  {
   "cell_type": "code",
   "execution_count": 23,
   "id": "411383b8",
   "metadata": {},
   "outputs": [],
   "source": [
    "words_with_blanks = re.findall(r'\\w+|____', text_with_blanks.lower())\n",
    "for i, word in enumerate(words_with_blanks): \n",
    "    if word == \"____\": \n",
    "        context = get_context(words_with_blanks, i, window=2) \n",
    "        prediction = predict_cbow(context) \n",
    "        words_with_blanks[i] = prediction"
   ]
  },
  {
   "cell_type": "markdown",
   "id": "54356923",
   "metadata": {},
   "source": [
    "### 13. Final Reconstructed Text"
   ]
  },
  {
   "cell_type": "code",
   "execution_count": 24,
   "id": "6ad86c1c",
   "metadata": {},
   "outputs": [
    {
     "name": "stdout",
     "output_type": "stream",
     "text": [
      "Original text:\n",
      " In a world where knowledge holds immense power,\n",
      "one must strive to seek the truth. You shall know the truth,\n",
      "and it is through this truth that you shall find freedom.\n",
      "The path to liberation begins with awareness,\n",
      "and awareness begins with a deep understanding of what is real.\n",
      "\n",
      "Text with blanks:\n",
      " In a ____ where knowledge holds immense ____,\n",
      "one must strive to seek the truth. You shall know the truth,\n",
      "and it is through this ____ that you shall find freedom.\n",
      "The path to ____ begins with awareness,\n",
      "and awareness begins with a deep understanding of what is real.\n",
      "\n",
      "Reconstructed Text:\n",
      " in a world where knowledge holds immense power one must strive to seek the truth you shall know the truth and it is through this truth that you shall find freedom the path to liberation begins with awareness and awareness begins with a deep understanding of what is real\n"
     ]
    }
   ],
   "source": [
    "completed_text = ' '.join(words_with_blanks)\n",
    "print(\"Original text:\\n\", original_text)\n",
    "print()\n",
    "print(\"Text with blanks:\\n\", text_with_blanks)\n",
    "print()\n",
    "print(\"Reconstructed Text:\\n\", completed_text)"
   ]
  }
 ],
 "metadata": {
  "kernelspec": {
   "display_name": "Python 3 (ipykernel)",
   "language": "python",
   "name": "python3"
  },
  "language_info": {
   "codemirror_mode": {
    "name": "ipython",
    "version": 3
   },
   "file_extension": ".py",
   "mimetype": "text/x-python",
   "name": "python",
   "nbconvert_exporter": "python",
   "pygments_lexer": "ipython3",
   "version": "3.10.11"
  }
 },
 "nbformat": 4,
 "nbformat_minor": 5
}

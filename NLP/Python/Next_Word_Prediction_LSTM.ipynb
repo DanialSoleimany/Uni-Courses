{
 "cells": [
  {
   "cell_type": "markdown",
   "metadata": {
    "id": "XdEqg82n-cWk"
   },
   "source": [
    "# 🧠 Next Word Prediction with LSTM\n",
    "\n",
    "## 📑 Table of Contents\n",
    "\n",
    "1. **Text Preprocessing and Tokenization**  \n",
    "   Load a simple input sentence, convert it to lowercase, split it into tokens (words), and build the vocabulary. Map each unique word to a unique index.\n",
    "\n",
    "2. **Sequence Generation**  \n",
    "   Prepare training data by creating sequences of fixed length (e.g., 3 words) and use the next word as the label. This helps the model learn the next word prediction task.\n",
    "\n",
    "3. **Embedding Layer Initialization**  \n",
    "   Create a random embedding matrix to convert word indices into dense vector representations. Each word is mapped to a real-valued vector in a continuous space.\n",
    "\n",
    "4. **LSTM Parameter Setup**  \n",
    "   Initialize the weights and biases for all LSTM gates: forget gate, input gate, output gate, and candidate gate. Also initialize the weights for the output softmax layer.\n",
    "\n",
    "5. **Forward Pass Function**  \n",
    "   Manually implement the LSTM forward pass over a sequence of embedded vectors. At each step, update the hidden state and cell state using the gate equations.\n",
    "\n",
    "6. **Training Loop**  \n",
    "   Train the model by looping through all training sequences. Compute loss (cross-entropy), calculate the gradient for the output layer, and update weights using gradient descent.\n",
    "\n",
    "7. **Next Word Prediction**  \n",
    "   Use the trained model to predict the next word given a sequence of words. Feed the input through the LSTM and return the word with the highest predicted probability.\n"
   ]
  },
  {
   "cell_type": "code",
   "execution_count": 3,
   "metadata": {
    "id": "tVIwCiZc-gK0"
   },
   "outputs": [],
   "source": [
    "import numpy as np"
   ]
  },
  {
   "cell_type": "markdown",
   "metadata": {
    "id": "vh1Wqg5S-yqU"
   },
   "source": [
    "### 1. Tokenization"
   ]
  },
  {
   "cell_type": "code",
   "execution_count": 14,
   "metadata": {
    "colab": {
     "base_uri": "https://localhost:8080/",
     "height": 36
    },
    "id": "LneXPRVP-blu",
    "outputId": "4249d1b3-d15f-4840-ca8b-d6196abe68fa"
   },
   "outputs": [
    {
     "data": {
      "application/vnd.google.colaboratory.intrinsic+json": {
       "type": "string"
      },
      "text/plain": [
       "'i went to school today and saw my friend'"
      ]
     },
     "execution_count": 14,
     "metadata": {},
     "output_type": "execute_result"
    }
   ],
   "source": [
    "text = \"i went to school today and saw my friend\"\n",
    "text"
   ]
  },
  {
   "cell_type": "code",
   "execution_count": 15,
   "metadata": {
    "colab": {
     "base_uri": "https://localhost:8080/"
    },
    "id": "UtNXoNYGEZy9",
    "outputId": "50828a31-7ce5-4d72-8296-87edceb6b29c"
   },
   "outputs": [
    {
     "data": {
      "text/plain": [
       "['i', 'went', 'to', 'school', 'today', 'and', 'saw', 'my', 'friend']"
      ]
     },
     "execution_count": 15,
     "metadata": {},
     "output_type": "execute_result"
    }
   ],
   "source": [
    "tokens = text.lower().split()\n",
    "tokens"
   ]
  },
  {
   "cell_type": "code",
   "execution_count": 27,
   "metadata": {
    "colab": {
     "base_uri": "https://localhost:8080/"
    },
    "id": "OfQt3TTiHaL-",
    "outputId": "ba2698a8-ae2b-4056-ddc8-c2277967272b"
   },
   "outputs": [
    {
     "data": {
      "text/plain": [
       "9"
      ]
     },
     "execution_count": 27,
     "metadata": {},
     "output_type": "execute_result"
    }
   ],
   "source": [
    "len(tokens)"
   ]
  },
  {
   "cell_type": "code",
   "execution_count": 16,
   "metadata": {
    "colab": {
     "base_uri": "https://localhost:8080/"
    },
    "id": "pdryKsHkEcWl",
    "outputId": "cac0b123-6caa-4768-d6e9-c0c681717182"
   },
   "outputs": [
    {
     "data": {
      "text/plain": [
       "['and', 'friend', 'i', 'my', 'saw', 'school', 'to', 'today', 'went']"
      ]
     },
     "execution_count": 16,
     "metadata": {},
     "output_type": "execute_result"
    }
   ],
   "source": [
    "vocab = sorted(set(tokens))\n",
    "vocab"
   ]
  },
  {
   "cell_type": "code",
   "execution_count": 17,
   "metadata": {
    "colab": {
     "base_uri": "https://localhost:8080/"
    },
    "id": "KibgBKs4EeBm",
    "outputId": "9a4ccb2f-76ef-4286-a449-853665d06c77"
   },
   "outputs": [
    {
     "data": {
      "text/plain": [
       "{'and': 0,\n",
       " 'friend': 1,\n",
       " 'i': 2,\n",
       " 'my': 3,\n",
       " 'saw': 4,\n",
       " 'school': 5,\n",
       " 'to': 6,\n",
       " 'today': 7,\n",
       " 'went': 8}"
      ]
     },
     "execution_count": 17,
     "metadata": {},
     "output_type": "execute_result"
    }
   ],
   "source": [
    "word2idx = {w: i for i, w in enumerate(vocab)}\n",
    "word2idx"
   ]
  },
  {
   "cell_type": "code",
   "execution_count": 18,
   "metadata": {
    "colab": {
     "base_uri": "https://localhost:8080/"
    },
    "id": "y26ybucIEf3l",
    "outputId": "85bfaf11-ba84-4601-b337-72a53da142fe"
   },
   "outputs": [
    {
     "data": {
      "text/plain": [
       "{0: 'and',\n",
       " 1: 'friend',\n",
       " 2: 'i',\n",
       " 3: 'my',\n",
       " 4: 'saw',\n",
       " 5: 'school',\n",
       " 6: 'to',\n",
       " 7: 'today',\n",
       " 8: 'went'}"
      ]
     },
     "execution_count": 18,
     "metadata": {},
     "output_type": "execute_result"
    }
   ],
   "source": [
    "idx2word = {i: w for w, i in word2idx.items()}\n",
    "idx2word"
   ]
  },
  {
   "cell_type": "code",
   "execution_count": 19,
   "metadata": {
    "colab": {
     "base_uri": "https://localhost:8080/"
    },
    "id": "kH4iXi1KEhN1",
    "outputId": "7975978d-f626-49d1-8f02-2c2a7f03ad00"
   },
   "outputs": [
    {
     "data": {
      "text/plain": [
       "9"
      ]
     },
     "execution_count": 19,
     "metadata": {},
     "output_type": "execute_result"
    }
   ],
   "source": [
    "vocab_size = len(vocab)\n",
    "vocab_size"
   ]
  },
  {
   "cell_type": "code",
   "execution_count": 20,
   "metadata": {
    "colab": {
     "base_uri": "https://localhost:8080/"
    },
    "id": "orgCTPX7Ejb2",
    "outputId": "9351014b-d0d9-4c60-9156-b28654f9c183"
   },
   "outputs": [
    {
     "data": {
      "text/plain": [
       "[2, 8, 6, 5, 7, 0, 4, 3, 1]"
      ]
     },
     "execution_count": 20,
     "metadata": {},
     "output_type": "execute_result"
    }
   ],
   "source": [
    "encoded = [word2idx[w] for w in tokens]\n",
    "encoded"
   ]
  },
  {
   "cell_type": "code",
   "execution_count": 25,
   "metadata": {
    "colab": {
     "base_uri": "https://localhost:8080/"
    },
    "id": "LYYZpR-1HDZu",
    "outputId": "ebf4e403-1db6-42a3-87bf-8f4196f90e40"
   },
   "outputs": [
    {
     "name": "stdout",
     "output_type": "stream",
     "text": [
      "i -> 2\n",
      "went -> 8\n",
      "to -> 6\n",
      "school -> 5\n",
      "today -> 7\n",
      "and -> 0\n",
      "saw -> 4\n",
      "my -> 3\n",
      "friend -> 1\n"
     ]
    }
   ],
   "source": [
    "for token in tokens:\n",
    "    print(f\"{token} -> {word2idx[token]}\")"
   ]
  },
  {
   "cell_type": "markdown",
   "metadata": {
    "id": "NAGKWm2l-wuk"
   },
   "source": [
    "### 2. Create sequences"
   ]
  },
  {
   "cell_type": "code",
   "execution_count": 26,
   "metadata": {
    "colab": {
     "base_uri": "https://localhost:8080/"
    },
    "id": "mfIZ3RPOHT9_",
    "outputId": "29440aaa-b1ec-4c5d-aebc-9ee975ef2144"
   },
   "outputs": [
    {
     "data": {
      "text/plain": [
       "9"
      ]
     },
     "execution_count": 26,
     "metadata": {},
     "output_type": "execute_result"
    }
   ],
   "source": [
    "len(encoded)"
   ]
  },
  {
   "cell_type": "code",
   "execution_count": 35,
   "metadata": {
    "colab": {
     "base_uri": "https://localhost:8080/"
    },
    "id": "wrM6-MZ8-hET",
    "outputId": "aacefed6-c3e5-43dc-c877-4ea1845655d1"
   },
   "outputs": [
    {
     "name": "stdout",
     "output_type": "stream",
     "text": [
      "idx 0: X = [2, 8, 6] → ['i', 'went', 'to'] | y = 5 → 'school'\n",
      "idx 1: X = [8, 6, 5] → ['went', 'to', 'school'] | y = 7 → 'today'\n",
      "idx 2: X = [6, 5, 7] → ['to', 'school', 'today'] | y = 0 → 'and'\n",
      "idx 3: X = [5, 7, 0] → ['school', 'today', 'and'] | y = 4 → 'saw'\n",
      "idx 4: X = [7, 0, 4] → ['today', 'and', 'saw'] | y = 3 → 'my'\n",
      "idx 5: X = [0, 4, 3] → ['and', 'saw', 'my'] | y = 1 → 'friend'\n"
     ]
    }
   ],
   "source": [
    "seq_len = 3\n",
    "X, y = [], []\n",
    "\n",
    "for i in range(len(encoded) - seq_len):\n",
    "    x_seq = encoded[i:i+seq_len]\n",
    "    y_val = encoded[i+seq_len]\n",
    "\n",
    "    x_words = [idx2word[idx] for idx in x_seq]\n",
    "    y_word = idx2word[y_val]\n",
    "\n",
    "    print(f\"idx {i}: X = {x_seq} → {x_words} | y = {y_val} → '{y_word}'\")\n",
    "\n",
    "    X.append(x_seq)\n",
    "    y.append(y_val)"
   ]
  },
  {
   "cell_type": "code",
   "execution_count": 32,
   "metadata": {
    "id": "T5g0YUl9KDZP"
   },
   "outputs": [],
   "source": [
    "X, y = np.array(X), np.array(y)"
   ]
  },
  {
   "cell_type": "code",
   "execution_count": 33,
   "metadata": {
    "colab": {
     "base_uri": "https://localhost:8080/"
    },
    "id": "HQFGEkUdEphl",
    "outputId": "09e134ad-b1c4-4baf-a57f-286a695aba64"
   },
   "outputs": [
    {
     "data": {
      "text/plain": [
       "array([[2, 8, 6],\n",
       "       [8, 6, 5],\n",
       "       [6, 5, 7],\n",
       "       [5, 7, 0],\n",
       "       [7, 0, 4],\n",
       "       [0, 4, 3]])"
      ]
     },
     "execution_count": 33,
     "metadata": {},
     "output_type": "execute_result"
    }
   ],
   "source": [
    "X"
   ]
  },
  {
   "cell_type": "code",
   "execution_count": 34,
   "metadata": {
    "colab": {
     "base_uri": "https://localhost:8080/"
    },
    "id": "fSiT9FjXEqgF",
    "outputId": "cab662bf-6425-485b-f802-50d82a19b6df"
   },
   "outputs": [
    {
     "data": {
      "text/plain": [
       "array([5, 7, 0, 4, 3, 1])"
      ]
     },
     "execution_count": 34,
     "metadata": {},
     "output_type": "execute_result"
    }
   ],
   "source": [
    "y"
   ]
  },
  {
   "cell_type": "markdown",
   "metadata": {
    "id": "w5scaCaI-vAE"
   },
   "source": [
    "### 3. Embedding layer\n",
    "#### Embedding Matrix = L × F (vocab_size x embedding_dim)"
   ]
  },
  {
   "cell_type": "code",
   "execution_count": 44,
   "metadata": {
    "colab": {
     "base_uri": "https://localhost:8080/"
    },
    "id": "U6xFLQ1I-hyE",
    "outputId": "949ea963-4b6a-4d83-b550-3fab40feafc1"
   },
   "outputs": [
    {
     "name": "stdout",
     "output_type": "stream",
     "text": [
      "(9, 16)\n"
     ]
    }
   ],
   "source": [
    "embedding_dim = 16\n",
    "embedding_matrix = np.random.randn(vocab_size, embedding_dim)\n",
    "print(embedding_matrix.shape)"
   ]
  },
  {
   "cell_type": "code",
   "execution_count": 45,
   "metadata": {
    "colab": {
     "base_uri": "https://localhost:8080/"
    },
    "id": "IQRnq7KzK6Wo",
    "outputId": "76ffa115-2f81-4ed5-c7f9-cd1991acdf5b"
   },
   "outputs": [
    {
     "name": "stdout",
     "output_type": "stream",
     "text": [
      "and -> [ 0.11543083 -0.07019845  0.08643759  0.65703081 -2.19138714  1.28409386\n",
      "  0.84668077 -1.15482165 -0.73885418 -0.19651627 -0.39082077 -1.57551863\n",
      " -1.19445244 -0.22115299  0.52736895 -1.2280768 ]\n",
      "\n",
      "friend -> [-0.05658094 -0.05614867  0.02867314 -0.37520037 -1.32539362 -0.78291934\n",
      " -0.80042999 -1.26078613 -0.75419314  0.50721373 -0.63621335  1.02623947\n",
      "  0.21181235  0.21513954 -1.02896819 -1.74652134]\n",
      "\n",
      "i -> [-1.66456541  0.09069771  2.16695487 -1.06235202  0.44916002 -1.21729866\n",
      "  0.0824503  -1.1132736  -0.662327    1.0005726  -0.35634488 -1.27962238\n",
      "  0.35946778  0.39672816  0.98535949  0.75163843]\n",
      "\n",
      "my -> [-0.04156241 -1.01505888 -0.17321684 -1.46088203 -0.89892313  1.39302825\n",
      "  0.30690955  0.77771847 -0.84501058  1.97537753  0.92366948 -2.70542157\n",
      "  1.17324555  0.49630453  1.69114473 -1.41645867]\n",
      "\n",
      "saw -> [-0.17233389 -0.37364647  0.48122805 -1.1093155   0.83896596 -1.6898772\n",
      " -1.15070181  1.21470681  0.66984805  0.72671698 -1.12632952  0.31942685\n",
      "  0.67983218  0.38682828 -1.12735799  1.56122194]\n",
      "\n",
      "school -> [-0.51112366  0.05429472 -0.62765702 -1.37233772  1.11700682  0.0287883\n",
      "  0.23300635  0.80104503 -0.76022689  1.01687338  0.96305667 -0.6501175\n",
      " -0.24747654  0.40040409  0.32578529 -0.46969748]\n",
      "\n",
      "to -> [ 0.26249611  0.74270521 -0.64294365 -1.300654    0.35939538 -0.65121831\n",
      "  0.56433557 -0.61920131 -1.65498335 -1.88344512  0.59680139  0.17756867\n",
      " -1.96484055  1.22080956 -0.28607696  0.62225682]\n",
      "\n",
      "today -> [-0.02703119 -1.53615096 -2.20845061  0.61573395 -1.98829774 -0.1117553\n",
      " -0.45460959 -1.93464102 -1.84153547  0.04545864 -0.5529326  -1.90095659\n",
      " -0.54936646 -0.36802944 -1.78407273 -1.91204962]\n",
      "\n",
      "went -> [ 1.49164808  1.03714112 -0.74153635  0.10889752  0.75512058  0.09977569\n",
      "  0.14422703 -2.09985482 -2.12909217 -0.57514725  1.62974551 -0.57818726\n",
      " -1.64413155  0.86755402  0.90282686  0.66918171]\n",
      "\n"
     ]
    }
   ],
   "source": [
    "for L, F in zip(vocab, embedding_matrix):\n",
    "    print(f\"{L} -> {F}\")\n",
    "    print()"
   ]
  },
  {
   "cell_type": "code",
   "execution_count": 46,
   "metadata": {
    "id": "UHmNlPuKKTm3"
   },
   "outputs": [],
   "source": [
    "def embed(seq):\n",
    "    return np.array([embedding_matrix[i] for i in seq])"
   ]
  },
  {
   "cell_type": "code",
   "execution_count": 49,
   "metadata": {
    "colab": {
     "base_uri": "https://localhost:8080/"
    },
    "id": "xg79KD04LtxY",
    "outputId": "02017165-8dbc-4d8f-81cd-f88251b5e65a"
   },
   "outputs": [
    {
     "data": {
      "text/plain": [
       "array([[-1.66456541,  0.09069771,  2.16695487, -1.06235202,  0.44916002,\n",
       "        -1.21729866,  0.0824503 , -1.1132736 , -0.662327  ,  1.0005726 ,\n",
       "        -0.35634488, -1.27962238,  0.35946778,  0.39672816,  0.98535949,\n",
       "         0.75163843],\n",
       "       [-0.51112366,  0.05429472, -0.62765702, -1.37233772,  1.11700682,\n",
       "         0.0287883 ,  0.23300635,  0.80104503, -0.76022689,  1.01687338,\n",
       "         0.96305667, -0.6501175 , -0.24747654,  0.40040409,  0.32578529,\n",
       "        -0.46969748],\n",
       "       [-0.04156241, -1.01505888, -0.17321684, -1.46088203, -0.89892313,\n",
       "         1.39302825,  0.30690955,  0.77771847, -0.84501058,  1.97537753,\n",
       "         0.92366948, -2.70542157,  1.17324555,  0.49630453,  1.69114473,\n",
       "        -1.41645867]])"
      ]
     },
     "execution_count": 49,
     "metadata": {},
     "output_type": "execute_result"
    }
   ],
   "source": [
    "embed([2, 5, 3])"
   ]
  },
  {
   "cell_type": "markdown",
   "metadata": {
    "id": "sut4YQI5Ns7_"
   },
   "source": [
    "\n",
    "### 📘 What is LSTM and Why Do We Use It for Next Word Prediction?\n",
    "\n",
    "LSTM, which stands for **Long Short-Term Memory**, is a special type of recurrent neural network (RNN) designed to handle **sequential data** — data where the **order of information matters**, like text or time series.\n",
    "\n",
    "Traditional RNNs suffer from the **vanishing gradient problem**, which means they struggle to learn long-range dependencies in a sequence. LSTM overcomes this limitation by using a **memory cell and gating mechanisms** (forget gate, input gate, and output gate) that help it decide **what information to keep, update, or discard** over time.\n",
    "\n",
    "In **Next Word Prediction**, the goal is to predict the most likely next word given a sequence of previous words. For example:\n",
    "\n",
    "> \"I went to the\" → model should predict: `\"store\"` or `\"school\"`\n",
    "\n",
    "This task requires the model to understand:\n",
    "\n",
    "* The **context** of the previous words\n",
    "* The **semantic meaning** of each word\n",
    "* And the **order** in which words appear\n",
    "\n",
    "LSTM is ideal for this task because:\n",
    "\n",
    "* It can **remember relevant patterns** in word sequences\n",
    "* It uses **contextual memory** to make better predictions\n",
    "* It learns how to handle **language dependencies** like grammar, subject–verb agreement, etc.\n"
   ]
  },
  {
   "cell_type": "markdown",
   "metadata": {
    "id": "XANrRdOfQNdw"
   },
   "source": [
    "![lstm.png](data:image/png;base64,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)"
   ]
  },
  {
   "cell_type": "markdown",
   "metadata": {
    "id": "6Zz-YEEU-t3O"
   },
   "source": [
    "### 4. LSTM parameters"
   ]
  },
  {
   "cell_type": "markdown",
   "metadata": {
    "id": "ilhm8d_tPkXY"
   },
   "source": [
    "\n",
    "\n",
    "\n",
    "# 📘 Understanding LSTM Components\n",
    "\n",
    "In this section, we break down the internal components of an LSTM and explain **how each part works step-by-step** using a real sentence example from our code.\n",
    "\n",
    "---\n",
    "\n",
    "## 🔹 Example Input Sequence\n",
    "\n",
    "Let's consider this input sentence:\n",
    "\n",
    "```\n",
    "\n",
    "\"I went to school today and saw my friend\"\n",
    "\n",
    "````\n",
    "\n",
    "From this sentence, we extract the following training sequence (with `seq_len = 3`):\n",
    "\n",
    "```python\n",
    "X = ['i', 'went', 'to']\n",
    "y = 'school'  # next word to predict\n",
    "````\n",
    "\n",
    "This sequence is converted to indices using `word2idx`, then passed to the embedding layer:\n",
    "\n",
    "```\n",
    "X_encoded = [2, 8, 6]\n",
    "X_embedded = embed(X_encoded)  # shape = (3, embedding_dim)\n",
    "```\n",
    "\n",
    "---\n",
    "\n",
    "## 🔧 LSTM Components (at each time step)\n",
    "\n",
    "An LSTM processes this input **one token at a time**, maintaining internal states. For each token, it computes the following:\n",
    "\n",
    "---\n",
    "\n",
    "### 1. 🔗 Concatenation\n",
    "\n",
    "Each input vector (`x_t`) is concatenated with the previous hidden state (`h_{t-1}`):\n",
    "\n",
    "```\n",
    "concat = [h_{t-1}; x_t]  # shape: (hidden_size + embedding_dim)\n",
    "```\n",
    "\n",
    "This is the base input for all LSTM gates.\n",
    "\n",
    "---\n",
    "\n",
    "### 2. 🔒 Forget Gate\n",
    "\n",
    "```python\n",
    "f_t = sigmoid(Wf @ concat + bf)\n",
    "```\n",
    "\n",
    "📌 Purpose:\n",
    "Decides **how much of the previous cell state (`c_{t-1}`)** to keep or forget.\n",
    "\n",
    "✅ Example:\n",
    "If the current word is \"went\" and previous cell state includes \"i\", the model may choose to keep the subject context if it's still relevant.\n",
    "\n",
    "---\n",
    "\n",
    "### 3. 🧠 Input Gate\n",
    "\n",
    "```python\n",
    "i_t = sigmoid(Wi @ concat + bi)\n",
    "c_hat_t = tanh(Wc @ concat + bc)\n",
    "```\n",
    "\n",
    "📌 Purpose:\n",
    "Determines how much **new information** to write into the current memory.\n",
    "\n",
    "✅ Example:\n",
    "For \"to\", the model learns that it's part of the \"i went to\" structure and should influence memory update.\n",
    "\n",
    "---\n",
    "\n",
    "### 4. 💾 Cell State Update\n",
    "\n",
    "```python\n",
    "c_t = f_t * c_{t-1} + i_t * c_hat_t\n",
    "```\n",
    "\n",
    "📌 Purpose:\n",
    "Updates the **internal memory (`c_t`)**, combining retained old memory and new content.\n",
    "\n",
    "---\n",
    "\n",
    "### 5. 🚪 Output Gate and Hidden State\n",
    "\n",
    "```python\n",
    "o_t = sigmoid(Wo @ concat + bo)\n",
    "h_t = o_t * tanh(c_t)\n",
    "```\n",
    "\n",
    "📌 Purpose:\n",
    "\n",
    "* Computes the **hidden state (`h_t`)**, which is used for:\n",
    "\n",
    "  * Passing to the next time step\n",
    "  * Generating output prediction\n",
    "\n",
    "✅ Example:\n",
    "After processing \"i\", \"went\", and \"to\", `h_t` encodes their joint meaning — e.g., movement or action — and is ready to predict \"school\".\n",
    "\n",
    "---\n",
    "\n",
    "### 6. 🎯 Final Prediction (Softmax Output)\n",
    "\n",
    "```python\n",
    "y_hat = softmax(Wy @ h_t + by)\n",
    "```\n",
    "\n",
    "📌 Purpose:\n",
    "Gives a **probability distribution over the entire vocabulary**, predicting the most likely next word.\n",
    "\n",
    "✅ In our example:\n",
    "The model assigns high probability to `\"school\"` given the context `\"i went to\"`.\n",
    "\n",
    "---\n",
    "\n",
    "## ✅ Summary of LSTM Internals\n",
    "\n",
    "| Component  | Role in LSTM                                                        |\n",
    "| ---------- | ------------------------------------------------------------------- |\n",
    "| `Wf`, `bf` | Forget gate: What to discard from memory                            |\n",
    "| `Wi`, `bi` | Input gate: What new info to add to memory                          |\n",
    "| `Wc`, `bc` | Candidate memory: The new memory proposal                           |\n",
    "| `Wo`, `bo` | Output gate: What part of memory to pass to the output              |\n",
    "| `Wy`, `by` | Final output layer: Predict the next word                           |\n",
    "| `c_t`      | Cell state: Internal memory of the model                            |\n",
    "| `h_t`      | Hidden state: Encoded summary of input so far (used for prediction) |\n",
    "\n",
    "---\n",
    "\n",
    "Using these mechanisms, LSTM learns **how language flows**, remembers important tokens, and discards irrelevant ones — enabling accurate next-word predictions even in complex sentences.\n",
    "```"
   ]
  },
  {
   "cell_type": "code",
   "execution_count": 7,
   "metadata": {
    "id": "Si96dxuk-kzV"
   },
   "outputs": [],
   "source": [
    "hidden_size = 32\n",
    "concat_size = embedding_dim + hidden_size\n",
    "\n",
    "Wf = np.random.randn(hidden_size, concat_size) * 0.1\n",
    "Wi = np.random.randn(hidden_size, concat_size) * 0.1\n",
    "Wo = np.random.randn(hidden_size, concat_size) * 0.1\n",
    "Wc = np.random.randn(hidden_size, concat_size) * 0.1\n",
    "bf = np.zeros((hidden_size, 1))\n",
    "bi = np.zeros((hidden_size, 1))\n",
    "bo = np.zeros((hidden_size, 1))\n",
    "bc = np.zeros((hidden_size, 1))\n",
    "\n",
    "Wy = np.random.randn(vocab_size, hidden_size) * 0.1\n",
    "by = np.zeros((vocab_size, 1))\n",
    "\n",
    "def sigmoid(x):\n",
    "    return 1 / (1 + np.exp(-x))\n",
    "\n",
    "def softmax(x):\n",
    "    e = np.exp(x - np.max(x))\n",
    "    return e / np.sum(e)"
   ]
  },
  {
   "cell_type": "markdown",
   "metadata": {
    "id": "kxGl5WM9-sl0"
   },
   "source": [
    "### 5. LSTM forward"
   ]
  },
  {
   "cell_type": "code",
   "execution_count": 8,
   "metadata": {
    "id": "nxv_HFeg-mD8"
   },
   "outputs": [],
   "source": [
    "def forward(x_embedded):\n",
    "    h = np.zeros((hidden_size, 1))\n",
    "    c = np.zeros((hidden_size, 1))\n",
    "    for xt in x_embedded:\n",
    "        xt = xt.reshape(-1, 1)\n",
    "        concat = np.vstack((h, xt))\n",
    "        f = sigmoid(Wf @ concat + bf)\n",
    "        i = sigmoid(Wi @ concat + bi)\n",
    "        o = sigmoid(Wo @ concat + bo)\n",
    "        c_hat = np.tanh(Wc @ concat + bc)\n",
    "        c = f * c + i * c_hat\n",
    "        h = o * np.tanh(c)\n",
    "    y = Wy @ h + by\n",
    "    return softmax(y), h, c\n"
   ]
  },
  {
   "cell_type": "markdown",
   "metadata": {
    "id": "quzcV7s3-qgc"
   },
   "source": [
    "### 6. Training loop"
   ]
  },
  {
   "cell_type": "code",
   "execution_count": 9,
   "metadata": {
    "colab": {
     "base_uri": "https://localhost:8080/"
    },
    "id": "bg6tDXWt-nb8",
    "outputId": "e1fbcda1-b0b7-44f3-b15a-f8f770993a45"
   },
   "outputs": [
    {
     "name": "stdout",
     "output_type": "stream",
     "text": [
      "Epoch 0, Loss: 13.2432\n",
      "Epoch 100, Loss: 11.0453\n",
      "Epoch 200, Loss: 9.7431\n",
      "Epoch 300, Loss: 8.7554\n",
      "Epoch 400, Loss: 7.9385\n",
      "Epoch 500, Loss: 7.2390\n",
      "Epoch 600, Loss: 6.6302\n",
      "Epoch 700, Loss: 6.0956\n",
      "Epoch 800, Loss: 5.6234\n",
      "Epoch 900, Loss: 5.2046\n",
      "Epoch 1000, Loss: 4.8319\n",
      "Epoch 1100, Loss: 4.4989\n",
      "Epoch 1200, Loss: 4.2007\n",
      "Epoch 1300, Loss: 3.9328\n",
      "Epoch 1400, Loss: 3.6914\n",
      "Epoch 1500, Loss: 3.4733\n",
      "Epoch 1600, Loss: 3.2756\n",
      "Epoch 1700, Loss: 3.0960\n",
      "Epoch 1800, Loss: 2.9323\n",
      "Epoch 1900, Loss: 2.7828\n",
      "Epoch 2000, Loss: 2.6458\n",
      "Epoch 2100, Loss: 2.5201\n",
      "Epoch 2200, Loss: 2.4043\n",
      "Epoch 2300, Loss: 2.2975\n",
      "Epoch 2400, Loss: 2.1988\n",
      "Epoch 2500, Loss: 2.1073\n",
      "Epoch 2600, Loss: 2.0223\n",
      "Epoch 2700, Loss: 1.9433\n",
      "Epoch 2800, Loss: 1.8696\n",
      "Epoch 2900, Loss: 1.8008\n",
      "Epoch 3000, Loss: 1.7364\n",
      "Epoch 3100, Loss: 1.6761\n",
      "Epoch 3200, Loss: 1.6195\n",
      "Epoch 3300, Loss: 1.5663\n",
      "Epoch 3400, Loss: 1.5161\n",
      "Epoch 3500, Loss: 1.4689\n",
      "Epoch 3600, Loss: 1.4243\n",
      "Epoch 3700, Loss: 1.3821\n",
      "Epoch 3800, Loss: 1.3422\n",
      "Epoch 3900, Loss: 1.3043\n",
      "Epoch 4000, Loss: 1.2684\n",
      "Epoch 4100, Loss: 1.2343\n",
      "Epoch 4200, Loss: 1.2019\n",
      "Epoch 4300, Loss: 1.1710\n",
      "Epoch 4400, Loss: 1.1416\n",
      "Epoch 4500, Loss: 1.1135\n",
      "Epoch 4600, Loss: 1.0867\n",
      "Epoch 4700, Loss: 1.0611\n",
      "Epoch 4800, Loss: 1.0366\n",
      "Epoch 4900, Loss: 1.0131\n",
      "Epoch 5000, Loss: 0.9906\n",
      "Epoch 5100, Loss: 0.9691\n",
      "Epoch 5200, Loss: 0.9484\n",
      "Epoch 5300, Loss: 0.9286\n",
      "Epoch 5400, Loss: 0.9095\n",
      "Epoch 5500, Loss: 0.8911\n",
      "Epoch 5600, Loss: 0.8735\n",
      "Epoch 5700, Loss: 0.8565\n",
      "Epoch 5800, Loss: 0.8401\n",
      "Epoch 5900, Loss: 0.8243\n",
      "Epoch 6000, Loss: 0.8090\n",
      "Epoch 6100, Loss: 0.7943\n",
      "Epoch 6200, Loss: 0.7801\n",
      "Epoch 6300, Loss: 0.7664\n",
      "Epoch 6400, Loss: 0.7531\n",
      "Epoch 6500, Loss: 0.7403\n",
      "Epoch 6600, Loss: 0.7279\n",
      "Epoch 6700, Loss: 0.7158\n",
      "Epoch 6800, Loss: 0.7042\n",
      "Epoch 6900, Loss: 0.6929\n",
      "Epoch 7000, Loss: 0.6819\n",
      "Epoch 7100, Loss: 0.6713\n",
      "Epoch 7200, Loss: 0.6610\n",
      "Epoch 7300, Loss: 0.6510\n",
      "Epoch 7400, Loss: 0.6413\n",
      "Epoch 7500, Loss: 0.6319\n",
      "Epoch 7600, Loss: 0.6227\n",
      "Epoch 7700, Loss: 0.6138\n",
      "Epoch 7800, Loss: 0.6051\n",
      "Epoch 7900, Loss: 0.5966\n",
      "Epoch 8000, Loss: 0.5884\n",
      "Epoch 8100, Loss: 0.5804\n",
      "Epoch 8200, Loss: 0.5726\n",
      "Epoch 8300, Loss: 0.5650\n",
      "Epoch 8400, Loss: 0.5576\n",
      "Epoch 8500, Loss: 0.5504\n",
      "Epoch 8600, Loss: 0.5434\n",
      "Epoch 8700, Loss: 0.5365\n",
      "Epoch 8800, Loss: 0.5298\n",
      "Epoch 8900, Loss: 0.5233\n",
      "Epoch 9000, Loss: 0.5169\n",
      "Epoch 9100, Loss: 0.5107\n",
      "Epoch 9200, Loss: 0.5046\n",
      "Epoch 9300, Loss: 0.4986\n",
      "Epoch 9400, Loss: 0.4928\n",
      "Epoch 9500, Loss: 0.4871\n",
      "Epoch 9600, Loss: 0.4816\n",
      "Epoch 9700, Loss: 0.4762\n",
      "Epoch 9800, Loss: 0.4708\n",
      "Epoch 9900, Loss: 0.4656\n"
     ]
    }
   ],
   "source": [
    "\n",
    "lr = 0.01\n",
    "epochs = 10000\n",
    "\n",
    "for epoch in range(epochs):\n",
    "    total_loss = 0\n",
    "    for i in range(len(X)):\n",
    "        x_seq = embed(X[i])\n",
    "        target = y[i]\n",
    "        pred, h_final, c_final = forward(x_seq)\n",
    "        loss = -np.log(pred[target])\n",
    "        total_loss += loss\n",
    "\n",
    "        # Gradient for output layer only\n",
    "        dy = pred.copy()\n",
    "        dy[target] -= 1\n",
    "        Wy -= lr * dy @ h_final.T\n",
    "        by -= lr * dy\n",
    "\n",
    "    if epoch % 100 == 0:\n",
    "        print(f\"Epoch {epoch}, Loss: {total_loss[0]:.4f}\")"
   ]
  },
  {
   "cell_type": "markdown",
   "metadata": {
    "id": "BRalIDTD-0Ik"
   },
   "source": [
    "### 7. Predict next word"
   ]
  },
  {
   "cell_type": "code",
   "execution_count": 11,
   "metadata": {
    "id": "mTq8UOGC6-_N"
   },
   "outputs": [],
   "source": [
    "def predict(seed_text):\n",
    "    seed_tokens = seed_text.lower().split()[-seq_len:]\n",
    "    x_seq = [word2idx[w] for w in seed_tokens]\n",
    "    x_embedded = embed(x_seq)\n",
    "    pred, _, _ = forward(x_embedded)\n",
    "    return idx2word[np.argmax(pred)]\n"
   ]
  },
  {
   "cell_type": "code",
   "execution_count": 12,
   "metadata": {
    "colab": {
     "base_uri": "https://localhost:8080/"
    },
    "id": "TbkJFOpn8_B9",
    "outputId": "3d403fec-7be1-4df8-c300-bab22c4a3677"
   },
   "outputs": [
    {
     "name": "stdout",
     "output_type": "stream",
     "text": [
      "Next word after 'i went to': school\n",
      "Next word after 'went to school': today\n",
      "Next word after 'to school today': and\n",
      "Next word after 'school today and': saw\n",
      "Next word after 'today and saw': my\n",
      "Next word after 'and saw my': friend\n"
     ]
    }
   ],
   "source": [
    "print(\"Next word after 'i went to':\", predict(\"i went to\"))\n",
    "print(\"Next word after 'went to school':\", predict(\"went to school\"))\n",
    "print(\"Next word after 'to school today':\", predict(\"to school today\"))\n",
    "print(\"Next word after 'school today and':\", predict(\"school today and\"))\n",
    "print(\"Next word after 'today and saw':\", predict(\"today and saw\"))\n",
    "print(\"Next word after 'and saw my':\", predict(\"and saw my\"))"
   ]
  },
  {
   "cell_type": "code",
   "execution_count": null,
   "metadata": {
    "id": "zsNTbTjN_qfP"
   },
   "outputs": [],
   "source": []
  }
 ],
 "metadata": {
  "colab": {
   "provenance": []
  },
  "kernelspec": {
   "display_name": "Python 3 (ipykernel)",
   "language": "python",
   "name": "python3"
  },
  "language_info": {
   "codemirror_mode": {
    "name": "ipython",
    "version": 3
   },
   "file_extension": ".py",
   "mimetype": "text/x-python",
   "name": "python",
   "nbconvert_exporter": "python",
   "pygments_lexer": "ipython3",
   "version": "3.10.11"
  }
 },
 "nbformat": 4,
 "nbformat_minor": 1
}

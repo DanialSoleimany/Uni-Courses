{
  "nbformat": 4,
  "nbformat_minor": 0,
  "metadata": {
    "colab": {
      "provenance": []
    },
    "kernelspec": {
      "name": "python3",
      "display_name": "Python 3"
    },
    "language_info": {
      "name": "python"
    }
  },
  "cells": [
    {
      "cell_type": "code",
      "execution_count": 2,
      "metadata": {
        "id": "1LE7YtB44VRC"
      },
      "outputs": [],
      "source": [
        "text = \"tehran, iran's busy CApital, is Very different from shiraz. while tehran is fast And moDErn, shiraz is More relaxed and hIStoric. tehran has tall buildings, but shiraz HAs old GARdens and Quiet strEEts. tehran’s bigger, but shiraz FEels calmer because it’s Less CRowded. people often choose between tehran and shiraz, BUT shiraz is BEtter for those LOOking for a Slower, Quieter pace.\""
      ]
    },
    {
      "cell_type": "code",
      "source": [
        "text"
      ],
      "metadata": {
        "colab": {
          "base_uri": "https://localhost:8080/",
          "height": 70
        },
        "id": "m1eUW84u4a80",
        "outputId": "a2c5029a-cd6d-464f-9aa1-02325d8f400f"
      },
      "execution_count": 3,
      "outputs": [
        {
          "output_type": "execute_result",
          "data": {
            "text/plain": [
              "\"tehran, iran's busy CApital, is Very different from shiraz. while tehran is fast And moDErn, shiraz is More relaxed and hIStoric. tehran has tall buildings, but shiraz HAs old GARdens and Quiet strEEts. tehran’s bigger, but shiraz FEels calmer because it’s Less CRowded. people often choose between tehran and shiraz, BUT shiraz is BEtter for those LOOking for a Slower, Quieter pace.\""
            ],
            "application/vnd.google.colaboratory.intrinsic+json": {
              "type": "string"
            }
          },
          "metadata": {},
          "execution_count": 3
        }
      ]
    },
    {
      "cell_type": "code",
      "source": [
        "text = text.lower()"
      ],
      "metadata": {
        "id": "Q3c1r7t94bGL"
      },
      "execution_count": 4,
      "outputs": []
    },
    {
      "cell_type": "code",
      "source": [
        "text"
      ],
      "metadata": {
        "colab": {
          "base_uri": "https://localhost:8080/",
          "height": 70
        },
        "id": "Xj4_USGQ4dDq",
        "outputId": "313c7ba3-9205-41b9-c0f5-126b82b22738"
      },
      "execution_count": 5,
      "outputs": [
        {
          "output_type": "execute_result",
          "data": {
            "text/plain": [
              "\"tehran, iran's busy capital, is very different from shiraz. while tehran is fast and modern, shiraz is more relaxed and historic. tehran has tall buildings, but shiraz has old gardens and quiet streets. tehran’s bigger, but shiraz feels calmer because it’s less crowded. people often choose between tehran and shiraz, but shiraz is better for those looking for a slower, quieter pace.\""
            ],
            "application/vnd.google.colaboratory.intrinsic+json": {
              "type": "string"
            }
          },
          "metadata": {},
          "execution_count": 5
        }
      ]
    },
    {
      "cell_type": "code",
      "source": [
        "text = text.replace(\"tehran\", \"Tehran\")\n",
        "text = text.replace(\"shiraz\", \"Shiraz\")"
      ],
      "metadata": {
        "id": "OATSvTZH4ePT"
      },
      "execution_count": 6,
      "outputs": []
    },
    {
      "cell_type": "code",
      "source": [
        "text"
      ],
      "metadata": {
        "colab": {
          "base_uri": "https://localhost:8080/",
          "height": 70
        },
        "id": "TwwOJJOU4g8E",
        "outputId": "a41586d8-f144-425a-a920-3aea5ed53597"
      },
      "execution_count": 7,
      "outputs": [
        {
          "output_type": "execute_result",
          "data": {
            "text/plain": [
              "\"Tehran, iran's busy capital, is very different from Shiraz. while Tehran is fast and modern, Shiraz is more relaxed and historic. Tehran has tall buildings, but Shiraz has old gardens and quiet streets. Tehran’s bigger, but Shiraz feels calmer because it’s less crowded. people often choose between Tehran and Shiraz, but Shiraz is better for those looking for a slower, quieter pace.\""
            ],
            "application/vnd.google.colaboratory.intrinsic+json": {
              "type": "string"
            }
          },
          "metadata": {},
          "execution_count": 7
        }
      ]
    }
  ]
}
{
  "nbformat": 4,
  "nbformat_minor": 0,
  "metadata": {
    "colab": {
      "provenance": []
    },
    "kernelspec": {
      "name": "python3",
      "display_name": "Python 3"
    },
    "language_info": {
      "name": "python"
    }
  },
  "cells": [
    {
      "cell_type": "markdown",
      "source": [
        "# Numpy"
      ],
      "metadata": {
        "id": "XN-rtLdaw2nJ"
      }
    },
    {
      "cell_type": "markdown",
      "source": [
        "## Introduction to NumPy"
      ],
      "metadata": {
        "id": "6I5XLHP0mrMm"
      }
    },
    {
      "cell_type": "markdown",
      "source": [
        "NumPy (Numerical Python) is a fundamental library for numerical computing in Python. It provides powerful tools for working with arrays, performing mathematical operations, and optimizing performance."
      ],
      "metadata": {
        "id": "EM__HKL7mt-N"
      }
    },
    {
      "cell_type": "markdown",
      "source": [
        "## Why NumPy?"
      ],
      "metadata": {
        "id": "sBjBWG1sm0t0"
      }
    },
    {
      "cell_type": "markdown",
      "source": [
        "*   **Efficiency:** NumPy arrays are more memory-efficient and faster than Python lists.\n",
        "*   **Vectorization:** Operations on arrays are performed element-wise without explicit loops.\n",
        "*   **Extensive Mathematical Functions:** Linear algebra, random number generation, and statistical functions."
      ],
      "metadata": {
        "id": "-NpT_aytm24l"
      }
    },
    {
      "cell_type": "markdown",
      "source": [
        "### Installation"
      ],
      "metadata": {
        "id": "dcoe6M9AnGKu"
      }
    },
    {
      "cell_type": "code",
      "execution_count": 1,
      "metadata": {
        "id": "4nFjXw9QmEQ4",
        "colab": {
          "base_uri": "https://localhost:8080/"
        },
        "outputId": "c689f80a-b305-4973-fbdf-8cbb8dfd4878"
      },
      "outputs": [
        {
          "output_type": "stream",
          "name": "stdout",
          "text": [
            "Requirement already satisfied: numpy in /usr/local/lib/python3.11/dist-packages (2.0.2)\n"
          ]
        }
      ],
      "source": [
        "!pip install numpy"
      ]
    },
    {
      "cell_type": "markdown",
      "source": [
        "### Importing Numpy"
      ],
      "metadata": {
        "id": "Wdl0AanFnJc0"
      }
    },
    {
      "cell_type": "code",
      "source": [
        "import numpy as np"
      ],
      "metadata": {
        "id": "bQJg4i1UnRwd"
      },
      "execution_count": 2,
      "outputs": []
    },
    {
      "cell_type": "markdown",
      "source": [
        "## Creating Arrays"
      ],
      "metadata": {
        "id": "SYSaBfsWos5O"
      }
    },
    {
      "cell_type": "code",
      "source": [
        "# 1D array\n",
        "arr1 = np.array([1, 2, 3, 4, 5])\n",
        "arr1"
      ],
      "metadata": {
        "id": "iXDH8zrcosxk",
        "colab": {
          "base_uri": "https://localhost:8080/"
        },
        "outputId": "d0ed26c3-56ab-4c3e-bce1-3b9b35fb1cbb"
      },
      "execution_count": 8,
      "outputs": [
        {
          "output_type": "execute_result",
          "data": {
            "text/plain": [
              "array([1, 2, 3, 4, 5])"
            ]
          },
          "metadata": {},
          "execution_count": 8
        }
      ]
    },
    {
      "cell_type": "code",
      "source": [
        "# 2D array\n",
        "arr2 = np.array([\n",
        "     [1, 2, 3],\n",
        "     [4, 5, 6]\n",
        "])\n",
        "arr2"
      ],
      "metadata": {
        "id": "lu1V6YNWoxJ1",
        "colab": {
          "base_uri": "https://localhost:8080/"
        },
        "outputId": "221e14d6-053d-4dec-c268-06d90f47d42a"
      },
      "execution_count": 14,
      "outputs": [
        {
          "output_type": "execute_result",
          "data": {
            "text/plain": [
              "array([[1, 2, 3],\n",
              "       [4, 5, 6]])"
            ]
          },
          "metadata": {},
          "execution_count": 14
        }
      ]
    },
    {
      "cell_type": "code",
      "source": [
        "# 3D array\n",
        "arr3 = np.array([\n",
        "    [[1, 2, 3],\n",
        "     [4, 5, 6]],\n",
        "\n",
        "    [[7, 8, 9],\n",
        "     [3, 1, 5]]\n",
        "])\n",
        "arr3"
      ],
      "metadata": {
        "id": "r7dft7eVozfE",
        "colab": {
          "base_uri": "https://localhost:8080/"
        },
        "outputId": "f00b8595-f9e1-464c-93ac-5bd12aee8ea2"
      },
      "execution_count": 10,
      "outputs": [
        {
          "output_type": "execute_result",
          "data": {
            "text/plain": [
              "array([[[1, 2, 3],\n",
              "        [4, 5, 6]],\n",
              "\n",
              "       [[7, 8, 9],\n",
              "        [3, 1, 5]]])"
            ]
          },
          "metadata": {},
          "execution_count": 10
        }
      ]
    },
    {
      "cell_type": "markdown",
      "source": [
        "### Checking Properties"
      ],
      "metadata": {
        "id": "o5IFacUvo61t"
      }
    },
    {
      "cell_type": "code",
      "source": [
        "arr1.shape, arr1.ndim, arr1.size, arr1.dtype"
      ],
      "metadata": {
        "id": "h_pba0jvv57p",
        "colab": {
          "base_uri": "https://localhost:8080/"
        },
        "outputId": "d6a136b4-dc7c-4177-ded6-7fd57e003532"
      },
      "execution_count": 11,
      "outputs": [
        {
          "output_type": "execute_result",
          "data": {
            "text/plain": [
              "((5,), 1, 5, dtype('int64'))"
            ]
          },
          "metadata": {},
          "execution_count": 11
        }
      ]
    },
    {
      "cell_type": "code",
      "source": [
        "arr2.shape, arr2.ndim, arr2.size, arr2.dtype"
      ],
      "metadata": {
        "id": "3sAi4h7qv_dx",
        "colab": {
          "base_uri": "https://localhost:8080/"
        },
        "outputId": "0fc03f19-e24c-47ce-b48d-1fe028f0137b"
      },
      "execution_count": 12,
      "outputs": [
        {
          "output_type": "execute_result",
          "data": {
            "text/plain": [
              "((2, 3), 2, 6, dtype('int64'))"
            ]
          },
          "metadata": {},
          "execution_count": 12
        }
      ]
    },
    {
      "cell_type": "code",
      "source": [
        "arr3.shape, arr3.ndim, arr3.size, arr3.dtype"
      ],
      "metadata": {
        "id": "zgKeoZ9VzYU_",
        "colab": {
          "base_uri": "https://localhost:8080/"
        },
        "outputId": "f0447c09-4b79-480b-c917-de2cbb5ebf7e"
      },
      "execution_count": 13,
      "outputs": [
        {
          "output_type": "execute_result",
          "data": {
            "text/plain": [
              "((2, 2, 3), 3, 12, dtype('int64'))"
            ]
          },
          "metadata": {},
          "execution_count": 13
        }
      ]
    },
    {
      "cell_type": "markdown",
      "source": [
        "## Random Number Generation"
      ],
      "metadata": {
        "id": "SXDWBul0tdwi"
      }
    },
    {
      "cell_type": "code",
      "source": [
        "rand_scores = np.random.randint(50, 100, size=10)\n",
        "print(\"Random Scores:\", rand_scores)"
      ],
      "metadata": {
        "id": "rB5KF8ugtgxi",
        "colab": {
          "base_uri": "https://localhost:8080/"
        },
        "outputId": "2e2844fa-1625-4049-fd1f-f336391823f5"
      },
      "execution_count": 16,
      "outputs": [
        {
          "output_type": "stream",
          "name": "stdout",
          "text": [
            "Random Scores: [93 67 95 54 78 69 60 85 94 56]\n"
          ]
        }
      ]
    },
    {
      "cell_type": "code",
      "source": [
        "np.random.rand(10) # generate numbers between 0 and one"
      ],
      "metadata": {
        "id": "8NwVhX73tjTD",
        "colab": {
          "base_uri": "https://localhost:8080/"
        },
        "outputId": "42788b7d-e000-426f-88e7-b393232dd745"
      },
      "execution_count": 20,
      "outputs": [
        {
          "output_type": "execute_result",
          "data": {
            "text/plain": [
              "array([0.13338591, 0.12439802, 0.57434596, 0.27278417, 0.47666697,\n",
              "       0.7111508 , 0.7970117 , 0.63903291, 0.85875943, 0.32754309])"
            ]
          },
          "metadata": {},
          "execution_count": 20
        }
      ]
    },
    {
      "cell_type": "markdown",
      "source": [
        "### Indexing and Slicing"
      ],
      "metadata": {
        "id": "CHbDSy0Qus-Z"
      }
    },
    {
      "cell_type": "code",
      "source": [
        "rand_scores[4]"
      ],
      "metadata": {
        "id": "jIYEqeq_uyLq",
        "colab": {
          "base_uri": "https://localhost:8080/"
        },
        "outputId": "87ae4bd1-8de4-4003-d9c6-55e9fc2d02a4"
      },
      "execution_count": 23,
      "outputs": [
        {
          "output_type": "execute_result",
          "data": {
            "text/plain": [
              "np.int64(78)"
            ]
          },
          "metadata": {},
          "execution_count": 23
        }
      ]
    },
    {
      "cell_type": "code",
      "source": [
        "rand_scores[2:5]"
      ],
      "metadata": {
        "id": "K6t0PliGuy7x",
        "colab": {
          "base_uri": "https://localhost:8080/"
        },
        "outputId": "56765f14-44f5-44a0-854e-473e00bd3751"
      },
      "execution_count": 26,
      "outputs": [
        {
          "output_type": "execute_result",
          "data": {
            "text/plain": [
              "array([95, 54, 78])"
            ]
          },
          "metadata": {},
          "execution_count": 26
        }
      ]
    },
    {
      "cell_type": "code",
      "source": [
        "arr2[0][2]"
      ],
      "metadata": {
        "colab": {
          "base_uri": "https://localhost:8080/"
        },
        "id": "cIKL2hSMYqNq",
        "outputId": "f77326cf-c4d0-4f61-a021-189a47f35b4e"
      },
      "execution_count": 27,
      "outputs": [
        {
          "output_type": "execute_result",
          "data": {
            "text/plain": [
              "np.int64(3)"
            ]
          },
          "metadata": {},
          "execution_count": 27
        }
      ]
    },
    {
      "cell_type": "code",
      "source": [
        "arr3[1][1][2]"
      ],
      "metadata": {
        "colab": {
          "base_uri": "https://localhost:8080/"
        },
        "id": "onBVHxZgYuwh",
        "outputId": "2bbfb345-8385-4c0d-cadb-948f9656108d"
      },
      "execution_count": 29,
      "outputs": [
        {
          "output_type": "execute_result",
          "data": {
            "text/plain": [
              "np.int64(5)"
            ]
          },
          "metadata": {},
          "execution_count": 29
        }
      ]
    },
    {
      "cell_type": "markdown",
      "source": [
        "### Mathematical Operations"
      ],
      "metadata": {
        "id": "wK9F4ttZuV3B"
      }
    },
    {
      "cell_type": "code",
      "source": [
        "print(np.mean(rand_scores))\n",
        "print(np.sum(rand_scores))\n",
        "print(np.min(rand_scores))\n",
        "print(np.max(rand_scores))"
      ],
      "metadata": {
        "id": "MfYndYMnuVoj",
        "colab": {
          "base_uri": "https://localhost:8080/"
        },
        "outputId": "9040a51f-aed9-4006-f92b-f4bb7fdccb98"
      },
      "execution_count": 31,
      "outputs": [
        {
          "output_type": "stream",
          "name": "stdout",
          "text": [
            "75.1\n",
            "751\n",
            "54\n",
            "95\n"
          ]
        }
      ]
    },
    {
      "cell_type": "markdown",
      "source": [
        "## Linear Algebra"
      ],
      "metadata": {
        "id": "HL0IKUbOt_S6"
      }
    },
    {
      "cell_type": "code",
      "source": [
        "matrix = np.array([[3, 4], [2, 5]])\n",
        "\n",
        "det = np.linalg.det(matrix) # Determinant\n",
        "inv = np.linalg.inv(matrix) # Inverse\n",
        "\n",
        "print(det)\n",
        "print(inv)"
      ],
      "metadata": {
        "id": "Gfg09y5Et_9Y",
        "colab": {
          "base_uri": "https://localhost:8080/"
        },
        "outputId": "5a3e5138-94c6-4519-e784-397411f5f5c2"
      },
      "execution_count": 37,
      "outputs": [
        {
          "output_type": "stream",
          "name": "stdout",
          "text": [
            "7.000000000000001\n",
            "[[ 0.71428571 -0.57142857]\n",
            " [-0.28571429  0.42857143]]\n"
          ]
        }
      ]
    }
  ]
}
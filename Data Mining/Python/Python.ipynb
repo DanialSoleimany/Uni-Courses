{
  "nbformat": 4,
  "nbformat_minor": 0,
  "metadata": {
    "colab": {
      "provenance": []
    },
    "kernelspec": {
      "name": "python3",
      "display_name": "Python 3"
    },
    "language_info": {
      "name": "python"
    }
  },
  "cells": [
    {
      "cell_type": "markdown",
      "source": [
        "# **Introduction to Python**\n",
        "\n",
        "\n",
        "---\n",
        "\n",
        "\n",
        "\n",
        "## What is Python?\n",
        "Python is a high-level, interpreted programming language known for its simplicity and readability. It was created by Guido van Rossum and first released in 1991. Python emphasizes code readability and allows developers to express concepts in fewer lines of code compared to other languages like C++ or Java.\n",
        "\n",
        "\n",
        "---\n",
        "\n",
        "\n",
        "\n",
        "### Key Features:\n",
        "- **Interpreted**: Python code is executed line by line.\n",
        "- **Dynamic Typing**: Variables do not need explicit declaration of their type.\n",
        "- **Cross-Platform**: Python runs on Windows, macOS, Linux, and more.\n",
        "- **Extensive Libraries**: Python has a rich ecosystem of libraries for tasks like data analysis, web development, and machine learning.\n",
        "\n",
        "\n",
        "---\n",
        "\n",
        "\n",
        "\n",
        "### Applications:\n",
        "- **Data Science and Machine Learning**: Libraries like Pandas, NumPy, Scikit-learn, and TensorFlow are widely used for data analysis, visualization, and building machine learning models.\n",
        "- **Web Development**: Frameworks like Django and Flask.\n",
        "- **Automation**: Automating repetitive tasks such as web scraping.\n",
        "- **Game Development**: Libraries like Pygame allow developers to create 2D games using Python.\n",
        "\n",
        "\n",
        "---\n",
        "\n",
        "\n",
        "\n",
        "### Python IDEs\n",
        "An Integrated Development Environment (IDE) or text editor is essential for writing and running Python code efficiently.\n",
        "\n",
        "- **Jupyter Notebook**\n",
        "- **VS Code**\n",
        "- **PyCharm**\n",
        "- **Spyder**\n",
        "\n",
        "\n",
        "---\n",
        "\n"
      ],
      "metadata": {
        "id": "zX2tgYz7EQr9"
      }
    },
    {
      "cell_type": "markdown",
      "source": [
        "Check the version of python in colab"
      ],
      "metadata": {
        "id": "Rco_Pfc9S72V"
      }
    },
    {
      "cell_type": "code",
      "source": [
        "!python --version"
      ],
      "metadata": {
        "colab": {
          "base_uri": "https://localhost:8080/"
        },
        "id": "6bC4LDoaEVqA",
        "outputId": "a1e13f9a-d7d8-43b8-d129-7bd7188a8081"
      },
      "execution_count": 1,
      "outputs": [
        {
          "output_type": "stream",
          "name": "stdout",
          "text": [
            "Python 3.11.11\n"
          ]
        }
      ]
    },
    {
      "cell_type": "markdown",
      "source": [
        "**Commenting and Uncommenting Code in Google Colab**\n",
        "- Use the shortcut `Ctrl + /` to quickly comment or uncomment a selected line or block of code.\n",
        "- This is a convenient way to toggle comments during debugging or testing without manually adding or removing comment symbols."
      ],
      "metadata": {
        "id": "vA_AhZk0Fxgz"
      }
    },
    {
      "cell_type": "markdown",
      "source": [
        "\n",
        "Writing and Running Your First Python Program\n"
      ],
      "metadata": {
        "id": "i-oQlQDRRsw-"
      }
    },
    {
      "cell_type": "code",
      "source": [
        "print(\"hello world\")"
      ],
      "metadata": {
        "colab": {
          "base_uri": "https://localhost:8080/"
        },
        "id": "Q12FDd_uRv0N",
        "outputId": "0cef1f4f-c24e-404c-8309-33684a8037e0"
      },
      "execution_count": 2,
      "outputs": [
        {
          "output_type": "stream",
          "name": "stdout",
          "text": [
            "hello world\n"
          ]
        }
      ]
    },
    {
      "cell_type": "code",
      "source": [
        "x = \"Hello World\"\n",
        "print(\"Hello World\")\n",
        "print(x)\n",
        "type(x)"
      ],
      "metadata": {
        "colab": {
          "base_uri": "https://localhost:8080/"
        },
        "id": "b0ztOuCwKxBV",
        "outputId": "8f1d07f0-2500-4d1d-e325-72c87bf0d067"
      },
      "execution_count": 3,
      "outputs": [
        {
          "output_type": "stream",
          "name": "stdout",
          "text": [
            "Hello World\n",
            "Hello World\n"
          ]
        },
        {
          "output_type": "execute_result",
          "data": {
            "text/plain": [
              "str"
            ]
          },
          "metadata": {},
          "execution_count": 3
        }
      ]
    },
    {
      "cell_type": "markdown",
      "source": [
        "**Note**: The code cell below will not execute due to an error present in it."
      ],
      "metadata": {
        "id": "sw1RDvQ3DZAM"
      }
    },
    {
      "cell_type": "code",
      "source": [
        "# print(\"a\")\n",
        "# print(\"b\")\n",
        "# print(\"c\")\n",
        "# print(\"d\""
      ],
      "metadata": {
        "id": "GLnFNfwODYiE"
      },
      "execution_count": null,
      "outputs": []
    },
    {
      "cell_type": "markdown",
      "source": [
        "# **Defining variables**\n",
        "\n",
        "\n",
        "---\n",
        "\n"
      ],
      "metadata": {
        "id": "eg8BDZ5lS_bd"
      }
    },
    {
      "cell_type": "markdown",
      "source": [
        "Variables are used to store data values.<br>\n",
        "Python uses dynamic typing, meaning you don't explicitly declare the type of a variable."
      ],
      "metadata": {
        "id": "Zi4ATgWKTJ8V"
      }
    },
    {
      "cell_type": "code",
      "source": [
        "name = \"Alice\"  # String variable\n",
        "age = 30       # Integer variable\n",
        "height = 5.8   # Float variable\n",
        "is_student = True # Boolean variable"
      ],
      "metadata": {
        "id": "WVPZGl1ATOXW"
      },
      "execution_count": null,
      "outputs": []
    },
    {
      "cell_type": "markdown",
      "source": [
        "## Variable Reassignment\n",
        "- The variable `a` is initially assigned the value `5`.\n",
        "- It is then reassigned to the value `6`.\n",
        "- The final value of `a` is `6`, as the last assignment overwrites the previous one."
      ],
      "metadata": {
        "id": "sTmJttAzEG-k"
      }
    },
    {
      "cell_type": "code",
      "source": [
        "a = 5\n",
        "a = 6\n",
        "\n",
        "a"
      ],
      "metadata": {
        "id": "gE1K67ujD5hk",
        "colab": {
          "base_uri": "https://localhost:8080/"
        },
        "outputId": "bb9cabf2-8463-4f1b-ea6b-2df24af0fe6e"
      },
      "execution_count": 4,
      "outputs": [
        {
          "output_type": "execute_result",
          "data": {
            "text/plain": [
              "6"
            ]
          },
          "metadata": {},
          "execution_count": 4
        }
      ]
    },
    {
      "cell_type": "markdown",
      "source": [
        "\n",
        "\n",
        "## Rules for naming variables\n",
        "\n",
        "\n",
        "---\n",
        "\n",
        "\n",
        "1. Variable names can contain letters, numbers, and underscores.\n",
        "2. Variable names cannot start with a number.\n",
        "3. Variable names are case-sensitive (age, Age, and AGE are different variables).\n",
        "4. Avoid using reserved keywords (e.g., if, else, for, while, etc.).\n",
        "5. Use descriptive names to make your code more readable."
      ],
      "metadata": {
        "id": "LJ7LNEGmTP-1"
      }
    },
    {
      "cell_type": "code",
      "source": [
        "# Invalid variable names\n",
        "# 1-variable = 10 # Invalid (starts with a number)\n",
        "# my variable = 20 # Invalid (contains a space)\n",
        "# if = 30       # Invalid (reserved keyword)"
      ],
      "metadata": {
        "id": "nUkFamhATT11"
      },
      "execution_count": null,
      "outputs": []
    },
    {
      "cell_type": "markdown",
      "source": [
        "### Avoid Overwriting Built-in Functions\n",
        "- The line `# print = 2` is commented out to prevent execution.\n",
        "- Assigning a value to a built-in function name like `print` (e.g., `print = 2`) is discouraged because it overrides the original functionality of the function, leading to potential errors and unexpected behavior.\n",
        "- Always use unique variable names to avoid conflicts with Python's built-in functions."
      ],
      "metadata": {
        "id": "gqCRzttbGeEl"
      }
    },
    {
      "cell_type": "code",
      "source": [
        "# Avoid using built-in function names for variables to prevent conflicts and errors.\n",
        "# print = 2"
      ],
      "metadata": {
        "id": "C5zodQ--Gdfd"
      },
      "execution_count": null,
      "outputs": []
    },
    {
      "cell_type": "code",
      "source": [
        "# Valid variable names\n",
        "_my_variable = 100  # Valid (starts with underscore)\n",
        "myVariable = 200    # Valid (camel case notation)\n",
        "MyVariable = 300   # Valid (Pascal case notation)"
      ],
      "metadata": {
        "id": "MK4NkNOITWnM"
      },
      "execution_count": null,
      "outputs": []
    },
    {
      "cell_type": "code",
      "source": [
        "print(name)\n",
        "print(age)\n",
        "print(height)\n",
        "print(is_student)"
      ],
      "metadata": {
        "id": "1cfoiS5ITX4F",
        "colab": {
          "base_uri": "https://localhost:8080/"
        },
        "outputId": "ebb55ee2-020d-47fe-96cf-49475f06eabd"
      },
      "execution_count": null,
      "outputs": [
        {
          "output_type": "stream",
          "name": "stdout",
          "text": [
            "Alice\n",
            "30\n",
            "5.8\n",
            "True\n"
          ]
        }
      ]
    },
    {
      "cell_type": "code",
      "source": [
        "# Modifying variable values\n",
        "age = 31  # Change the value of the 'age' variable\n",
        "print(age)"
      ],
      "metadata": {
        "id": "eEk--tuKTZ6V",
        "colab": {
          "base_uri": "https://localhost:8080/"
        },
        "outputId": "797170b4-6b0d-4669-c038-827c29f3f8f9"
      },
      "execution_count": null,
      "outputs": [
        {
          "output_type": "stream",
          "name": "stdout",
          "text": [
            "31\n"
          ]
        }
      ]
    },
    {
      "cell_type": "markdown",
      "source": [
        "# **Data Types**\n",
        "\n",
        "\n",
        "---\n",
        "\n",
        "\n",
        "\n",
        "\n"
      ],
      "metadata": {
        "id": "1UAhF6scUTRN"
      }
    },
    {
      "cell_type": "markdown",
      "source": [
        "## Numeric\n",
        "\n",
        "\n",
        "---\n",
        "\n",
        "\n",
        "\n",
        "\n",
        "\n",
        "\n"
      ],
      "metadata": {
        "id": "Xt0UNVzHUg9l"
      }
    },
    {
      "cell_type": "markdown",
      "source": [
        "### *int (Integer):*\n",
        "\n",
        "\n",
        "---\n",
        "\n",
        "\n",
        "\n",
        "Whole numbers"
      ],
      "metadata": {
        "id": "LQzlmXfaSOyr"
      }
    },
    {
      "cell_type": "code",
      "source": [
        "age = 30\n",
        "print(age, type(age))"
      ],
      "metadata": {
        "colab": {
          "base_uri": "https://localhost:8080/"
        },
        "id": "QjJmDGQ3UgIW",
        "outputId": "a9ce2a4a-32f2-4445-b2fc-ac438acceb74"
      },
      "execution_count": null,
      "outputs": [
        {
          "output_type": "stream",
          "name": "stdout",
          "text": [
            "30 <class 'int'>\n"
          ]
        }
      ]
    },
    {
      "cell_type": "markdown",
      "source": [
        "### *Float*\n",
        "\n",
        "\n",
        "\n",
        "---\n",
        "\n",
        "\n",
        "\n",
        "\n",
        "\n",
        "Numbers with decimal points"
      ],
      "metadata": {
        "id": "5uS5BJnIRFOr"
      }
    },
    {
      "cell_type": "code",
      "source": [
        "# float (Floating-point):\n",
        "height = 5.8\n",
        "print(height, type(height))"
      ],
      "metadata": {
        "colab": {
          "base_uri": "https://localhost:8080/"
        },
        "id": "qL7wSlQdUlou",
        "outputId": "9ed7c469-5bb8-4d09-a18d-e0003b540853"
      },
      "execution_count": null,
      "outputs": [
        {
          "output_type": "stream",
          "name": "stdout",
          "text": [
            "5.8 <class 'float'>\n"
          ]
        }
      ]
    },
    {
      "cell_type": "markdown",
      "source": [
        "## String\n",
        "\n",
        "\n",
        "---\n",
        "\n",
        "\n",
        "Sequence of characters\n"
      ],
      "metadata": {
        "id": "BUH0UM-1UvHN"
      }
    },
    {
      "cell_type": "code",
      "source": [
        "name = \"danial\""
      ],
      "metadata": {
        "id": "g-4OJG_Yq5JR"
      },
      "execution_count": null,
      "outputs": []
    },
    {
      "cell_type": "markdown",
      "source": [
        "### Indexing"
      ],
      "metadata": {
        "id": "8pIWLn0Wq7XJ"
      }
    },
    {
      "cell_type": "code",
      "source": [
        "print(name[2])"
      ],
      "metadata": {
        "colab": {
          "base_uri": "https://localhost:8080/"
        },
        "id": "2X5V44Hrq-G6",
        "outputId": "4f2e0209-01cb-4964-b709-6bf9c2934a9a"
      },
      "execution_count": null,
      "outputs": [
        {
          "output_type": "stream",
          "name": "stdout",
          "text": [
            "n\n"
          ]
        }
      ]
    },
    {
      "cell_type": "markdown",
      "source": [
        "### Slicing"
      ],
      "metadata": {
        "id": "WyP-dLP6q83C"
      }
    },
    {
      "cell_type": "code",
      "source": [
        "print(name[2:4])"
      ],
      "metadata": {
        "colab": {
          "base_uri": "https://localhost:8080/"
        },
        "id": "ynCtijQqrBq9",
        "outputId": "82d1a7cb-5b6b-4989-acc2-e5c856976569"
      },
      "execution_count": null,
      "outputs": [
        {
          "output_type": "stream",
          "name": "stdout",
          "text": [
            "ni\n"
          ]
        }
      ]
    },
    {
      "cell_type": "code",
      "source": [
        "print(name[:3])"
      ],
      "metadata": {
        "colab": {
          "base_uri": "https://localhost:8080/"
        },
        "id": "sjGUCar3rFUa",
        "outputId": "a8be2830-1a8b-4ff5-e6cb-e70b5ee5488f"
      },
      "execution_count": null,
      "outputs": [
        {
          "output_type": "stream",
          "name": "stdout",
          "text": [
            "dan\n"
          ]
        }
      ]
    },
    {
      "cell_type": "code",
      "source": [
        "print(name[2:])"
      ],
      "metadata": {
        "colab": {
          "base_uri": "https://localhost:8080/"
        },
        "id": "ppep8XIlrGkT",
        "outputId": "12b5880c-0bf1-4dce-8161-892e097afff3"
      },
      "execution_count": null,
      "outputs": [
        {
          "output_type": "stream",
          "name": "stdout",
          "text": [
            "nial\n"
          ]
        }
      ]
    },
    {
      "cell_type": "code",
      "source": [
        "# for persian\n",
        "name = \"دانیال\"\n",
        "\n",
        "name[0:4]"
      ],
      "metadata": {
        "colab": {
          "base_uri": "https://localhost:8080/",
          "height": 35
        },
        "id": "OYCmUn7JFn29",
        "outputId": "abee77a3-88ad-4417-a50d-7b4f31d1651a"
      },
      "execution_count": null,
      "outputs": [
        {
          "output_type": "execute_result",
          "data": {
            "text/plain": [
              "'دانی'"
            ],
            "application/vnd.google.colaboratory.intrinsic+json": {
              "type": "string"
            }
          },
          "metadata": {},
          "execution_count": 10
        }
      ]
    },
    {
      "cell_type": "markdown",
      "source": [
        "## String methods"
      ],
      "metadata": {
        "id": "Z8aYd04Foy4h"
      }
    },
    {
      "cell_type": "code",
      "source": [
        "text = \"Hello, World!\""
      ],
      "metadata": {
        "id": "6Th604W3os_5"
      },
      "execution_count": null,
      "outputs": []
    },
    {
      "cell_type": "markdown",
      "source": [
        "### Upper & Lower\n",
        "\n",
        "---\n",
        "\n"
      ],
      "metadata": {
        "id": "wNkb6l_2o7_h"
      }
    },
    {
      "cell_type": "code",
      "source": [
        "uppercase_text = text.upper()\n",
        "lowercase_text = text.lower()\n",
        "\n",
        "print(f\"Original: {text}\")\n",
        "print(f\"Uppercase: {uppercase_text}\")\n",
        "print(f\"Lowercase: {lowercase_text}\")"
      ],
      "metadata": {
        "colab": {
          "base_uri": "https://localhost:8080/"
        },
        "id": "cpixD0bNo1Vx",
        "outputId": "adf0204c-a765-4670-dd8a-23c19b8e963e"
      },
      "execution_count": null,
      "outputs": [
        {
          "output_type": "stream",
          "name": "stdout",
          "text": [
            "Original: Hello, World!\n",
            "Uppercase: HELLO, WORLD!\n",
            "Lowercase: hello, world!\n"
          ]
        }
      ]
    },
    {
      "cell_type": "code",
      "source": [
        "name2 = 'ALi'\n",
        "name2.lower()"
      ],
      "metadata": {
        "colab": {
          "base_uri": "https://localhost:8080/",
          "height": 35
        },
        "id": "loXRdyNQCttU",
        "outputId": "a1743099-6c52-4036-f2d8-db119b6ac4dc"
      },
      "execution_count": null,
      "outputs": [
        {
          "output_type": "execute_result",
          "data": {
            "text/plain": [
              "'ali'"
            ],
            "application/vnd.google.colaboratory.intrinsic+json": {
              "type": "string"
            }
          },
          "metadata": {},
          "execution_count": 7
        }
      ]
    },
    {
      "cell_type": "markdown",
      "source": [
        "### Replace\n",
        "\n",
        "---\n",
        "\n"
      ],
      "metadata": {
        "id": "IN4g4w54o3zJ"
      }
    },
    {
      "cell_type": "code",
      "source": [
        "new_text = text.replace(\"World\", \"Python\")\n",
        "print(f\"Replaced: {new_text}\")"
      ],
      "metadata": {
        "colab": {
          "base_uri": "https://localhost:8080/"
        },
        "id": "pCXswzwoorMJ",
        "outputId": "55249f54-8619-44b6-f8db-d8b3abae23b0"
      },
      "execution_count": null,
      "outputs": [
        {
          "output_type": "stream",
          "name": "stdout",
          "text": [
            "Replaced: Hello, Python!\n"
          ]
        }
      ]
    },
    {
      "cell_type": "code",
      "source": [
        "text = \"this is a book. the book is good\"\n",
        "text.replace(\"book\", \"pen\")"
      ],
      "metadata": {
        "id": "8sWEXjQpQSYE",
        "colab": {
          "base_uri": "https://localhost:8080/",
          "height": 35
        },
        "outputId": "14e3cdce-935e-452c-cf3f-4abf6a8a5fb5"
      },
      "execution_count": null,
      "outputs": [
        {
          "output_type": "execute_result",
          "data": {
            "text/plain": [
              "'this is a pen. the pen is good'"
            ],
            "application/vnd.google.colaboratory.intrinsic+json": {
              "type": "string"
            }
          },
          "metadata": {},
          "execution_count": 6
        }
      ]
    },
    {
      "cell_type": "code",
      "source": [
        "name = \"ali\"\n",
        "name.replace('ali', 'reza')"
      ],
      "metadata": {
        "colab": {
          "base_uri": "https://localhost:8080/",
          "height": 35
        },
        "id": "4ICfiHHiCYxj",
        "outputId": "bc35a9a2-48f4-462d-fdd3-39858ee8c6d3"
      },
      "execution_count": null,
      "outputs": [
        {
          "output_type": "execute_result",
          "data": {
            "text/plain": [
              "'reza'"
            ],
            "application/vnd.google.colaboratory.intrinsic+json": {
              "type": "string"
            }
          },
          "metadata": {},
          "execution_count": 5
        }
      ]
    },
    {
      "cell_type": "code",
      "source": [
        "# name[0] = 'l' -> Error, becuase string is immutable and we can't change it."
      ],
      "metadata": {
        "id": "YzsJ6dNICfz6"
      },
      "execution_count": null,
      "outputs": []
    },
    {
      "cell_type": "markdown",
      "source": [
        "### Capitalize\n",
        "---"
      ],
      "metadata": {
        "id": "2N8_9FOnHYnL"
      }
    },
    {
      "cell_type": "code",
      "source": [
        "city = \"tehran\"\n",
        "city.capitalize()"
      ],
      "metadata": {
        "colab": {
          "base_uri": "https://localhost:8080/",
          "height": 35
        },
        "id": "A4ybm2J6Hipm",
        "outputId": "868d5729-e170-4926-d1ed-b181f03c11ae"
      },
      "execution_count": null,
      "outputs": [
        {
          "output_type": "execute_result",
          "data": {
            "text/plain": [
              "'Tehran'"
            ],
            "application/vnd.google.colaboratory.intrinsic+json": {
              "type": "string"
            }
          },
          "metadata": {},
          "execution_count": 12
        }
      ]
    },
    {
      "cell_type": "code",
      "source": [
        "city"
      ],
      "metadata": {
        "colab": {
          "base_uri": "https://localhost:8080/",
          "height": 35
        },
        "id": "KfpHMjSRHkiN",
        "outputId": "2423aeab-5fc7-477c-d46b-aeeb6f5777ab"
      },
      "execution_count": null,
      "outputs": [
        {
          "output_type": "execute_result",
          "data": {
            "text/plain": [
              "'tehran'"
            ],
            "application/vnd.google.colaboratory.intrinsic+json": {
              "type": "string"
            }
          },
          "metadata": {},
          "execution_count": 13
        }
      ]
    },
    {
      "cell_type": "code",
      "source": [
        "city = \"tehran\"\n",
        "city2 = city.capitalize()\n",
        "print(city)\n",
        "print(city2)"
      ],
      "metadata": {
        "colab": {
          "base_uri": "https://localhost:8080/"
        },
        "id": "uQb3CA0fHb0l",
        "outputId": "19fcfd4c-95f3-4f1f-aa23-8504d32da3ee"
      },
      "execution_count": null,
      "outputs": [
        {
          "output_type": "stream",
          "name": "stdout",
          "text": [
            "tehran\n",
            "Tehran\n"
          ]
        }
      ]
    },
    {
      "cell_type": "markdown",
      "source": [
        "## f-string"
      ],
      "metadata": {
        "id": "xqe9GOIaVldi"
      }
    },
    {
      "cell_type": "code",
      "source": [
        "name = \"Alice\"\n",
        "age = 30\n",
        "print(f\"My name is {name} and I am {age} years old.\")"
      ],
      "metadata": {
        "colab": {
          "base_uri": "https://localhost:8080/"
        },
        "id": "53kwKeFgVjc7",
        "outputId": "0d5cd11c-784a-4f3c-8e95-7ddd9f8b4445"
      },
      "execution_count": null,
      "outputs": [
        {
          "output_type": "stream",
          "name": "stdout",
          "text": [
            "My name is Alice and I am 30 years old.\n"
          ]
        }
      ]
    },
    {
      "cell_type": "code",
      "source": [
        "fname = \"sara\"\n",
        "lname = \"mohammadi\"\n",
        "full_name = fname + \" \" + lname\n",
        "\n",
        "age = 25\n",
        "\n",
        "f\"His name is {full_name} and he is {age} years old\""
      ],
      "metadata": {
        "id": "pdTrl7xUBt4l",
        "colab": {
          "base_uri": "https://localhost:8080/",
          "height": 35
        },
        "outputId": "9d76ca77-bbc3-41c6-d1c2-a1a3c63fc6fa"
      },
      "execution_count": 5,
      "outputs": [
        {
          "output_type": "execute_result",
          "data": {
            "text/plain": [
              "'His name is sara mohammadi and he is 25 years old'"
            ],
            "application/vnd.google.colaboratory.intrinsic+json": {
              "type": "string"
            }
          },
          "metadata": {},
          "execution_count": 5
        }
      ]
    },
    {
      "cell_type": "markdown",
      "source": [
        "## Concatenation"
      ],
      "metadata": {
        "id": "k0CSBJ1-Bxsr"
      }
    },
    {
      "cell_type": "code",
      "source": [
        "\"ali\" + \"reza\""
      ],
      "metadata": {
        "colab": {
          "base_uri": "https://localhost:8080/",
          "height": 35
        },
        "id": "f5MM_1DyB0Xz",
        "outputId": "1990cb10-12ad-4a46-935c-b97cbeca69ba"
      },
      "execution_count": null,
      "outputs": [
        {
          "output_type": "execute_result",
          "data": {
            "text/plain": [
              "'alireza'"
            ],
            "application/vnd.google.colaboratory.intrinsic+json": {
              "type": "string"
            }
          },
          "metadata": {},
          "execution_count": 1
        }
      ]
    },
    {
      "cell_type": "markdown",
      "source": [
        "## List\n",
        "\n",
        "\n",
        "---\n",
        "\n",
        "\n",
        "Ordered, mutable (changeable) collection of items"
      ],
      "metadata": {
        "id": "T-EDp1SnQbus"
      }
    },
    {
      "cell_type": "code",
      "source": [
        "my_list = [1, 2, 3, \"apple\", True]\n",
        "print(my_list, type(my_list))"
      ],
      "metadata": {
        "id": "YGBEQRGZQZ-s",
        "colab": {
          "base_uri": "https://localhost:8080/"
        },
        "outputId": "53ab434d-a75d-438b-8d05-4c7578616713"
      },
      "execution_count": null,
      "outputs": [
        {
          "output_type": "stream",
          "name": "stdout",
          "text": [
            "[1, 2, 3, 'apple', True] <class 'list'>\n"
          ]
        }
      ]
    },
    {
      "cell_type": "markdown",
      "source": [
        "### Indexing"
      ],
      "metadata": {
        "id": "-9VnLSHSqpgC"
      }
    },
    {
      "cell_type": "code",
      "source": [
        "my_list[2]"
      ],
      "metadata": {
        "colab": {
          "base_uri": "https://localhost:8080/"
        },
        "id": "ZQ73A_qxqlVq",
        "outputId": "2b17373c-78cb-431a-f64b-ddec9549f532"
      },
      "execution_count": null,
      "outputs": [
        {
          "output_type": "execute_result",
          "data": {
            "text/plain": [
              "6"
            ]
          },
          "metadata": {},
          "execution_count": 128
        }
      ]
    },
    {
      "cell_type": "code",
      "source": [
        "my_list[-3]"
      ],
      "metadata": {
        "colab": {
          "base_uri": "https://localhost:8080/"
        },
        "id": "Pq0KCOeMqtKZ",
        "outputId": "e61a7739-ad9a-4dfd-b42f-a68a4538de6a"
      },
      "execution_count": null,
      "outputs": [
        {
          "output_type": "execute_result",
          "data": {
            "text/plain": [
              "4"
            ]
          },
          "metadata": {},
          "execution_count": 130
        }
      ]
    },
    {
      "cell_type": "markdown",
      "source": [
        "### Slicing\n",
        "\n",
        "---\n",
        "\n"
      ],
      "metadata": {
        "id": "MNEiS8f9qwj5"
      }
    },
    {
      "cell_type": "code",
      "source": [
        "my_list[1:3]"
      ],
      "metadata": {
        "colab": {
          "base_uri": "https://localhost:8080/"
        },
        "id": "uOs3jb8rqwSi",
        "outputId": "168094e7-3dca-4463-acaf-e4f852d1e951"
      },
      "execution_count": null,
      "outputs": [
        {
          "output_type": "execute_result",
          "data": {
            "text/plain": [
              "[5, 6]"
            ]
          },
          "metadata": {},
          "execution_count": 131
        }
      ]
    },
    {
      "cell_type": "markdown",
      "source": [
        "## List Methods\n",
        "\n",
        "---\n",
        "\n"
      ],
      "metadata": {
        "id": "UtsBoV_6n1NB"
      }
    },
    {
      "cell_type": "markdown",
      "source": [
        "### append\n",
        "---\n",
        "Adds an element to the end of the list"
      ],
      "metadata": {
        "id": "XFjyp2WpnjLp"
      }
    },
    {
      "cell_type": "code",
      "source": [
        "my_list = [1, 2, 3, \"apple\", True]"
      ],
      "metadata": {
        "id": "08NDYDKaoOTp"
      },
      "execution_count": null,
      "outputs": []
    },
    {
      "cell_type": "code",
      "source": [
        "my_list.append(4)\n",
        "print(\"After append:\", my_list)"
      ],
      "metadata": {
        "colab": {
          "base_uri": "https://localhost:8080/"
        },
        "id": "udVV_tNOnSiB",
        "outputId": "469cb2ef-0c8a-4164-8203-51d392c50f00"
      },
      "execution_count": null,
      "outputs": [
        {
          "output_type": "stream",
          "name": "stdout",
          "text": [
            "After append: [1, 2, 3, 'apple', True, 4]\n"
          ]
        }
      ]
    },
    {
      "cell_type": "markdown",
      "source": [
        "### insert\n",
        "\n",
        "---\n",
        "\n",
        "\n",
        "Inserts an element at a specific index"
      ],
      "metadata": {
        "id": "tEeGjs_tnsCh"
      }
    },
    {
      "cell_type": "code",
      "source": [
        "my_list.insert(2, \"banana\")\n",
        "print(\"After insert:\", my_list)"
      ],
      "metadata": {
        "colab": {
          "base_uri": "https://localhost:8080/"
        },
        "id": "hc435_8dnVKT",
        "outputId": "38f8813d-468a-490f-8802-0ee821ca81dd"
      },
      "execution_count": null,
      "outputs": [
        {
          "output_type": "stream",
          "name": "stdout",
          "text": [
            "After insert: [1, 2, 'banana', 3, 'apple', True, 4]\n"
          ]
        }
      ]
    },
    {
      "cell_type": "markdown",
      "source": [
        "### remove\n",
        "\n",
        "---\n",
        "\n",
        "\n",
        "Removes the first occurrence of a specific element"
      ],
      "metadata": {
        "id": "wrhp45p5nxrJ"
      }
    },
    {
      "cell_type": "code",
      "source": [
        "my_list.remove(\"apple\")\n",
        "print(\"After remove:\", my_list)"
      ],
      "metadata": {
        "colab": {
          "base_uri": "https://localhost:8080/"
        },
        "id": "vTwUiiwqnZLh",
        "outputId": "9ac49884-6e5c-46e9-e38d-2cd0aefe4e28"
      },
      "execution_count": null,
      "outputs": [
        {
          "output_type": "stream",
          "name": "stdout",
          "text": [
            "After remove: [1, 2, 'banana', 3, True, 4]\n"
          ]
        }
      ]
    },
    {
      "cell_type": "markdown",
      "source": [
        "### count\n",
        "\n",
        "---\n",
        "\n",
        "\n",
        "Returns the number of times a specific element appears in the list"
      ],
      "metadata": {
        "id": "ujO_oiyDn9AS"
      }
    },
    {
      "cell_type": "code",
      "source": [
        "count_of_2 = my_list.count(2)\n",
        "print(\"Count of 2:\", count_of_2)"
      ],
      "metadata": {
        "colab": {
          "base_uri": "https://localhost:8080/"
        },
        "id": "ugVPq1kEncJa",
        "outputId": "698e311f-259b-4aae-9a0d-a701d27d1766"
      },
      "execution_count": null,
      "outputs": [
        {
          "output_type": "stream",
          "name": "stdout",
          "text": [
            "Count of 2: 1\n"
          ]
        }
      ]
    },
    {
      "cell_type": "markdown",
      "source": [
        "### pop\n",
        "\n",
        "---\n",
        "\n",
        "\n",
        "Removes and returns the element at a specific index (default is the last element)"
      ],
      "metadata": {
        "id": "80JV1jAboQrg"
      }
    },
    {
      "cell_type": "code",
      "source": [
        "popped_element = my_list.pop(3)\n",
        "print(\"Popped element:\", popped_element)\n",
        "print(\"After pop:\", my_list)"
      ],
      "metadata": {
        "colab": {
          "base_uri": "https://localhost:8080/"
        },
        "id": "bAafPJE0nZ65",
        "outputId": "2090db53-6296-4cef-918d-6c1961121302"
      },
      "execution_count": null,
      "outputs": [
        {
          "output_type": "stream",
          "name": "stdout",
          "text": [
            "Popped element: 3\n",
            "After pop: [1, 2, 'banana', True, 4]\n"
          ]
        }
      ]
    },
    {
      "cell_type": "markdown",
      "source": [
        "### sort\n",
        "\n",
        "---\n",
        "\n",
        "\n",
        "Sorts the elements of the list in ascending order (in-place)"
      ],
      "metadata": {
        "id": "yQwB-XWooUzZ"
      }
    },
    {
      "cell_type": "code",
      "source": [
        "numbers = [5, 2, 8, 1, 9]\n",
        "numbers.sort()\n",
        "print(\"Sorted Numbers:\", numbers)"
      ],
      "metadata": {
        "colab": {
          "base_uri": "https://localhost:8080/"
        },
        "id": "rJodGFxMnfBL",
        "outputId": "d3f845e6-69d8-4dc4-ce96-c3634cbc5946"
      },
      "execution_count": null,
      "outputs": [
        {
          "output_type": "stream",
          "name": "stdout",
          "text": [
            "Sorted Numbers: [1, 2, 5, 8, 9]\n"
          ]
        }
      ]
    },
    {
      "cell_type": "markdown",
      "source": [
        "## Mutable vs Immutable\n",
        "\n",
        "### Key Concepts\n",
        "\n",
        "*   **Mutable Objects**: These are objects whose state or content can be modified after creation.\n",
        "*   **Immutable Objects**: These are objects whose state or content cannot be changed after creation.\n",
        "*   **Mutable Data Types**: Lists, Dictionaries, Sets\n",
        "*   **Immutable Data Types**: Integers, Floats, Strings, Tuple\n"
      ],
      "metadata": {
        "id": "ZQ5BEsRQJXHR"
      }
    },
    {
      "cell_type": "markdown",
      "source": [
        "## Comparison: List (Mutable) vs String (Immutable)\n"
      ],
      "metadata": {
        "id": "ufiGfg5nJulW"
      }
    },
    {
      "cell_type": "markdown",
      "source": [
        "### List (Mutable)\n",
        "Lists are mutable, meaning their elements can be modified after creation"
      ],
      "metadata": {
        "id": "v50XLXQuJ91O"
      }
    },
    {
      "cell_type": "code",
      "source": [
        "  # Example\n",
        "  my_list = [1, 2, 3]\n",
        "  my_list[0] = 10  # Modifying the first element\n",
        "  print(my_list)"
      ],
      "metadata": {
        "colab": {
          "base_uri": "https://localhost:8080/"
        },
        "id": "8jRIUpIeJeRO",
        "outputId": "378e1545-fa89-4aff-fdd5-e37830ba3af1"
      },
      "execution_count": 6,
      "outputs": [
        {
          "output_type": "stream",
          "name": "stdout",
          "text": [
            "[10, 2, 3]\n"
          ]
        }
      ]
    },
    {
      "cell_type": "markdown",
      "source": [
        "### String (Immutable)\n",
        "Strings are immutable, meaning their content cannot be changed after creation.\n",
        "\n",
        "\n"
      ],
      "metadata": {
        "id": "qB8VK1EmJ7ye"
      }
    },
    {
      "cell_type": "code",
      "source": [
        "my_string = \"hello\"\n",
        "# my_string[0] = 'H'  # This would raise an error"
      ],
      "metadata": {
        "id": "qVFjFas1KGcG"
      },
      "execution_count": null,
      "outputs": []
    },
    {
      "cell_type": "code",
      "source": [
        "my_string.replace('h', 'H')"
      ],
      "metadata": {
        "colab": {
          "base_uri": "https://localhost:8080/",
          "height": 35
        },
        "id": "ehulkx3LKNfu",
        "outputId": "09062396-707d-4de9-b8f6-40100ca71e8c"
      },
      "execution_count": null,
      "outputs": [
        {
          "output_type": "execute_result",
          "data": {
            "text/plain": [
              "'Hello'"
            ],
            "application/vnd.google.colaboratory.intrinsic+json": {
              "type": "string"
            }
          },
          "metadata": {},
          "execution_count": 17
        }
      ]
    },
    {
      "cell_type": "code",
      "source": [
        "my_string"
      ],
      "metadata": {
        "colab": {
          "base_uri": "https://localhost:8080/",
          "height": 35
        },
        "id": "hMDnmmfhKOWJ",
        "outputId": "d2cdfec3-7d4a-4658-d661-1cf3b8c485f6"
      },
      "execution_count": null,
      "outputs": [
        {
          "output_type": "execute_result",
          "data": {
            "text/plain": [
              "'hello'"
            ],
            "application/vnd.google.colaboratory.intrinsic+json": {
              "type": "string"
            }
          },
          "metadata": {},
          "execution_count": 18
        }
      ]
    },
    {
      "cell_type": "code",
      "source": [
        "new_string = my_string.replace('h', 'H')  # Creates a new string\n",
        "print(new_string)"
      ],
      "metadata": {
        "colab": {
          "base_uri": "https://localhost:8080/"
        },
        "id": "LUrW2GAzKLfv",
        "outputId": "fa636589-35a7-4ac1-ad59-7324f3059bda"
      },
      "execution_count": null,
      "outputs": [
        {
          "output_type": "stream",
          "name": "stdout",
          "text": [
            "Hello\n"
          ]
        }
      ]
    },
    {
      "cell_type": "code",
      "source": [
        "my_list = [1, 2, 3, 'ali', True]\n",
        "\n",
        "print(my_list, type(my_list))"
      ],
      "metadata": {
        "colab": {
          "base_uri": "https://localhost:8080/"
        },
        "id": "c1BBaZHJrUvH",
        "outputId": "49e0e6e7-b9d8-4851-83f5-e7310af2723f"
      },
      "execution_count": null,
      "outputs": [
        {
          "output_type": "stream",
          "name": "stdout",
          "text": [
            "[1, 2, 3, 'ali', True] <class 'list'>\n"
          ]
        }
      ]
    },
    {
      "cell_type": "code",
      "source": [
        "my_list[3] = 10"
      ],
      "metadata": {
        "id": "fzw1Zn6_rXEY"
      },
      "execution_count": null,
      "outputs": []
    },
    {
      "cell_type": "code",
      "source": [
        "my_list"
      ],
      "metadata": {
        "colab": {
          "base_uri": "https://localhost:8080/"
        },
        "id": "gLfJKDGdracQ",
        "outputId": "b48e4302-3fa3-4036-a513-0e5b349ce2d2"
      },
      "execution_count": null,
      "outputs": [
        {
          "output_type": "execute_result",
          "data": {
            "text/plain": [
              "[1, 2, 3, 10, True]"
            ]
          },
          "metadata": {},
          "execution_count": 3
        }
      ]
    },
    {
      "cell_type": "code",
      "source": [
        "my_list[-1] = 20"
      ],
      "metadata": {
        "id": "SBCVEVgprbTm"
      },
      "execution_count": null,
      "outputs": []
    },
    {
      "cell_type": "code",
      "source": [
        "my_list"
      ],
      "metadata": {
        "colab": {
          "base_uri": "https://localhost:8080/"
        },
        "id": "8ysJNmrdrdWy",
        "outputId": "78c074ea-e1a0-4871-b975-69cfff447e73"
      },
      "execution_count": null,
      "outputs": [
        {
          "output_type": "execute_result",
          "data": {
            "text/plain": [
              "[1, 2, 3, 10, 20]"
            ]
          },
          "metadata": {},
          "execution_count": 5
        }
      ]
    },
    {
      "cell_type": "code",
      "source": [
        "my_list.append(90)"
      ],
      "metadata": {
        "id": "3lzRxjdNrfqX"
      },
      "execution_count": null,
      "outputs": []
    },
    {
      "cell_type": "code",
      "source": [
        "my_list"
      ],
      "metadata": {
        "colab": {
          "base_uri": "https://localhost:8080/"
        },
        "id": "__qaPF62rg5P",
        "outputId": "0f4be2dc-aa15-47c5-d725-e901e19a1ec1"
      },
      "execution_count": null,
      "outputs": [
        {
          "output_type": "execute_result",
          "data": {
            "text/plain": [
              "[1, 2, 3, 10, 20, 90]"
            ]
          },
          "metadata": {},
          "execution_count": 7
        }
      ]
    },
    {
      "cell_type": "code",
      "source": [
        "my_list.insert(3, 4)"
      ],
      "metadata": {
        "id": "4TVNUFYTri0_"
      },
      "execution_count": null,
      "outputs": []
    },
    {
      "cell_type": "code",
      "source": [
        "my_list"
      ],
      "metadata": {
        "colab": {
          "base_uri": "https://localhost:8080/"
        },
        "id": "RzENbaFMrjq_",
        "outputId": "f40f7d65-3dcf-49aa-d6dd-a551ee4a4f0e"
      },
      "execution_count": null,
      "outputs": [
        {
          "output_type": "execute_result",
          "data": {
            "text/plain": [
              "[1, 2, 3, 4, 10, 20, 90]"
            ]
          },
          "metadata": {},
          "execution_count": 9
        }
      ]
    },
    {
      "cell_type": "code",
      "source": [
        "my_list.extend([2, 4, 6])"
      ],
      "metadata": {
        "id": "pFpKuQOXrm6n"
      },
      "execution_count": null,
      "outputs": []
    },
    {
      "cell_type": "code",
      "source": [
        "my_list"
      ],
      "metadata": {
        "colab": {
          "base_uri": "https://localhost:8080/"
        },
        "id": "g3Wdr3RdrnxP",
        "outputId": "d94581a9-4148-4e62-bd41-53a888f0434f"
      },
      "execution_count": null,
      "outputs": [
        {
          "output_type": "execute_result",
          "data": {
            "text/plain": [
              "[1, 2, 3, 4, 10, 20, 90, 2, 4, 6]"
            ]
          },
          "metadata": {},
          "execution_count": 11
        }
      ]
    },
    {
      "cell_type": "code",
      "source": [
        "my_list.append([2, 3, 4])"
      ],
      "metadata": {
        "id": "m5uP0OulrpOf"
      },
      "execution_count": null,
      "outputs": []
    },
    {
      "cell_type": "code",
      "source": [
        "my_list"
      ],
      "metadata": {
        "colab": {
          "base_uri": "https://localhost:8080/"
        },
        "id": "1JvpOPOjrqIH",
        "outputId": "91fe8c2e-6a41-4184-b52d-8c56d9d84f50"
      },
      "execution_count": null,
      "outputs": [
        {
          "output_type": "execute_result",
          "data": {
            "text/plain": [
              "[1, 2, 3, 4, 10, 20, 90, 2, 4, 6, [2, 3, 4]]"
            ]
          },
          "metadata": {},
          "execution_count": 13
        }
      ]
    },
    {
      "cell_type": "code",
      "source": [
        "my_list[-1].append([1, 2, 3])"
      ],
      "metadata": {
        "id": "oD1RvG0Jrr1n"
      },
      "execution_count": null,
      "outputs": []
    },
    {
      "cell_type": "code",
      "source": [
        "my_list"
      ],
      "metadata": {
        "colab": {
          "base_uri": "https://localhost:8080/"
        },
        "id": "wMzW9kI5rso4",
        "outputId": "3bcdf2d2-2d29-4e1e-abc2-6ed7ab64f16b"
      },
      "execution_count": null,
      "outputs": [
        {
          "output_type": "execute_result",
          "data": {
            "text/plain": [
              "[1, 2, 3, 4, 10, 20, 90, 2, 4, 6, [2, 3, 4, [1, 2, 3]]]"
            ]
          },
          "metadata": {},
          "execution_count": 15
        }
      ]
    },
    {
      "cell_type": "code",
      "source": [
        "my_list[-1][1] = 5"
      ],
      "metadata": {
        "id": "XPYVOg6rrvLL"
      },
      "execution_count": null,
      "outputs": []
    },
    {
      "cell_type": "code",
      "source": [
        "my_list"
      ],
      "metadata": {
        "colab": {
          "base_uri": "https://localhost:8080/"
        },
        "id": "JnoaiU_ErwKH",
        "outputId": "36158a77-3806-4f6b-9199-5e680a5c72dd"
      },
      "execution_count": null,
      "outputs": [
        {
          "output_type": "execute_result",
          "data": {
            "text/plain": [
              "[1, 2, 3, 4, 10, 20, 90, 2, 4, 6, [2, 5, 4, [1, 2, 3]]]"
            ]
          },
          "metadata": {},
          "execution_count": 17
        }
      ]
    },
    {
      "cell_type": "code",
      "source": [
        "my_list[-1][-1][0] = 10"
      ],
      "metadata": {
        "id": "Rm-vNhtWr0ar"
      },
      "execution_count": null,
      "outputs": []
    },
    {
      "cell_type": "code",
      "source": [
        "my_list"
      ],
      "metadata": {
        "colab": {
          "base_uri": "https://localhost:8080/"
        },
        "id": "-Oi6qdG3r36x",
        "outputId": "5926f7e0-e3b6-40ac-82c9-37476c9f2353"
      },
      "execution_count": null,
      "outputs": [
        {
          "output_type": "execute_result",
          "data": {
            "text/plain": [
              "[1, 2, 3, 4, 10, 20, 90, 2, 4, 6, [2, 5, 4, [10, 2, 3]]]"
            ]
          },
          "metadata": {},
          "execution_count": 19
        }
      ]
    },
    {
      "cell_type": "code",
      "source": [
        "l1 = [1, 2, 3]\n",
        "l2 = [4, 5, 6]\n",
        "\n",
        "l3 = l1 + l2"
      ],
      "metadata": {
        "id": "6AETrVa_r6DQ"
      },
      "execution_count": null,
      "outputs": []
    },
    {
      "cell_type": "code",
      "source": [
        "l3"
      ],
      "metadata": {
        "colab": {
          "base_uri": "https://localhost:8080/"
        },
        "id": "bS-qV-E3r653",
        "outputId": "de07af2f-a002-438a-bab8-7ed7907de149"
      },
      "execution_count": null,
      "outputs": [
        {
          "output_type": "execute_result",
          "data": {
            "text/plain": [
              "[1, 2, 3, 4, 5, 6]"
            ]
          },
          "metadata": {},
          "execution_count": 21
        }
      ]
    },
    {
      "cell_type": "code",
      "source": [
        "l1.extend(l2)"
      ],
      "metadata": {
        "id": "kF6Siy2Tr7yp"
      },
      "execution_count": null,
      "outputs": []
    },
    {
      "cell_type": "code",
      "source": [
        "l1"
      ],
      "metadata": {
        "colab": {
          "base_uri": "https://localhost:8080/"
        },
        "id": "tT5WZU3Kr-f_",
        "outputId": "45d6cdbc-2f05-4644-ec4c-5b60a30a0dcf"
      },
      "execution_count": null,
      "outputs": [
        {
          "output_type": "execute_result",
          "data": {
            "text/plain": [
              "[1, 2, 3, 4, 5, 6]"
            ]
          },
          "metadata": {},
          "execution_count": 23
        }
      ]
    },
    {
      "cell_type": "code",
      "source": [
        "l1 = [1, 2, 3]"
      ],
      "metadata": {
        "id": "0z299x3Er_fP"
      },
      "execution_count": null,
      "outputs": []
    },
    {
      "cell_type": "code",
      "source": [
        "l2 = l1"
      ],
      "metadata": {
        "id": "8JEh6hTesCkw"
      },
      "execution_count": null,
      "outputs": []
    },
    {
      "cell_type": "code",
      "source": [
        "print(id(l1), id(l2))"
      ],
      "metadata": {
        "colab": {
          "base_uri": "https://localhost:8080/"
        },
        "id": "2dUVVbHCsEoK",
        "outputId": "fad92b37-3c5b-41d9-adc1-f66d7fec67f1"
      },
      "execution_count": null,
      "outputs": [
        {
          "output_type": "stream",
          "name": "stdout",
          "text": [
            "137370185386304 137370185386304\n"
          ]
        }
      ]
    },
    {
      "cell_type": "code",
      "source": [
        "print(l1)\n",
        "print(l2)"
      ],
      "metadata": {
        "colab": {
          "base_uri": "https://localhost:8080/"
        },
        "id": "8nfZ-OoAsHKE",
        "outputId": "722b96ae-56f7-4031-96b0-6777553d292a"
      },
      "execution_count": null,
      "outputs": [
        {
          "output_type": "stream",
          "name": "stdout",
          "text": [
            "[1, 2, 3]\n",
            "[1, 2, 3]\n"
          ]
        }
      ]
    },
    {
      "cell_type": "code",
      "source": [
        "l2.append(4)"
      ],
      "metadata": {
        "id": "mWrrA7iEsIi5"
      },
      "execution_count": null,
      "outputs": []
    },
    {
      "cell_type": "code",
      "source": [
        "print(l1)\n",
        "print(l2)"
      ],
      "metadata": {
        "colab": {
          "base_uri": "https://localhost:8080/"
        },
        "id": "P6URkjTgsKDf",
        "outputId": "72972923-5722-4b0a-9e66-ba120985b9e4"
      },
      "execution_count": null,
      "outputs": [
        {
          "output_type": "stream",
          "name": "stdout",
          "text": [
            "[1, 2, 3, 4]\n",
            "[1, 2, 3, 4]\n"
          ]
        }
      ]
    },
    {
      "cell_type": "code",
      "source": [
        "l1 = [1, 2, 3]\n",
        "l2 = l1.copy()"
      ],
      "metadata": {
        "id": "HVzKw5D9sLUR"
      },
      "execution_count": null,
      "outputs": []
    },
    {
      "cell_type": "code",
      "source": [
        "id(l1.copy())"
      ],
      "metadata": {
        "colab": {
          "base_uri": "https://localhost:8080/"
        },
        "id": "RloJ-0bosMro",
        "outputId": "af51d5ae-2599-453f-ab3d-8e997330080b"
      },
      "execution_count": null,
      "outputs": [
        {
          "output_type": "execute_result",
          "data": {
            "text/plain": [
              "137370186250816"
            ]
          },
          "metadata": {},
          "execution_count": 31
        }
      ]
    },
    {
      "cell_type": "code",
      "source": [
        "print(id(l1), id(l2))"
      ],
      "metadata": {
        "colab": {
          "base_uri": "https://localhost:8080/"
        },
        "id": "IHBFys4psN8l",
        "outputId": "656b9fef-0030-498e-874b-93ec234c26ab"
      },
      "execution_count": null,
      "outputs": [
        {
          "output_type": "stream",
          "name": "stdout",
          "text": [
            "137370186243968 137371031303808\n"
          ]
        }
      ]
    },
    {
      "cell_type": "code",
      "source": [
        "l2.append(4)"
      ],
      "metadata": {
        "id": "sFxNcGaEsPNt"
      },
      "execution_count": null,
      "outputs": []
    },
    {
      "cell_type": "code",
      "source": [
        "print(l1)\n",
        "print(l2)"
      ],
      "metadata": {
        "colab": {
          "base_uri": "https://localhost:8080/"
        },
        "id": "_BNt30kRsQiR",
        "outputId": "2642c4d7-eb13-44f8-dc65-86be5d79fee7"
      },
      "execution_count": null,
      "outputs": [
        {
          "output_type": "stream",
          "name": "stdout",
          "text": [
            "[1, 2, 3]\n",
            "[1, 2, 3, 4]\n"
          ]
        }
      ]
    },
    {
      "cell_type": "code",
      "source": [
        "lst = [1, 2, 3, 6, 7, 8]\n",
        "lst[0]"
      ],
      "metadata": {
        "colab": {
          "base_uri": "https://localhost:8080/"
        },
        "id": "2eOzPZazsTQh",
        "outputId": "1f309129-6a11-42e4-fbe9-e0e1f8a4eda8"
      },
      "execution_count": null,
      "outputs": [
        {
          "output_type": "execute_result",
          "data": {
            "text/plain": [
              "1"
            ]
          },
          "metadata": {},
          "execution_count": 35
        }
      ]
    },
    {
      "cell_type": "code",
      "source": [
        "lst[1:4]"
      ],
      "metadata": {
        "colab": {
          "base_uri": "https://localhost:8080/"
        },
        "id": "wL_Hfc_BsUrV",
        "outputId": "8708c2c4-f155-4f94-804a-4a31ff281a00"
      },
      "execution_count": null,
      "outputs": [
        {
          "output_type": "execute_result",
          "data": {
            "text/plain": [
              "[2, 3, 6]"
            ]
          },
          "metadata": {},
          "execution_count": 36
        }
      ]
    },
    {
      "cell_type": "code",
      "source": [
        "lst[:100000]"
      ],
      "metadata": {
        "colab": {
          "base_uri": "https://localhost:8080/"
        },
        "id": "frq81NDmsWJ_",
        "outputId": "b6458bda-4301-4fd2-8b05-21e1daa39ecc"
      },
      "execution_count": null,
      "outputs": [
        {
          "output_type": "execute_result",
          "data": {
            "text/plain": [
              "[1, 2, 3, 6, 7, 8]"
            ]
          },
          "metadata": {},
          "execution_count": 37
        }
      ]
    },
    {
      "cell_type": "markdown",
      "source": [
        "## Tuple\n",
        "---\n",
        "Ordered, immutable (unchangeable) collection of items"
      ],
      "metadata": {
        "id": "YZM3eyYHQenT"
      }
    },
    {
      "cell_type": "code",
      "source": [
        "my_tuple = (1, 2, 3, \"banana\", False)\n",
        "print(my_tuple, type(my_tuple))"
      ],
      "metadata": {
        "id": "ar6nzS5HQeDF",
        "colab": {
          "base_uri": "https://localhost:8080/"
        },
        "outputId": "c1de1107-deaf-48ca-9c6d-abc69d1f0667"
      },
      "execution_count": null,
      "outputs": [
        {
          "output_type": "stream",
          "name": "stdout",
          "text": [
            "(1, 2, 3, 'banana', False) <class 'tuple'>\n"
          ]
        }
      ]
    },
    {
      "cell_type": "markdown",
      "source": [
        "## Range\n",
        "\n",
        "---\n",
        "\n",
        "\n",
        "Represents a sequence of numbers"
      ],
      "metadata": {
        "id": "Wn6izOc5UtPu"
      }
    },
    {
      "cell_type": "code",
      "source": [
        "my_range = range(5) # Numbers from 0 to 4\n",
        "print(my_range, type(my_range))"
      ],
      "metadata": {
        "colab": {
          "base_uri": "https://localhost:8080/"
        },
        "id": "QEzrWDexQm2j",
        "outputId": "625818e9-2ab2-463b-e11f-2d8409b56fa6"
      },
      "execution_count": null,
      "outputs": [
        {
          "output_type": "stream",
          "name": "stdout",
          "text": [
            "range(0, 5) <class 'range'>\n"
          ]
        }
      ]
    },
    {
      "cell_type": "markdown",
      "source": [
        "## Dictionary\n",
        "\n",
        "\n",
        "---\n",
        "\n",
        "\n",
        "Collection of key-value pairs"
      ],
      "metadata": {
        "id": "O9SHSFDsQvn0"
      }
    },
    {
      "cell_type": "code",
      "source": [
        "my_dict = {\n",
        "    \"name\": \"Bob\",\n",
        "    \"age\": 25,\n",
        "    \"city\": \"New York\"\n",
        "}\n",
        "print(type(my_dict))"
      ],
      "metadata": {
        "id": "UhrwhkVrQyJT",
        "colab": {
          "base_uri": "https://localhost:8080/"
        },
        "outputId": "988bd6e3-404d-4e09-89a3-aff552806f4c"
      },
      "execution_count": 8,
      "outputs": [
        {
          "output_type": "stream",
          "name": "stdout",
          "text": [
            "<class 'dict'>\n"
          ]
        }
      ]
    },
    {
      "cell_type": "code",
      "source": [
        "my_dict.get(\"name\")"
      ],
      "metadata": {
        "colab": {
          "base_uri": "https://localhost:8080/",
          "height": 35
        },
        "id": "SW8Ld0Y3dXgm",
        "outputId": "0f9133ea-a967-4c9e-df72-1318f5c813ab"
      },
      "execution_count": 9,
      "outputs": [
        {
          "output_type": "execute_result",
          "data": {
            "text/plain": [
              "'Bob'"
            ],
            "application/vnd.google.colaboratory.intrinsic+json": {
              "type": "string"
            }
          },
          "metadata": {},
          "execution_count": 9
        }
      ]
    },
    {
      "cell_type": "code",
      "source": [
        "my_dict.update({\"age\":26})"
      ],
      "metadata": {
        "id": "Z3o9WCsrdhMs"
      },
      "execution_count": 10,
      "outputs": []
    },
    {
      "cell_type": "code",
      "source": [
        "my_dict"
      ],
      "metadata": {
        "colab": {
          "base_uri": "https://localhost:8080/"
        },
        "id": "Hpvxf8zXdmB1",
        "outputId": "52f711c6-c51c-4697-8706-ed246362dcaf"
      },
      "execution_count": 11,
      "outputs": [
        {
          "output_type": "execute_result",
          "data": {
            "text/plain": [
              "{'name': 'Bob', 'age': 26, 'city': 'New York'}"
            ]
          },
          "metadata": {},
          "execution_count": 11
        }
      ]
    },
    {
      "cell_type": "code",
      "source": [
        "city = my_dict.pop(\"age\")"
      ],
      "metadata": {
        "id": "NUD0LkVwdcYs"
      },
      "execution_count": 12,
      "outputs": []
    },
    {
      "cell_type": "code",
      "source": [
        "print(city)\n",
        "my_dict"
      ],
      "metadata": {
        "colab": {
          "base_uri": "https://localhost:8080/"
        },
        "id": "8bdNvhXvdwo8",
        "outputId": "3c5bcc02-ec52-46bd-f4d3-6fb76447f800"
      },
      "execution_count": 13,
      "outputs": [
        {
          "output_type": "stream",
          "name": "stdout",
          "text": [
            "26\n"
          ]
        },
        {
          "output_type": "execute_result",
          "data": {
            "text/plain": [
              "{'name': 'Bob', 'city': 'New York'}"
            ]
          },
          "metadata": {},
          "execution_count": 13
        }
      ]
    },
    {
      "cell_type": "code",
      "source": [
        "my_dict.pop(\"city\")"
      ],
      "metadata": {
        "colab": {
          "base_uri": "https://localhost:8080/",
          "height": 35
        },
        "id": "OaJQOm62d4My",
        "outputId": "3481bcaf-01bb-4b7d-f504-8cd39c0c3f01"
      },
      "execution_count": 14,
      "outputs": [
        {
          "output_type": "execute_result",
          "data": {
            "text/plain": [
              "'New York'"
            ],
            "application/vnd.google.colaboratory.intrinsic+json": {
              "type": "string"
            }
          },
          "metadata": {},
          "execution_count": 14
        }
      ]
    },
    {
      "cell_type": "code",
      "source": [
        "my_dict"
      ],
      "metadata": {
        "colab": {
          "base_uri": "https://localhost:8080/"
        },
        "id": "KsnNdsUkd6hd",
        "outputId": "7d9b5837-9a69-4964-951b-27830ea078ec"
      },
      "execution_count": 15,
      "outputs": [
        {
          "output_type": "execute_result",
          "data": {
            "text/plain": [
              "{'name': 'Bob'}"
            ]
          },
          "metadata": {},
          "execution_count": 15
        }
      ]
    },
    {
      "cell_type": "code",
      "source": [
        "my_dict2 = {\n",
        "    \"name\": \"Bob\",\n",
        "    \"age\": 25,\n",
        "    \"city\": \"New York\"\n",
        "}"
      ],
      "metadata": {
        "id": "dJbpV281eF6-"
      },
      "execution_count": 17,
      "outputs": []
    },
    {
      "cell_type": "code",
      "source": [
        "my_dict2.keys()"
      ],
      "metadata": {
        "colab": {
          "base_uri": "https://localhost:8080/"
        },
        "id": "H3rEK1jAeCed",
        "outputId": "0a49fb61-9d3d-40d5-e11b-40d0ac2bbaf9"
      },
      "execution_count": 19,
      "outputs": [
        {
          "output_type": "execute_result",
          "data": {
            "text/plain": [
              "dict_keys(['name', 'age', 'city'])"
            ]
          },
          "metadata": {},
          "execution_count": 19
        }
      ]
    },
    {
      "cell_type": "code",
      "source": [
        "my_dict2.values()"
      ],
      "metadata": {
        "colab": {
          "base_uri": "https://localhost:8080/"
        },
        "id": "kQHJE_fCeIyV",
        "outputId": "8eba770b-d007-4c59-c625-4db5074a243c"
      },
      "execution_count": 18,
      "outputs": [
        {
          "output_type": "execute_result",
          "data": {
            "text/plain": [
              "dict_values(['Bob', 25, 'New York'])"
            ]
          },
          "metadata": {},
          "execution_count": 18
        }
      ]
    },
    {
      "cell_type": "code",
      "source": [
        "my_dict2.items()"
      ],
      "metadata": {
        "colab": {
          "base_uri": "https://localhost:8080/"
        },
        "id": "3ce8pHt8eNAk",
        "outputId": "fb9e5092-83c7-48c8-dfb5-578c08a3120e"
      },
      "execution_count": 20,
      "outputs": [
        {
          "output_type": "execute_result",
          "data": {
            "text/plain": [
              "dict_items([('name', 'Bob'), ('age', 25), ('city', 'New York')])"
            ]
          },
          "metadata": {},
          "execution_count": 20
        }
      ]
    },
    {
      "cell_type": "markdown",
      "source": [
        "## Set\n",
        "\n",
        "\n",
        "---\n",
        "\n",
        "\n",
        "Unordered collection of unique items<br>\n",
        "Set items are unordered, unchangeable, and do not allow duplicate values."
      ],
      "metadata": {
        "id": "JcAI-YNuQzRj"
      }
    },
    {
      "cell_type": "code",
      "source": [
        "my_set = {10, 50, 20, 3, 3, 4} # Duplicate 3 is removed\n",
        "print(my_set, type(my_set))"
      ],
      "metadata": {
        "id": "v4YThNuyURO3",
        "colab": {
          "base_uri": "https://localhost:8080/"
        },
        "outputId": "6fc31fb3-8317-45d6-9f9e-4fe29648e5fe"
      },
      "execution_count": 29,
      "outputs": [
        {
          "output_type": "stream",
          "name": "stdout",
          "text": [
            "{50, 3, 4, 20, 10} <class 'set'>\n"
          ]
        }
      ]
    },
    {
      "cell_type": "code",
      "source": [
        "set1 = {\"apple\", \"banana\", \"cherry\"}\n",
        "set2 = {\"google\", \"microsoft\", \"apple\"}"
      ],
      "metadata": {
        "id": "XYAJgYCCe4UO"
      },
      "execution_count": 30,
      "outputs": []
    },
    {
      "cell_type": "code",
      "source": [
        "set3 = set1.union(set2)\n",
        "set3"
      ],
      "metadata": {
        "colab": {
          "base_uri": "https://localhost:8080/"
        },
        "id": "kQLwefpVfEWF",
        "outputId": "533ad36f-b1f4-4137-cdf3-8d18c584b9b8"
      },
      "execution_count": 31,
      "outputs": [
        {
          "output_type": "execute_result",
          "data": {
            "text/plain": [
              "{'apple', 'banana', 'cherry', 'google', 'microsoft'}"
            ]
          },
          "metadata": {},
          "execution_count": 31
        }
      ]
    },
    {
      "cell_type": "code",
      "source": [
        "set4 = set1.intersection(set2)\n",
        "set4"
      ],
      "metadata": {
        "colab": {
          "base_uri": "https://localhost:8080/"
        },
        "id": "iPak8tp-fOyh",
        "outputId": "c610f37d-0e7f-4f97-b7ca-038927736c38"
      },
      "execution_count": 33,
      "outputs": [
        {
          "output_type": "execute_result",
          "data": {
            "text/plain": [
              "{'apple'}"
            ]
          },
          "metadata": {},
          "execution_count": 33
        }
      ]
    },
    {
      "cell_type": "markdown",
      "source": [
        "## Boolean Type\n",
        "---\n",
        "Represents True or False\n"
      ],
      "metadata": {
        "id": "pR-gMgWaTUab"
      }
    },
    {
      "cell_type": "code",
      "source": [
        "is_student = True\n",
        "print(is_student, type(is_student))"
      ],
      "metadata": {
        "id": "WaVgunaATQsr",
        "colab": {
          "base_uri": "https://localhost:8080/"
        },
        "outputId": "f19d0b3f-4aaf-41b9-ee48-3dbc18eb78f6"
      },
      "execution_count": null,
      "outputs": [
        {
          "output_type": "stream",
          "name": "stdout",
          "text": [
            "True <class 'bool'>\n"
          ]
        }
      ]
    },
    {
      "cell_type": "markdown",
      "source": [
        "## None\n",
        "---\n",
        "Represents the absence of a value"
      ],
      "metadata": {
        "id": "AbzFXBStTaWr"
      }
    },
    {
      "cell_type": "code",
      "source": [
        "result = None\n",
        "print(result, type(result))"
      ],
      "metadata": {
        "id": "gJCcoO5bTRsz",
        "colab": {
          "base_uri": "https://localhost:8080/"
        },
        "outputId": "5006e619-7425-486d-c680-470c2356a7b2"
      },
      "execution_count": null,
      "outputs": [
        {
          "output_type": "stream",
          "name": "stdout",
          "text": [
            "None <class 'NoneType'>\n"
          ]
        }
      ]
    },
    {
      "cell_type": "markdown",
      "source": [
        "# **Type Casting (Conversion)**\n",
        "\n",
        "\n",
        "---\n",
        "\n"
      ],
      "metadata": {
        "id": "xk1d6OwpUl-y"
      }
    },
    {
      "cell_type": "markdown",
      "source": [
        "int to float"
      ],
      "metadata": {
        "id": "S-mocxUQVD_T"
      }
    },
    {
      "cell_type": "code",
      "source": [
        "age = 30\n",
        "float_age = float(age)\n",
        "print(f\"Age as float: {float_age}, type: {type(float_age)}\")"
      ],
      "metadata": {
        "colab": {
          "base_uri": "https://localhost:8080/"
        },
        "id": "-RC2tTOtUwQC",
        "outputId": "763b41b2-93ce-47c4-94bc-22f51bb4c8be"
      },
      "execution_count": null,
      "outputs": [
        {
          "output_type": "stream",
          "name": "stdout",
          "text": [
            "Age as float: 30.0, type: <class 'float'>\n"
          ]
        }
      ]
    },
    {
      "cell_type": "markdown",
      "source": [
        "float to int"
      ],
      "metadata": {
        "id": "5SwwLVDvVINj"
      }
    },
    {
      "cell_type": "code",
      "source": [
        "height = 5.8\n",
        "int_height = int(height)\n",
        "print(f\"Height as int: {int_height}, type: {type(int_height)}\")"
      ],
      "metadata": {
        "colab": {
          "base_uri": "https://localhost:8080/"
        },
        "id": "L4BqbsrKUxJy",
        "outputId": "ac35dc28-fc6d-4762-ce11-b08dee570461"
      },
      "execution_count": null,
      "outputs": [
        {
          "output_type": "stream",
          "name": "stdout",
          "text": [
            "Height as int: 5, type: <class 'int'>\n"
          ]
        }
      ]
    },
    {
      "cell_type": "markdown",
      "source": [
        "string to int"
      ],
      "metadata": {
        "id": "q0XQm1EhVMMy"
      }
    },
    {
      "cell_type": "code",
      "source": [
        "string_num = \"123\"\n",
        "int_num = int(string_num)\n",
        "print(f\"String num as int: {int_num}, type: {type(int_num)}\")"
      ],
      "metadata": {
        "colab": {
          "base_uri": "https://localhost:8080/"
        },
        "id": "J_IkKdWmUyNK",
        "outputId": "573f5c45-55bd-41a0-b62d-7fd2402a206c"
      },
      "execution_count": null,
      "outputs": [
        {
          "output_type": "stream",
          "name": "stdout",
          "text": [
            "String num as int: 123, type: <class 'int'>\n"
          ]
        }
      ]
    },
    {
      "cell_type": "markdown",
      "source": [
        "int to string"
      ],
      "metadata": {
        "id": "34-i7iNkVNiy"
      }
    },
    {
      "cell_type": "code",
      "source": [
        "number = 42\n",
        "string_number = str(number)\n",
        "print(f\"Number as string: {string_number}, type: {type(string_number)}\")"
      ],
      "metadata": {
        "colab": {
          "base_uri": "https://localhost:8080/"
        },
        "id": "VNJT61WBU0PT",
        "outputId": "21e79ee6-b68a-4021-f54d-241c4dd1575a"
      },
      "execution_count": null,
      "outputs": [
        {
          "output_type": "stream",
          "name": "stdout",
          "text": [
            "Number as string: 42, type: <class 'str'>\n"
          ]
        }
      ]
    },
    {
      "cell_type": "markdown",
      "source": [
        "string to float"
      ],
      "metadata": {
        "id": "OWwHN7rAVPja"
      }
    },
    {
      "cell_type": "code",
      "source": [
        "string_float = \"3.14\"\n",
        "float_from_string = float(string_float)\n",
        "print(f\"String float as float: {float_from_string}, type: {type(float_from_string)}\")"
      ],
      "metadata": {
        "colab": {
          "base_uri": "https://localhost:8080/"
        },
        "id": "OLgPMeiJU1QL",
        "outputId": "6c74ef09-a363-4ca8-d571-0a185ad6c132"
      },
      "execution_count": null,
      "outputs": [
        {
          "output_type": "stream",
          "name": "stdout",
          "text": [
            "String float as float: 3.14, type: <class 'float'>\n"
          ]
        }
      ]
    },
    {
      "cell_type": "markdown",
      "source": [
        "list to tuple"
      ],
      "metadata": {
        "id": "Jh2kySdYVRKU"
      }
    },
    {
      "cell_type": "code",
      "source": [
        "my_list = [1, 2, 3]\n",
        "my_tuple = tuple(my_list)\n",
        "print(f\"List as tuple: {my_tuple}, type: {type(my_tuple)}\")"
      ],
      "metadata": {
        "colab": {
          "base_uri": "https://localhost:8080/"
        },
        "id": "iLd0GCaTUteK",
        "outputId": "7f5cbb57-c0d8-42ed-b92e-14b4038d0abf"
      },
      "execution_count": null,
      "outputs": [
        {
          "output_type": "stream",
          "name": "stdout",
          "text": [
            "List as tuple: (1, 2, 3), type: <class 'tuple'>\n"
          ]
        }
      ]
    },
    {
      "cell_type": "markdown",
      "source": [
        "tuple to list"
      ],
      "metadata": {
        "id": "UF0srX69VTHy"
      }
    },
    {
      "cell_type": "code",
      "source": [
        "my_tuple = (4, 5, 6)\n",
        "my_list = list(my_tuple)\n",
        "print(f\"Tuple as list: {my_list}, type: {type(my_list)}\")"
      ],
      "metadata": {
        "colab": {
          "base_uri": "https://localhost:8080/"
        },
        "id": "wwQ8qPdzU_fq",
        "outputId": "e097a2b6-9f42-40a0-e7bb-a7f2ae8ec88f"
      },
      "execution_count": null,
      "outputs": [
        {
          "output_type": "stream",
          "name": "stdout",
          "text": [
            "Tuple as list: [4, 5, 6], type: <class 'list'>\n"
          ]
        }
      ]
    },
    {
      "cell_type": "markdown",
      "source": [
        "# **input function**\n",
        "---\n",
        "Get user input\n"
      ],
      "metadata": {
        "id": "jlQio2XNUVPD"
      }
    },
    {
      "cell_type": "code",
      "source": [
        "name = input(\"Enter your name: \")\n",
        "age = int(input(\"Enter your age: \"))  # Convert input to an integer\n",
        "city = input(\"Enter your city: \")"
      ],
      "metadata": {
        "colab": {
          "base_uri": "https://localhost:8080/"
        },
        "id": "aDWjTTRyUUTc",
        "outputId": "1d48ea16-612e-4e82-a3cb-a5dd4848bec1"
      },
      "execution_count": null,
      "outputs": [
        {
          "name": "stdout",
          "output_type": "stream",
          "text": [
            "Enter your name: name\n",
            "Enter your age: 23\n",
            "Enter your city: shz\n"
          ]
        }
      ]
    },
    {
      "cell_type": "code",
      "source": [
        "print(\"User Information:\")\n",
        "print(\"Name:\", name)\n",
        "print(\"Age:\", age)\n",
        "print(\"City:\", city)"
      ],
      "metadata": {
        "colab": {
          "base_uri": "https://localhost:8080/"
        },
        "id": "qMjoZrWhUg86",
        "outputId": "954ce0bb-037f-4b69-b084-9a38a0f2fb37"
      },
      "execution_count": null,
      "outputs": [
        {
          "output_type": "stream",
          "name": "stdout",
          "text": [
            "User Information:\n",
            "Name: name\n",
            "Age: 23\n",
            "City: shz\n"
          ]
        }
      ]
    },
    {
      "cell_type": "markdown",
      "source": [
        "# **Operators**\n",
        "\n",
        "\n",
        "---\n",
        "\n"
      ],
      "metadata": {
        "id": "gaHpPy3aWMtj"
      }
    },
    {
      "cell_type": "markdown",
      "source": [
        "## Arithmetic Operators\n",
        "\n",
        "\n",
        "---\n",
        "\n"
      ],
      "metadata": {
        "id": "mxeRi7JVWDc7"
      }
    },
    {
      "cell_type": "code",
      "source": [
        "x = 10\n",
        "y = 5\n",
        "\n",
        "addition = x + y  # Addition\n",
        "subtraction = x - y # Subtraction\n",
        "multiplication = x * y # Multiplication\n",
        "division = x / y # Division\n",
        "floor_division = x // y # Floor division\n",
        "modulus = x % y  # Modulus (remainder)\n",
        "exponentiation = x ** y  # Exponentiation\n",
        "\n",
        "print(f\"Addition: {addition}\")\n",
        "print(f\"Subtraction: {subtraction}\")\n",
        "print(f\"Multiplication: {multiplication}\")\n",
        "print(f\"Division: {division}\")\n",
        "print(f\"Floor Division: {floor_division}\")\n",
        "print(f\"Modulus: {modulus}\")\n",
        "print(f\"Exponentiation: {exponentiation}\")"
      ],
      "metadata": {
        "colab": {
          "base_uri": "https://localhost:8080/"
        },
        "id": "pe4UNfe_V6NS",
        "outputId": "98744203-c8a3-45ae-d9e9-d07b9ce97bd7"
      },
      "execution_count": null,
      "outputs": [
        {
          "output_type": "stream",
          "name": "stdout",
          "text": [
            "Addition: 15\n",
            "Subtraction: 5\n",
            "Multiplication: 50\n",
            "Division: 2.0\n",
            "Floor Division: 2\n",
            "Modulus: 0\n",
            "Exponentiation: 100000\n"
          ]
        }
      ]
    },
    {
      "cell_type": "markdown",
      "source": [
        "## Comparison Operators\n",
        "\n",
        "\n",
        "---\n",
        "\n"
      ],
      "metadata": {
        "id": "P4PQt1IbWKeT"
      }
    },
    {
      "cell_type": "code",
      "source": [
        "a = 10\n",
        "b = 5\n",
        "\n",
        "print(f\"Is a equal to b? {a == b}\")  # Equal to\n",
        "print(f\"Is a not equal to b? {a != b}\")  # Not equal to\n",
        "print(f\"Is a greater than b? {a > b}\")  # Greater than\n",
        "print(f\"Is a less than b? {a < b}\")  # Less than\n",
        "print(f\"Is a greater than or equal to b? {a >= b}\")  # Greater than or equal to\n",
        "print(f\"Is a less than or equal to b? {a <= b}\")  # Less than or equal to"
      ],
      "metadata": {
        "colab": {
          "base_uri": "https://localhost:8080/"
        },
        "id": "5ZloPF-wV9kL",
        "outputId": "96281b51-68b3-4db7-ac5e-127959a6af8a"
      },
      "execution_count": null,
      "outputs": [
        {
          "output_type": "stream",
          "name": "stdout",
          "text": [
            "Is a equal to b? False\n",
            "Is a not equal to b? True\n",
            "Is a greater than b? True\n",
            "Is a less than b? False\n",
            "Is a greater than or equal to b? True\n",
            "Is a less than or equal to b? False\n"
          ]
        }
      ]
    },
    {
      "cell_type": "markdown",
      "source": [
        "### Comparison of Different Data Types\n",
        "- The expression `5 == '5'` compares an integer (`5`) with a string (`'5'`).\n",
        "- In most programming languages, this comparison will return `False` because the data types (integer vs. string) are different, even though their values appear similar."
      ],
      "metadata": {
        "id": "OR6eKwiLEexU"
      }
    },
    {
      "cell_type": "code",
      "source": [
        "5 == '5'"
      ],
      "metadata": {
        "colab": {
          "base_uri": "https://localhost:8080/"
        },
        "id": "oEdQVpVtEWPt",
        "outputId": "3eab9352-bc44-44f3-e4b3-cbf38a555fc9"
      },
      "execution_count": null,
      "outputs": [
        {
          "output_type": "execute_result",
          "data": {
            "text/plain": [
              "False"
            ]
          },
          "metadata": {},
          "execution_count": 9
        }
      ]
    },
    {
      "cell_type": "markdown",
      "source": [
        "## Logical Operators\n",
        "\n",
        "\n",
        "---\n",
        "\n"
      ],
      "metadata": {
        "id": "VlBgYln9WSNT"
      }
    },
    {
      "cell_type": "code",
      "source": [
        "p = True\n",
        "q = False\n",
        "\n",
        "print(f\"p AND q: {p and q}\")  # Logical AND\n",
        "print(f\"p OR q: {p or q}\")  # Logical OR\n",
        "print(f\"NOT p: {not p}\")  # Logical NOT"
      ],
      "metadata": {
        "colab": {
          "base_uri": "https://localhost:8080/"
        },
        "id": "wUCn4zPYV_Zb",
        "outputId": "e939a57b-8f5a-45cf-da68-b03b4bb28ea8"
      },
      "execution_count": null,
      "outputs": [
        {
          "output_type": "stream",
          "name": "stdout",
          "text": [
            "p AND q: False\n",
            "p OR q: True\n",
            "NOT p: False\n"
          ]
        }
      ]
    },
    {
      "cell_type": "markdown",
      "source": [
        "## Assignment Operators\n",
        "\n",
        "---\n",
        "\n"
      ],
      "metadata": {
        "id": "Gmk5Dw-oWVML"
      }
    },
    {
      "cell_type": "code",
      "source": [
        "num1 = 15\n",
        "num1 += 5 # num1 = num1 +5\n",
        "print(f\"num1 after += 5: {num1}\")\n",
        "\n",
        "num1 -= 3 # num1 = num1 - 3\n",
        "print(f\"num1 after -= 3: {num1}\")\n",
        "\n",
        "num1 *= 2 # num1 = num1 * 2\n",
        "print(f\"num1 after *= 2: {num1}\")\n",
        "\n",
        "num1 /= 4 # num1 = num1 / 4\n",
        "print(f\"num1 after /= 4: {num1}\")\n",
        "\n",
        "num1 %= 3 # num1 = num1 % 3\n",
        "print(f\"num1 after %= 3: {num1}\")"
      ],
      "metadata": {
        "colab": {
          "base_uri": "https://localhost:8080/"
        },
        "id": "NiPkvklDWBdr",
        "outputId": "271df567-85f3-44c8-b160-740bb53c47a5"
      },
      "execution_count": null,
      "outputs": [
        {
          "output_type": "stream",
          "name": "stdout",
          "text": [
            "num1 after += 5: 20\n",
            "num1 after -= 3: 17\n",
            "num1 after *= 2: 34\n",
            "num1 after /= 4: 8.5\n",
            "num1 after %= 3: 2.5\n"
          ]
        }
      ]
    },
    {
      "cell_type": "markdown",
      "source": [
        "# **Conditional Statements**\n",
        "\n",
        "---\n",
        "\n"
      ],
      "metadata": {
        "id": "30AHS4-AWn-b"
      }
    },
    {
      "cell_type": "markdown",
      "source": [
        "## If statement\n",
        "\n",
        "---\n",
        "\n"
      ],
      "metadata": {
        "id": "NaRL0zkjW6wb"
      }
    },
    {
      "cell_type": "code",
      "source": [
        "x = 10\n",
        "if x > 5:\n",
        "  print(\"x is greater than 5\")"
      ],
      "metadata": {
        "colab": {
          "base_uri": "https://localhost:8080/"
        },
        "id": "iZJ55FSuW357",
        "outputId": "cc50afbf-e066-4a88-f95d-5f6809743b04"
      },
      "execution_count": null,
      "outputs": [
        {
          "output_type": "stream",
          "name": "stdout",
          "text": [
            "x is greater than 5\n"
          ]
        }
      ]
    },
    {
      "cell_type": "markdown",
      "source": [
        "## If-else statement\n",
        "\n",
        "---\n"
      ],
      "metadata": {
        "id": "atzRBeL9W8Jz"
      }
    },
    {
      "cell_type": "code",
      "source": [
        "x = 9.9\n",
        "if x >= 10:\n",
        "  print(\"Passed\")\n",
        "else:\n",
        "  print(\"Failed\")"
      ],
      "metadata": {
        "colab": {
          "base_uri": "https://localhost:8080/"
        },
        "id": "EY6eDoIuW3HF",
        "outputId": "a0f17984-0e2c-4e85-9e08-b2cf3025b34d"
      },
      "execution_count": null,
      "outputs": [
        {
          "output_type": "stream",
          "name": "stdout",
          "text": [
            "y is not greater than 5\n"
          ]
        }
      ]
    },
    {
      "cell_type": "code",
      "source": [
        "number = int(input(\"Enter a number: \"))\n",
        "\n",
        "if number % 2 == 0:\n",
        "    print(f\"{number} is even\")\n",
        "else:\n",
        "    print(f\"{number} is odd\")"
      ],
      "metadata": {
        "colab": {
          "base_uri": "https://localhost:8080/"
        },
        "id": "gg9gcGA1m4Rq",
        "outputId": "554471b3-9927-41ad-9abc-eac63d14803d"
      },
      "execution_count": null,
      "outputs": [
        {
          "output_type": "stream",
          "name": "stdout",
          "text": [
            "Enter a number: 2\n",
            "2 is even\n"
          ]
        }
      ]
    },
    {
      "cell_type": "markdown",
      "source": [
        "## If-elif-else statement\n",
        "\n",
        "---\n",
        "\n"
      ],
      "metadata": {
        "id": "Cx1KBe2TW98r"
      }
    },
    {
      "cell_type": "code",
      "source": [
        "z = 7\n",
        "if z > 10:\n",
        "  print(\"z is greater than 10\")\n",
        "elif z > 5:\n",
        "  print(\"z is greater than 5 but not greater than 10\")\n",
        "else:\n",
        "  print(\"z is not greater than 5\")"
      ],
      "metadata": {
        "colab": {
          "base_uri": "https://localhost:8080/"
        },
        "id": "Kx-utZsmW15D",
        "outputId": "e3807b25-0656-41d8-f9b9-bb849c024129"
      },
      "execution_count": null,
      "outputs": [
        {
          "output_type": "stream",
          "name": "stdout",
          "text": [
            "z is greater than 5 but not greater than 10\n"
          ]
        }
      ]
    },
    {
      "cell_type": "markdown",
      "source": [
        "## Nested if statements\n",
        "\n",
        "---\n",
        "\n"
      ],
      "metadata": {
        "id": "Sc4wfl-iW_x7"
      }
    },
    {
      "cell_type": "code",
      "source": [
        "age = 20\n",
        "if age >= 18:\n",
        "  print(\"You are an adult\")\n",
        "  if age >= 65:\n",
        "    print(\"You are also a senior citizen\")\n",
        "  else:\n",
        "    print(\"You are not a senior citizen.\")\n",
        "else:\n",
        "  print(\"You are a minor.\")"
      ],
      "metadata": {
        "colab": {
          "base_uri": "https://localhost:8080/"
        },
        "id": "o2h6-VF1W1Aj",
        "outputId": "50d679f5-e923-42df-8b8a-aa552c66382e"
      },
      "execution_count": null,
      "outputs": [
        {
          "output_type": "stream",
          "name": "stdout",
          "text": [
            "You are an adult\n",
            "You are not a senior citizen.\n"
          ]
        }
      ]
    },
    {
      "cell_type": "markdown",
      "source": [
        "## Using logical operators in conditions\n",
        "\n",
        "---\n",
        "\n"
      ],
      "metadata": {
        "id": "E7K1U2qhXJ-D"
      }
    },
    {
      "cell_type": "code",
      "source": [
        "temperature = 25\n",
        "if temperature > 20 and temperature < 30:\n",
        "  print(\"The temperature is pleasant\")"
      ],
      "metadata": {
        "colab": {
          "base_uri": "https://localhost:8080/"
        },
        "id": "BHKdxbHUW0Hj",
        "outputId": "8204eafc-99ed-42bf-e982-31f306fdbbec"
      },
      "execution_count": null,
      "outputs": [
        {
          "output_type": "stream",
          "name": "stdout",
          "text": [
            "The temperature is pleasant\n"
          ]
        }
      ]
    },
    {
      "cell_type": "code",
      "source": [
        "is_raining = True\n",
        "if not is_raining:\n",
        "  print(\"Let's go outside!\")\n",
        "else:\n",
        "  print(\"It's raining, stay inside!\")"
      ],
      "metadata": {
        "colab": {
          "base_uri": "https://localhost:8080/"
        },
        "id": "5gDigNwmWy7T",
        "outputId": "d7158c1c-653d-4911-dd78-91feefeb2b18"
      },
      "execution_count": null,
      "outputs": [
        {
          "output_type": "stream",
          "name": "stdout",
          "text": [
            "It's raining, stay inside!\n"
          ]
        }
      ]
    },
    {
      "cell_type": "markdown",
      "source": [
        "## Ternary operator\n",
        "\n",
        "---\n",
        "\n"
      ],
      "metadata": {
        "id": "8Dh-YXpLXo7S"
      }
    },
    {
      "cell_type": "code",
      "source": [
        "result = \"x is greater than 5\" if x > 5 else \"x is not greater than 5\"\n"
      ],
      "metadata": {
        "id": "RS5f7xd4XSj7"
      },
      "execution_count": null,
      "outputs": []
    },
    {
      "cell_type": "markdown",
      "source": [
        "# **Loops**\n",
        "\n",
        "---\n",
        "\n"
      ],
      "metadata": {
        "id": "D4m00vSWcNrs"
      }
    },
    {
      "cell_type": "markdown",
      "source": [
        "## For loop\n",
        "\n",
        "---\n",
        "\n"
      ],
      "metadata": {
        "id": "h7KgkamUcQMa"
      }
    },
    {
      "cell_type": "code",
      "source": [
        "for i in range(5):  # Iterate from 0 to 4\n",
        "  print(i)"
      ],
      "metadata": {
        "colab": {
          "base_uri": "https://localhost:8080/"
        },
        "id": "bWD9FCTkcLPa",
        "outputId": "c2e218a4-eab6-449a-fcd5-5bfbb080dc8f"
      },
      "execution_count": null,
      "outputs": [
        {
          "output_type": "stream",
          "name": "stdout",
          "text": [
            "0\n",
            "1\n",
            "2\n",
            "3\n",
            "4\n"
          ]
        }
      ]
    },
    {
      "cell_type": "code",
      "source": [
        "names = ['ali', 'reza', 'mina', 'sara']\n",
        "for name in names:\n",
        "  print(f\"hello {name}\")"
      ],
      "metadata": {
        "colab": {
          "base_uri": "https://localhost:8080/"
        },
        "id": "lvg6z0ChhGEp",
        "outputId": "9ea085cc-e6d5-4cca-c862-90fff45829af"
      },
      "execution_count": null,
      "outputs": [
        {
          "output_type": "stream",
          "name": "stdout",
          "text": [
            "hello ali\n",
            "hello reza\n",
            "hello mina\n",
            "hello sara\n"
          ]
        }
      ]
    },
    {
      "cell_type": "code",
      "source": [
        "names = ['ali', 'reza', 'mina', 'sara']\n",
        "for i in range(len(names)):\n",
        "  print(f\"student {i}: {names[i]}\")"
      ],
      "metadata": {
        "colab": {
          "base_uri": "https://localhost:8080/"
        },
        "id": "2K79SoFqhTZZ",
        "outputId": "45dd12d1-a3c1-42c5-a8ba-bba345c6593a"
      },
      "execution_count": null,
      "outputs": [
        {
          "output_type": "stream",
          "name": "stdout",
          "text": [
            "student 0: ali\n",
            "student 1: reza\n",
            "student 2: mina\n",
            "student 3: sara\n"
          ]
        }
      ]
    },
    {
      "cell_type": "code",
      "source": [
        "fact = 1\n",
        "n = int(input(\"factorial of n: \"))\n",
        "for i in range(1, n+1):\n",
        "  fact *= i\n",
        "  print(fact)\n",
        "\n",
        "print(f\"factorial of {n} is {fact}\")"
      ],
      "metadata": {
        "colab": {
          "base_uri": "https://localhost:8080/"
        },
        "id": "_-o_5T37gogR",
        "outputId": "90f6857d-8f31-4bdc-c366-e623eb804d6c"
      },
      "execution_count": null,
      "outputs": [
        {
          "output_type": "stream",
          "name": "stdout",
          "text": [
            "factorial of n: 5\n",
            "1\n",
            "2\n",
            "6\n",
            "24\n",
            "120\n",
            "factorial of 5 is 120\n"
          ]
        }
      ]
    },
    {
      "cell_type": "markdown",
      "source": [
        "### Break statement\n",
        "\n",
        "---\n",
        "\n"
      ],
      "metadata": {
        "id": "Kc4O6HvGcXhD"
      }
    },
    {
      "cell_type": "code",
      "source": [
        "for i in range(10):\n",
        "  if i == 5:\n",
        "    break  # Exit the loop when i is 5\n",
        "  print(i)"
      ],
      "metadata": {
        "colab": {
          "base_uri": "https://localhost:8080/"
        },
        "id": "POfFCFVUcJ0a",
        "outputId": "15a96613-17a6-4e4c-ce70-033b1e7dfa39"
      },
      "execution_count": null,
      "outputs": [
        {
          "output_type": "stream",
          "name": "stdout",
          "text": [
            "0\n",
            "1\n",
            "2\n",
            "3\n",
            "4\n"
          ]
        }
      ]
    },
    {
      "cell_type": "markdown",
      "source": [
        "### Continue statement\n",
        "\n",
        "---\n",
        "\n"
      ],
      "metadata": {
        "id": "3Z9yudfLcZtq"
      }
    },
    {
      "cell_type": "code",
      "source": [
        "for i in range(10):\n",
        "  if i % 2 == 0:\n",
        "    continue  # Skip even numbers\n",
        "  print(i)"
      ],
      "metadata": {
        "id": "AaQoUJqscH7S",
        "colab": {
          "base_uri": "https://localhost:8080/"
        },
        "outputId": "a3891784-c50e-4653-dc10-98e5f02757e0"
      },
      "execution_count": 35,
      "outputs": [
        {
          "output_type": "stream",
          "name": "stdout",
          "text": [
            "1\n",
            "3\n",
            "5\n",
            "7\n",
            "9\n"
          ]
        }
      ]
    },
    {
      "cell_type": "markdown",
      "source": [
        "## While loop\n",
        "\n",
        "\n",
        "---\n",
        "\n"
      ],
      "metadata": {
        "id": "OaNiBRLTcTVy"
      }
    },
    {
      "cell_type": "code",
      "source": [
        "d = 5\n",
        "fact = 1\n",
        "c = 1\n",
        "while c <= d:\n",
        "  fact = fact * c\n",
        "  c += 1\n",
        "print(fact)"
      ],
      "metadata": {
        "colab": {
          "base_uri": "https://localhost:8080/"
        },
        "id": "GQdbz2Y5LFen",
        "outputId": "5bb05cdd-17cb-4772-b6e2-7ec3f2c035b9"
      },
      "execution_count": null,
      "outputs": [
        {
          "output_type": "stream",
          "name": "stdout",
          "text": [
            "120\n"
          ]
        }
      ]
    },
    {
      "cell_type": "code",
      "source": [
        "user_input = input(\"Enter a number (or 'q' to quit): \")\n",
        "while user_input != 'q':\n",
        "  print(\"Still There!\")\n",
        "  user_input = input(\"Enter a number (or 'q' to quit): \")"
      ],
      "metadata": {
        "colab": {
          "base_uri": "https://localhost:8080/"
        },
        "id": "8-AcMmhDf1hp",
        "outputId": "678fe3d5-f5ee-4cee-f73c-ccdf53ca410c"
      },
      "execution_count": null,
      "outputs": [
        {
          "name": "stdout",
          "output_type": "stream",
          "text": [
            "Enter a number (or 'q' to quit): q\n"
          ]
        }
      ]
    },
    {
      "cell_type": "code",
      "source": [
        "while True:\n",
        "  user_input = input(\"Enter a number (or 'q' to quit): \")\n",
        "  if user_input == 'q':\n",
        "    break\n",
        "  print(\"Still There!\")"
      ],
      "metadata": {
        "colab": {
          "base_uri": "https://localhost:8080/"
        },
        "id": "2MsLvMSGgQhC",
        "outputId": "cf719adf-5601-4482-cdb2-2abd0963f5f5"
      },
      "execution_count": null,
      "outputs": [
        {
          "name": "stdout",
          "output_type": "stream",
          "text": [
            "Enter a number (or 'q' to quit): q\n"
          ]
        }
      ]
    },
    {
      "cell_type": "markdown",
      "source": [
        "# Function\n",
        "\n",
        "\n",
        "---\n",
        "\n"
      ],
      "metadata": {
        "id": "kQ8MZGGIi4t6"
      }
    },
    {
      "cell_type": "markdown",
      "source": [
        "## Define a function\n",
        "\n",
        "\n",
        "---\n",
        "\n"
      ],
      "metadata": {
        "id": "uzpR6B-wi735"
      }
    },
    {
      "cell_type": "code",
      "source": [
        "b = 6 # global variable\n",
        "def add_numbers():\n",
        "  c = 5 # local variable\n",
        "  return a + b"
      ],
      "metadata": {
        "id": "uc2sctUjiAAf"
      },
      "execution_count": null,
      "outputs": []
    },
    {
      "cell_type": "code",
      "source": [
        "print(a)"
      ],
      "metadata": {
        "colab": {
          "base_uri": "https://localhost:8080/"
        },
        "id": "BtpNjfSjmgFp",
        "outputId": "4cbe4b82-d964-4e17-ae57-b006797ffc4a"
      },
      "execution_count": null,
      "outputs": [
        {
          "output_type": "stream",
          "name": "stdout",
          "text": [
            "10\n"
          ]
        }
      ]
    },
    {
      "cell_type": "code",
      "source": [
        "print(c) # we got an error, because c is a local variable"
      ],
      "metadata": {
        "colab": {
          "base_uri": "https://localhost:8080/",
          "height": 144
        },
        "id": "o0CRLqnomh25",
        "outputId": "6bcd1fd5-8b9f-45dd-e959-af8b2f089147"
      },
      "execution_count": null,
      "outputs": [
        {
          "output_type": "error",
          "ename": "NameError",
          "evalue": "name 'c' is not defined",
          "traceback": [
            "\u001b[0;31m---------------------------------------------------------------------------\u001b[0m",
            "\u001b[0;31mNameError\u001b[0m                                 Traceback (most recent call last)",
            "\u001b[0;32m<ipython-input-138-1dd5973cae19>\u001b[0m in \u001b[0;36m<cell line: 0>\u001b[0;34m()\u001b[0m\n\u001b[0;32m----> 1\u001b[0;31m \u001b[0mprint\u001b[0m\u001b[0;34m(\u001b[0m\u001b[0mc\u001b[0m\u001b[0;34m)\u001b[0m\u001b[0;34m\u001b[0m\u001b[0;34m\u001b[0m\u001b[0m\n\u001b[0m",
            "\u001b[0;31mNameError\u001b[0m: name 'c' is not defined"
          ]
        }
      ]
    },
    {
      "cell_type": "code",
      "source": [
        "result = add_numbers()\n",
        "print(result)"
      ],
      "metadata": {
        "colab": {
          "base_uri": "https://localhost:8080/"
        },
        "id": "Ne8FqhhSiA74",
        "outputId": "02383533-4764-4b13-e66a-c64bac6e18d4"
      },
      "execution_count": null,
      "outputs": [
        {
          "output_type": "stream",
          "name": "stdout",
          "text": [
            "11\n"
          ]
        }
      ]
    },
    {
      "cell_type": "markdown",
      "source": [
        "## Positional Argument\n",
        "---"
      ],
      "metadata": {
        "id": "xrcp_z3mjA6S"
      }
    },
    {
      "cell_type": "code",
      "source": [
        "def add_numbers2(a, b):\n",
        "  return a + b"
      ],
      "metadata": {
        "id": "Dy94DS3ZiEj9"
      },
      "execution_count": null,
      "outputs": []
    },
    {
      "cell_type": "code",
      "source": [
        "result = add_numbers2(2, 3)\n",
        "print(result)"
      ],
      "metadata": {
        "colab": {
          "base_uri": "https://localhost:8080/"
        },
        "id": "eP3jzAofiK5S",
        "outputId": "a983e858-4dc2-480d-a5d3-8f4b9f322ed7"
      },
      "execution_count": null,
      "outputs": [
        {
          "output_type": "stream",
          "name": "stdout",
          "text": [
            "5\n"
          ]
        }
      ]
    },
    {
      "cell_type": "markdown",
      "source": [
        "## Keyword Argument\n",
        "\n",
        "\n",
        "---\n",
        "\n"
      ],
      "metadata": {
        "id": "uGo87MKljwKJ"
      }
    },
    {
      "cell_type": "code",
      "source": [
        "def greet(name, greeting):\n",
        "  return f\"{greeting}, {name}!\"\n",
        "\n",
        "result = greet(greeting=\"Hi\", name=\"Alice\")\n",
        "print(result)"
      ],
      "metadata": {
        "colab": {
          "base_uri": "https://localhost:8080/"
        },
        "id": "W2bsUs3FlO3o",
        "outputId": "4a870b34-8932-4ce4-ad3e-2e00d7e3c19e"
      },
      "execution_count": null,
      "outputs": [
        {
          "output_type": "stream",
          "name": "stdout",
          "text": [
            "Hi, Alice!\n"
          ]
        }
      ]
    },
    {
      "cell_type": "markdown",
      "source": [
        "## Default argument\n",
        "\n",
        "---\n",
        "\n"
      ],
      "metadata": {
        "id": "QohhvCEqjDlR"
      }
    },
    {
      "cell_type": "code",
      "source": [
        "def add_numbers3(a, b=5):\n",
        "  return a + b"
      ],
      "metadata": {
        "id": "tgl3-3RiiNk2"
      },
      "execution_count": null,
      "outputs": []
    },
    {
      "cell_type": "code",
      "source": [
        "result = add_numbers3(3)\n",
        "print(result)"
      ],
      "metadata": {
        "colab": {
          "base_uri": "https://localhost:8080/"
        },
        "id": "c3Bxud9wiW6r",
        "outputId": "59ae2162-0e32-4040-b523-1e89f513b4da"
      },
      "execution_count": null,
      "outputs": [
        {
          "output_type": "stream",
          "name": "stdout",
          "text": [
            "8\n"
          ]
        }
      ]
    },
    {
      "cell_type": "code",
      "source": [
        "def factorial(n):\n",
        "  fact = 1\n",
        "  for i in range(1, n+1):\n",
        "    fact *= i\n",
        "  return fact\n",
        "\n",
        "n = int(input(\"factorial of n: \"))\n",
        "fact = factorial(n)\n",
        "print(fact)"
      ],
      "metadata": {
        "colab": {
          "base_uri": "https://localhost:8080/"
        },
        "id": "AGJrn9EtiZkS",
        "outputId": "7a96e812-62ae-4025-f053-bd46c44ba34b"
      },
      "execution_count": null,
      "outputs": [
        {
          "output_type": "stream",
          "name": "stdout",
          "text": [
            "factorial of n: 3\n",
            "6\n"
          ]
        }
      ]
    },
    {
      "cell_type": "code",
      "source": [
        "def fibo(i):\n",
        "  f1 = 0\n",
        "  f2 = 1\n",
        "  if i<= 2:\n",
        "    return i-1\n",
        "  for c in range(3,i+1):\n",
        "    f3 = f2 + f1\n",
        "    f1 = f2\n",
        "    f2 = f3\n",
        "  return f3\n",
        "\n",
        "for x in range(1,8):\n",
        "  print(fibo(x))"
      ],
      "metadata": {
        "colab": {
          "base_uri": "https://localhost:8080/"
        },
        "id": "m--LJDIXLPvv",
        "outputId": "0323e851-074e-4500-eab0-b8cd842d4a8f"
      },
      "execution_count": null,
      "outputs": [
        {
          "output_type": "stream",
          "name": "stdout",
          "text": [
            "0\n",
            "1\n",
            "1\n",
            "2\n",
            "3\n",
            "5\n",
            "8\n"
          ]
        }
      ]
    },
    {
      "cell_type": "markdown",
      "source": [
        "# Exception Handling\n",
        "\n",
        "---\n",
        "\n"
      ],
      "metadata": {
        "id": "HJpZS9aJlzTx"
      }
    },
    {
      "cell_type": "code",
      "source": [
        "number = int(input(\"Enter a number: \"))"
      ],
      "metadata": {
        "colab": {
          "base_uri": "https://localhost:8080/",
          "height": 162
        },
        "id": "LEfIxJOMmSXJ",
        "outputId": "3f454482-af12-439d-d0eb-64cd33c55096"
      },
      "execution_count": null,
      "outputs": [
        {
          "name": "stdout",
          "output_type": "stream",
          "text": [
            "Enter a number: s\n"
          ]
        },
        {
          "output_type": "error",
          "ename": "ValueError",
          "evalue": "invalid literal for int() with base 10: 's'",
          "traceback": [
            "\u001b[0;31m---------------------------------------------------------------------------\u001b[0m",
            "\u001b[0;31mValueError\u001b[0m                                Traceback (most recent call last)",
            "\u001b[0;32m<ipython-input-123-76c9e59d7c5b>\u001b[0m in \u001b[0;36m<cell line: 0>\u001b[0;34m()\u001b[0m\n\u001b[0;32m----> 1\u001b[0;31m \u001b[0mnumber\u001b[0m \u001b[0;34m=\u001b[0m \u001b[0mint\u001b[0m\u001b[0;34m(\u001b[0m\u001b[0minput\u001b[0m\u001b[0;34m(\u001b[0m\u001b[0;34m\"Enter a number: \"\u001b[0m\u001b[0;34m)\u001b[0m\u001b[0;34m)\u001b[0m\u001b[0;34m\u001b[0m\u001b[0;34m\u001b[0m\u001b[0m\n\u001b[0m",
            "\u001b[0;31mValueError\u001b[0m: invalid literal for int() with base 10: 's'"
          ]
        }
      ]
    },
    {
      "cell_type": "code",
      "source": [
        "try:\n",
        "  # Code that might raise an exception\n",
        "  number = int(input(\"Enter a number: \"))\n",
        "  print(number)\n",
        "except Exception as e:\n",
        "  # Handle the specific exception\n",
        "  print(f\"Error: {e}\")"
      ],
      "metadata": {
        "colab": {
          "base_uri": "https://localhost:8080/"
        },
        "id": "BBuYRbEhl_RT",
        "outputId": "e7e99cf7-2ba2-4a51-99c6-9b589a1db9a9"
      },
      "execution_count": null,
      "outputs": [
        {
          "output_type": "stream",
          "name": "stdout",
          "text": [
            "Enter a number: d\n",
            "Error: invalid literal for int() with base 10: 'd'\n"
          ]
        }
      ]
    },
    {
      "cell_type": "code",
      "source": [
        "10 / 0"
      ],
      "metadata": {
        "colab": {
          "base_uri": "https://localhost:8080/",
          "height": 144
        },
        "id": "CHERWqvUl3NJ",
        "outputId": "4ba8e583-ef48-43ef-fc54-46de5d14da82"
      },
      "execution_count": null,
      "outputs": [
        {
          "output_type": "error",
          "ename": "ZeroDivisionError",
          "evalue": "division by zero",
          "traceback": [
            "\u001b[0;31m---------------------------------------------------------------------------\u001b[0m",
            "\u001b[0;31mZeroDivisionError\u001b[0m                         Traceback (most recent call last)",
            "\u001b[0;32m<ipython-input-125-cd759d3fcf39>\u001b[0m in \u001b[0;36m<cell line: 0>\u001b[0;34m()\u001b[0m\n\u001b[0;32m----> 1\u001b[0;31m \u001b[0;36m10\u001b[0m \u001b[0;34m/\u001b[0m \u001b[0;36m0\u001b[0m\u001b[0;34m\u001b[0m\u001b[0;34m\u001b[0m\u001b[0m\n\u001b[0m",
            "\u001b[0;31mZeroDivisionError\u001b[0m: division by zero"
          ]
        }
      ]
    },
    {
      "cell_type": "code",
      "source": [
        "try:\n",
        "  result = 10 / 0\n",
        "except ZeroDivisionError as e:\n",
        "  print(f\"Error: {e}\")"
      ],
      "metadata": {
        "colab": {
          "base_uri": "https://localhost:8080/"
        },
        "id": "sFoHghIFlw3J",
        "outputId": "85e498bb-bb24-4afd-b7ef-42f2314af64a"
      },
      "execution_count": null,
      "outputs": [
        {
          "output_type": "stream",
          "name": "stdout",
          "text": [
            "Error: division by zero\n"
          ]
        }
      ]
    }
  ]
}
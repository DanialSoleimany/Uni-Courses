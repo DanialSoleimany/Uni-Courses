{
  "cells": [
    {
      "cell_type": "markdown",
      "metadata": {
        "id": "zX2tgYz7EQr9"
      },
      "source": [
        "# **Introduction to Python**\n",
        "\n",
        "\n",
        "---\n",
        "\n",
        "\n",
        "\n",
        "## What is Python?\n",
        "Python is a high-level, interpreted programming language known for its simplicity and readability. It was created by Guido van Rossum and first released in 1991. Python emphasizes code readability and allows developers to express concepts in fewer lines of code compared to other languages like C++ or Java.\n",
        "\n",
        "\n",
        "---\n",
        "\n",
        "\n",
        "\n",
        "### Key Features:\n",
        "- **Interpreted**: Python code is executed line by line.\n",
        "- **Dynamic Typing**: Variables do not need explicit declaration of their type.\n",
        "- **Cross-Platform**: Python runs on Windows, macOS, Linux, and more.\n",
        "- **Extensive Libraries**: Python has a rich ecosystem of libraries for tasks like data analysis, web development, and machine learning.\n",
        "\n",
        "\n",
        "---\n",
        "\n",
        "\n",
        "\n",
        "### Applications:\n",
        "- **Data Science and Machine Learning**: Libraries like Pandas, NumPy, Scikit-learn, and TensorFlow are widely used for data analysis, visualization, and building machine learning models.\n",
        "- **Web Development**: Frameworks like Django and Flask.\n",
        "- **Automation**: Automating repetitive tasks such as web scraping.\n",
        "- **Game Development**: Libraries like Pygame allow developers to create 2D games using Python.\n",
        "\n",
        "\n",
        "---\n",
        "\n",
        "\n",
        "\n",
        "### Python IDEs\n",
        "An Integrated Development Environment (IDE) or text editor is essential for writing and running Python code efficiently.\n",
        "\n",
        "- **Jupyter Notebook**\n",
        "- **VS Code**\n",
        "- **PyCharm**\n",
        "- **Spyder**\n",
        "\n",
        "\n",
        "---\n",
        "\n"
      ]
    },
    {
      "cell_type": "markdown",
      "metadata": {
        "id": "Rco_Pfc9S72V"
      },
      "source": [
        "Check the version of python in colab"
      ]
    },
    {
      "cell_type": "code",
      "execution_count": 1,
      "metadata": {
        "colab": {
          "base_uri": "https://localhost:8080/"
        },
        "id": "6bC4LDoaEVqA",
        "outputId": "a1e13f9a-d7d8-43b8-d129-7bd7188a8081"
      },
      "outputs": [
        {
          "name": "stdout",
          "output_type": "stream",
          "text": [
            "Python 3.11.11\n"
          ]
        }
      ],
      "source": [
        "!python --version"
      ]
    },
    {
      "cell_type": "markdown",
      "metadata": {
        "id": "vA_AhZk0Fxgz"
      },
      "source": [
        "**Commenting and Uncommenting Code in Google Colab**\n",
        "- Use the shortcut `Ctrl + /` to quickly comment or uncomment a selected line or block of code.\n",
        "- This is a convenient way to toggle comments during debugging or testing without manually adding or removing comment symbols."
      ]
    },
    {
      "cell_type": "markdown",
      "metadata": {
        "id": "i-oQlQDRRsw-"
      },
      "source": [
        "\n",
        "Writing and Running Your First Python Program\n"
      ]
    },
    {
      "cell_type": "code",
      "execution_count": 2,
      "metadata": {
        "colab": {
          "base_uri": "https://localhost:8080/"
        },
        "id": "Q12FDd_uRv0N",
        "outputId": "0cef1f4f-c24e-404c-8309-33684a8037e0"
      },
      "outputs": [
        {
          "name": "stdout",
          "output_type": "stream",
          "text": [
            "hello world\n"
          ]
        }
      ],
      "source": [
        "print(\"hello world\")"
      ]
    },
    {
      "cell_type": "code",
      "execution_count": 3,
      "metadata": {
        "colab": {
          "base_uri": "https://localhost:8080/"
        },
        "id": "b0ztOuCwKxBV",
        "outputId": "8f1d07f0-2500-4d1d-e325-72c87bf0d067"
      },
      "outputs": [
        {
          "name": "stdout",
          "output_type": "stream",
          "text": [
            "Hello World\n",
            "Hello World\n"
          ]
        },
        {
          "data": {
            "text/plain": [
              "str"
            ]
          },
          "execution_count": 3,
          "metadata": {},
          "output_type": "execute_result"
        }
      ],
      "source": [
        "x = \"Hello World\"\n",
        "print(\"Hello World\")\n",
        "print(x)\n",
        "type(x)"
      ]
    },
    {
      "cell_type": "markdown",
      "metadata": {
        "id": "sw1RDvQ3DZAM"
      },
      "source": [
        "**Note**: The code cell below will not execute due to an error present in it."
      ]
    },
    {
      "cell_type": "code",
      "execution_count": null,
      "metadata": {
        "id": "GLnFNfwODYiE"
      },
      "outputs": [],
      "source": [
        "# print(\"a\")\n",
        "# print(\"b\")\n",
        "# print(\"c\")\n",
        "# print(\"d\""
      ]
    },
    {
      "cell_type": "markdown",
      "metadata": {
        "id": "eg8BDZ5lS_bd"
      },
      "source": [
        "# **Defining variables**\n",
        "\n",
        "\n",
        "---\n",
        "\n"
      ]
    },
    {
      "cell_type": "markdown",
      "metadata": {
        "id": "Zi4ATgWKTJ8V"
      },
      "source": [
        "Variables are used to store data values.<br>\n",
        "Python uses dynamic typing, meaning you don't explicitly declare the type of a variable."
      ]
    },
    {
      "cell_type": "code",
      "execution_count": null,
      "metadata": {
        "id": "WVPZGl1ATOXW"
      },
      "outputs": [],
      "source": [
        "name = \"Alice\"  # String variable\n",
        "age = 30       # Integer variable\n",
        "height = 5.8   # Float variable\n",
        "is_student = True # Boolean variable"
      ]
    },
    {
      "cell_type": "markdown",
      "metadata": {
        "id": "sTmJttAzEG-k"
      },
      "source": [
        "## Variable Reassignment\n",
        "- The variable `a` is initially assigned the value `5`.\n",
        "- It is then reassigned to the value `6`.\n",
        "- The final value of `a` is `6`, as the last assignment overwrites the previous one."
      ]
    },
    {
      "cell_type": "code",
      "execution_count": 4,
      "metadata": {
        "colab": {
          "base_uri": "https://localhost:8080/"
        },
        "id": "gE1K67ujD5hk",
        "outputId": "bb9cabf2-8463-4f1b-ea6b-2df24af0fe6e"
      },
      "outputs": [
        {
          "data": {
            "text/plain": [
              "6"
            ]
          },
          "execution_count": 4,
          "metadata": {},
          "output_type": "execute_result"
        }
      ],
      "source": [
        "a = 5\n",
        "a = 6\n",
        "\n",
        "a"
      ]
    },
    {
      "cell_type": "markdown",
      "metadata": {
        "id": "LJ7LNEGmTP-1"
      },
      "source": [
        "\n",
        "\n",
        "## Rules for naming variables\n",
        "\n",
        "\n",
        "---\n",
        "\n",
        "\n",
        "1. Variable names can contain letters, numbers, and underscores.\n",
        "2. Variable names cannot start with a number.\n",
        "3. Variable names are case-sensitive (age, Age, and AGE are different variables).\n",
        "4. Avoid using reserved keywords (e.g., if, else, for, while, etc.).\n",
        "5. Use descriptive names to make your code more readable."
      ]
    },
    {
      "cell_type": "code",
      "execution_count": null,
      "metadata": {
        "id": "nUkFamhATT11"
      },
      "outputs": [],
      "source": [
        "# Invalid variable names\n",
        "# 1-variable = 10 # Invalid (starts with a number)\n",
        "# my variable = 20 # Invalid (contains a space)\n",
        "# if = 30       # Invalid (reserved keyword)"
      ]
    },
    {
      "cell_type": "markdown",
      "metadata": {
        "id": "gqCRzttbGeEl"
      },
      "source": [
        "### Avoid Overwriting Built-in Functions\n",
        "- The line `# print = 2` is commented out to prevent execution.\n",
        "- Assigning a value to a built-in function name like `print` (e.g., `print = 2`) is discouraged because it overrides the original functionality of the function, leading to potential errors and unexpected behavior.\n",
        "- Always use unique variable names to avoid conflicts with Python's built-in functions."
      ]
    },
    {
      "cell_type": "code",
      "execution_count": null,
      "metadata": {
        "id": "C5zodQ--Gdfd"
      },
      "outputs": [],
      "source": [
        "# Avoid using built-in function names for variables to prevent conflicts and errors.\n",
        "# print = 2"
      ]
    },
    {
      "cell_type": "code",
      "execution_count": null,
      "metadata": {
        "id": "MK4NkNOITWnM"
      },
      "outputs": [],
      "source": [
        "# Valid variable names\n",
        "_my_variable = 100  # Valid (starts with underscore)\n",
        "myVariable = 200    # Valid (camel case notation)\n",
        "MyVariable = 300   # Valid (Pascal case notation)"
      ]
    },
    {
      "cell_type": "code",
      "execution_count": null,
      "metadata": {
        "colab": {
          "base_uri": "https://localhost:8080/"
        },
        "id": "1cfoiS5ITX4F",
        "outputId": "ebb55ee2-020d-47fe-96cf-49475f06eabd"
      },
      "outputs": [
        {
          "name": "stdout",
          "output_type": "stream",
          "text": [
            "Alice\n",
            "30\n",
            "5.8\n",
            "True\n"
          ]
        }
      ],
      "source": [
        "print(name)\n",
        "print(age)\n",
        "print(height)\n",
        "print(is_student)"
      ]
    },
    {
      "cell_type": "code",
      "execution_count": null,
      "metadata": {
        "colab": {
          "base_uri": "https://localhost:8080/"
        },
        "id": "eEk--tuKTZ6V",
        "outputId": "797170b4-6b0d-4669-c038-827c29f3f8f9"
      },
      "outputs": [
        {
          "name": "stdout",
          "output_type": "stream",
          "text": [
            "31\n"
          ]
        }
      ],
      "source": [
        "# Modifying variable values\n",
        "age = 31  # Change the value of the 'age' variable\n",
        "print(age)"
      ]
    },
    {
      "cell_type": "markdown",
      "metadata": {
        "id": "1UAhF6scUTRN"
      },
      "source": [
        "# **Data Types**\n",
        "\n",
        "\n",
        "---\n",
        "\n",
        "\n",
        "\n",
        "\n"
      ]
    },
    {
      "cell_type": "markdown",
      "metadata": {
        "id": "Xt0UNVzHUg9l"
      },
      "source": [
        "## Numeric\n",
        "\n",
        "\n",
        "---\n",
        "\n",
        "\n",
        "\n",
        "\n",
        "\n",
        "\n"
      ]
    },
    {
      "cell_type": "markdown",
      "metadata": {
        "id": "LQzlmXfaSOyr"
      },
      "source": [
        "### *int (Integer):*\n",
        "\n",
        "\n",
        "---\n",
        "\n",
        "\n",
        "\n",
        "Whole numbers"
      ]
    },
    {
      "cell_type": "code",
      "execution_count": null,
      "metadata": {
        "colab": {
          "base_uri": "https://localhost:8080/"
        },
        "id": "QjJmDGQ3UgIW",
        "outputId": "a9ce2a4a-32f2-4445-b2fc-ac438acceb74"
      },
      "outputs": [
        {
          "name": "stdout",
          "output_type": "stream",
          "text": [
            "30 <class 'int'>\n"
          ]
        }
      ],
      "source": [
        "age = 30\n",
        "print(age, type(age))"
      ]
    },
    {
      "cell_type": "markdown",
      "metadata": {
        "id": "5uS5BJnIRFOr"
      },
      "source": [
        "### *Float*\n",
        "\n",
        "\n",
        "\n",
        "---\n",
        "\n",
        "\n",
        "\n",
        "\n",
        "\n",
        "Numbers with decimal points"
      ]
    },
    {
      "cell_type": "code",
      "execution_count": null,
      "metadata": {
        "colab": {
          "base_uri": "https://localhost:8080/"
        },
        "id": "qL7wSlQdUlou",
        "outputId": "9ed7c469-5bb8-4d09-a18d-e0003b540853"
      },
      "outputs": [
        {
          "name": "stdout",
          "output_type": "stream",
          "text": [
            "5.8 <class 'float'>\n"
          ]
        }
      ],
      "source": [
        "# float (Floating-point):\n",
        "height = 5.8\n",
        "print(height, type(height))"
      ]
    },
    {
      "cell_type": "markdown",
      "metadata": {
        "id": "BUH0UM-1UvHN"
      },
      "source": [
        "## String\n",
        "\n",
        "\n",
        "---\n",
        "\n",
        "\n",
        "Sequence of characters\n"
      ]
    },
    {
      "cell_type": "code",
      "execution_count": null,
      "metadata": {
        "id": "g-4OJG_Yq5JR"
      },
      "outputs": [],
      "source": [
        "name = \"danial\""
      ]
    },
    {
      "cell_type": "markdown",
      "metadata": {
        "id": "8pIWLn0Wq7XJ"
      },
      "source": [
        "### Indexing"
      ]
    },
    {
      "cell_type": "code",
      "execution_count": null,
      "metadata": {
        "colab": {
          "base_uri": "https://localhost:8080/"
        },
        "id": "2X5V44Hrq-G6",
        "outputId": "4f2e0209-01cb-4964-b709-6bf9c2934a9a"
      },
      "outputs": [
        {
          "name": "stdout",
          "output_type": "stream",
          "text": [
            "n\n"
          ]
        }
      ],
      "source": [
        "print(name[2])"
      ]
    },
    {
      "cell_type": "markdown",
      "metadata": {
        "id": "WyP-dLP6q83C"
      },
      "source": [
        "### Slicing"
      ]
    },
    {
      "cell_type": "code",
      "execution_count": null,
      "metadata": {
        "colab": {
          "base_uri": "https://localhost:8080/"
        },
        "id": "ynCtijQqrBq9",
        "outputId": "82d1a7cb-5b6b-4989-acc2-e5c856976569"
      },
      "outputs": [
        {
          "name": "stdout",
          "output_type": "stream",
          "text": [
            "ni\n"
          ]
        }
      ],
      "source": [
        "print(name[2:4])"
      ]
    },
    {
      "cell_type": "code",
      "execution_count": null,
      "metadata": {
        "colab": {
          "base_uri": "https://localhost:8080/"
        },
        "id": "sjGUCar3rFUa",
        "outputId": "a8be2830-1a8b-4ff5-e6cb-e70b5ee5488f"
      },
      "outputs": [
        {
          "name": "stdout",
          "output_type": "stream",
          "text": [
            "dan\n"
          ]
        }
      ],
      "source": [
        "print(name[:3])"
      ]
    },
    {
      "cell_type": "code",
      "execution_count": null,
      "metadata": {
        "colab": {
          "base_uri": "https://localhost:8080/"
        },
        "id": "ppep8XIlrGkT",
        "outputId": "12b5880c-0bf1-4dce-8161-892e097afff3"
      },
      "outputs": [
        {
          "name": "stdout",
          "output_type": "stream",
          "text": [
            "nial\n"
          ]
        }
      ],
      "source": [
        "print(name[2:])"
      ]
    },
    {
      "cell_type": "code",
      "execution_count": null,
      "metadata": {
        "colab": {
          "base_uri": "https://localhost:8080/",
          "height": 35
        },
        "id": "OYCmUn7JFn29",
        "outputId": "abee77a3-88ad-4417-a50d-7b4f31d1651a"
      },
      "outputs": [
        {
          "data": {
            "application/vnd.google.colaboratory.intrinsic+json": {
              "type": "string"
            },
            "text/plain": [
              "'دانی'"
            ]
          },
          "execution_count": 10,
          "metadata": {},
          "output_type": "execute_result"
        }
      ],
      "source": [
        "# for persian\n",
        "name = \"دانیال\"\n",
        "\n",
        "name[0:4]"
      ]
    },
    {
      "cell_type": "markdown",
      "metadata": {
        "id": "Z8aYd04Foy4h"
      },
      "source": [
        "## String methods"
      ]
    },
    {
      "cell_type": "code",
      "execution_count": null,
      "metadata": {
        "id": "6Th604W3os_5"
      },
      "outputs": [],
      "source": [
        "text = \"Hello, World!\""
      ]
    },
    {
      "cell_type": "markdown",
      "metadata": {
        "id": "wNkb6l_2o7_h"
      },
      "source": [
        "### Upper & Lower\n",
        "\n",
        "---\n",
        "\n"
      ]
    },
    {
      "cell_type": "code",
      "execution_count": null,
      "metadata": {
        "colab": {
          "base_uri": "https://localhost:8080/"
        },
        "id": "cpixD0bNo1Vx",
        "outputId": "adf0204c-a765-4670-dd8a-23c19b8e963e"
      },
      "outputs": [
        {
          "name": "stdout",
          "output_type": "stream",
          "text": [
            "Original: Hello, World!\n",
            "Uppercase: HELLO, WORLD!\n",
            "Lowercase: hello, world!\n"
          ]
        }
      ],
      "source": [
        "uppercase_text = text.upper()\n",
        "lowercase_text = text.lower()\n",
        "\n",
        "print(f\"Original: {text}\")\n",
        "print(f\"Uppercase: {uppercase_text}\")\n",
        "print(f\"Lowercase: {lowercase_text}\")"
      ]
    },
    {
      "cell_type": "code",
      "execution_count": null,
      "metadata": {
        "colab": {
          "base_uri": "https://localhost:8080/",
          "height": 35
        },
        "id": "loXRdyNQCttU",
        "outputId": "a1743099-6c52-4036-f2d8-db119b6ac4dc"
      },
      "outputs": [
        {
          "data": {
            "application/vnd.google.colaboratory.intrinsic+json": {
              "type": "string"
            },
            "text/plain": [
              "'ali'"
            ]
          },
          "execution_count": 7,
          "metadata": {},
          "output_type": "execute_result"
        }
      ],
      "source": [
        "name2 = 'ALi'\n",
        "name2.lower()"
      ]
    },
    {
      "cell_type": "markdown",
      "metadata": {
        "id": "IN4g4w54o3zJ"
      },
      "source": [
        "### Replace\n",
        "\n",
        "---\n",
        "\n"
      ]
    },
    {
      "cell_type": "code",
      "execution_count": null,
      "metadata": {
        "colab": {
          "base_uri": "https://localhost:8080/"
        },
        "id": "pCXswzwoorMJ",
        "outputId": "55249f54-8619-44b6-f8db-d8b3abae23b0"
      },
      "outputs": [
        {
          "name": "stdout",
          "output_type": "stream",
          "text": [
            "Replaced: Hello, Python!\n"
          ]
        }
      ],
      "source": [
        "new_text = text.replace(\"World\", \"Python\")\n",
        "print(f\"Replaced: {new_text}\")"
      ]
    },
    {
      "cell_type": "code",
      "execution_count": null,
      "metadata": {
        "colab": {
          "base_uri": "https://localhost:8080/",
          "height": 35
        },
        "id": "8sWEXjQpQSYE",
        "outputId": "14e3cdce-935e-452c-cf3f-4abf6a8a5fb5"
      },
      "outputs": [
        {
          "data": {
            "application/vnd.google.colaboratory.intrinsic+json": {
              "type": "string"
            },
            "text/plain": [
              "'this is a pen. the pen is good'"
            ]
          },
          "execution_count": 6,
          "metadata": {},
          "output_type": "execute_result"
        }
      ],
      "source": [
        "text = \"this is a book. the book is good\"\n",
        "text.replace(\"book\", \"pen\")"
      ]
    },
    {
      "cell_type": "code",
      "execution_count": null,
      "metadata": {
        "colab": {
          "base_uri": "https://localhost:8080/",
          "height": 35
        },
        "id": "4ICfiHHiCYxj",
        "outputId": "bc35a9a2-48f4-462d-fdd3-39858ee8c6d3"
      },
      "outputs": [
        {
          "data": {
            "application/vnd.google.colaboratory.intrinsic+json": {
              "type": "string"
            },
            "text/plain": [
              "'reza'"
            ]
          },
          "execution_count": 5,
          "metadata": {},
          "output_type": "execute_result"
        }
      ],
      "source": [
        "name = \"ali\"\n",
        "name.replace('ali', 'reza')"
      ]
    },
    {
      "cell_type": "code",
      "execution_count": null,
      "metadata": {
        "id": "YzsJ6dNICfz6"
      },
      "outputs": [],
      "source": [
        "# name[0] = 'l' -> Error, becuase string is immutable and we can't change it."
      ]
    },
    {
      "cell_type": "markdown",
      "metadata": {
        "id": "2N8_9FOnHYnL"
      },
      "source": [
        "### Capitalize\n",
        "---"
      ]
    },
    {
      "cell_type": "code",
      "execution_count": null,
      "metadata": {
        "colab": {
          "base_uri": "https://localhost:8080/",
          "height": 35
        },
        "id": "A4ybm2J6Hipm",
        "outputId": "868d5729-e170-4926-d1ed-b181f03c11ae"
      },
      "outputs": [
        {
          "data": {
            "application/vnd.google.colaboratory.intrinsic+json": {
              "type": "string"
            },
            "text/plain": [
              "'Tehran'"
            ]
          },
          "execution_count": 12,
          "metadata": {},
          "output_type": "execute_result"
        }
      ],
      "source": [
        "city = \"tehran\"\n",
        "city.capitalize()"
      ]
    },
    {
      "cell_type": "code",
      "execution_count": null,
      "metadata": {
        "colab": {
          "base_uri": "https://localhost:8080/",
          "height": 35
        },
        "id": "KfpHMjSRHkiN",
        "outputId": "2423aeab-5fc7-477c-d46b-aeeb6f5777ab"
      },
      "outputs": [
        {
          "data": {
            "application/vnd.google.colaboratory.intrinsic+json": {
              "type": "string"
            },
            "text/plain": [
              "'tehran'"
            ]
          },
          "execution_count": 13,
          "metadata": {},
          "output_type": "execute_result"
        }
      ],
      "source": [
        "city"
      ]
    },
    {
      "cell_type": "code",
      "execution_count": null,
      "metadata": {
        "colab": {
          "base_uri": "https://localhost:8080/"
        },
        "id": "uQb3CA0fHb0l",
        "outputId": "19fcfd4c-95f3-4f1f-aa23-8504d32da3ee"
      },
      "outputs": [
        {
          "name": "stdout",
          "output_type": "stream",
          "text": [
            "tehran\n",
            "Tehran\n"
          ]
        }
      ],
      "source": [
        "city = \"tehran\"\n",
        "city2 = city.capitalize()\n",
        "print(city)\n",
        "print(city2)"
      ]
    },
    {
      "cell_type": "markdown",
      "metadata": {
        "id": "xqe9GOIaVldi"
      },
      "source": [
        "## f-string"
      ]
    },
    {
      "cell_type": "code",
      "execution_count": null,
      "metadata": {
        "colab": {
          "base_uri": "https://localhost:8080/"
        },
        "id": "53kwKeFgVjc7",
        "outputId": "0d5cd11c-784a-4f3c-8e95-7ddd9f8b4445"
      },
      "outputs": [
        {
          "name": "stdout",
          "output_type": "stream",
          "text": [
            "My name is Alice and I am 30 years old.\n"
          ]
        }
      ],
      "source": [
        "name = \"Alice\"\n",
        "age = 30\n",
        "print(f\"My name is {name} and I am {age} years old.\")"
      ]
    },
    {
      "cell_type": "code",
      "execution_count": 5,
      "metadata": {
        "colab": {
          "base_uri": "https://localhost:8080/",
          "height": 35
        },
        "id": "pdTrl7xUBt4l",
        "outputId": "9d76ca77-bbc3-41c6-d1c2-a1a3c63fc6fa"
      },
      "outputs": [
        {
          "data": {
            "application/vnd.google.colaboratory.intrinsic+json": {
              "type": "string"
            },
            "text/plain": [
              "'His name is sara mohammadi and he is 25 years old'"
            ]
          },
          "execution_count": 5,
          "metadata": {},
          "output_type": "execute_result"
        }
      ],
      "source": [
        "fname = \"sara\"\n",
        "lname = \"mohammadi\"\n",
        "full_name = fname + \" \" + lname\n",
        "\n",
        "age = 25\n",
        "\n",
        "f\"His name is {full_name} and he is {age} years old\""
      ]
    },
    {
      "cell_type": "markdown",
      "metadata": {
        "id": "k0CSBJ1-Bxsr"
      },
      "source": [
        "## Concatenation"
      ]
    },
    {
      "cell_type": "code",
      "execution_count": null,
      "metadata": {
        "colab": {
          "base_uri": "https://localhost:8080/",
          "height": 35
        },
        "id": "f5MM_1DyB0Xz",
        "outputId": "1990cb10-12ad-4a46-935c-b97cbeca69ba"
      },
      "outputs": [
        {
          "data": {
            "application/vnd.google.colaboratory.intrinsic+json": {
              "type": "string"
            },
            "text/plain": [
              "'alireza'"
            ]
          },
          "execution_count": 1,
          "metadata": {},
          "output_type": "execute_result"
        }
      ],
      "source": [
        "\"ali\" + \"reza\""
      ]
    },
    {
      "cell_type": "markdown",
      "metadata": {
        "id": "T-EDp1SnQbus"
      },
      "source": [
        "## List\n",
        "\n",
        "\n",
        "---\n",
        "\n",
        "\n",
        "Ordered, mutable (changeable) collection of items"
      ]
    },
    {
      "cell_type": "code",
      "execution_count": null,
      "metadata": {
        "colab": {
          "base_uri": "https://localhost:8080/"
        },
        "id": "YGBEQRGZQZ-s",
        "outputId": "53ab434d-a75d-438b-8d05-4c7578616713"
      },
      "outputs": [
        {
          "name": "stdout",
          "output_type": "stream",
          "text": [
            "[1, 2, 3, 'apple', True] <class 'list'>\n"
          ]
        }
      ],
      "source": [
        "my_list = [1, 2, 3, \"apple\", True]\n",
        "print(my_list, type(my_list))"
      ]
    },
    {
      "cell_type": "markdown",
      "metadata": {
        "id": "-9VnLSHSqpgC"
      },
      "source": [
        "### Indexing"
      ]
    },
    {
      "cell_type": "code",
      "execution_count": null,
      "metadata": {
        "colab": {
          "base_uri": "https://localhost:8080/"
        },
        "id": "ZQ73A_qxqlVq",
        "outputId": "2b17373c-78cb-431a-f64b-ddec9549f532"
      },
      "outputs": [
        {
          "data": {
            "text/plain": [
              "6"
            ]
          },
          "execution_count": 128,
          "metadata": {},
          "output_type": "execute_result"
        }
      ],
      "source": [
        "my_list[2]"
      ]
    },
    {
      "cell_type": "code",
      "execution_count": null,
      "metadata": {
        "colab": {
          "base_uri": "https://localhost:8080/"
        },
        "id": "Pq0KCOeMqtKZ",
        "outputId": "e61a7739-ad9a-4dfd-b42f-a68a4538de6a"
      },
      "outputs": [
        {
          "data": {
            "text/plain": [
              "4"
            ]
          },
          "execution_count": 130,
          "metadata": {},
          "output_type": "execute_result"
        }
      ],
      "source": [
        "my_list[-3]"
      ]
    },
    {
      "cell_type": "markdown",
      "metadata": {
        "id": "MNEiS8f9qwj5"
      },
      "source": [
        "### Slicing\n",
        "\n",
        "---\n",
        "\n"
      ]
    },
    {
      "cell_type": "code",
      "execution_count": null,
      "metadata": {
        "colab": {
          "base_uri": "https://localhost:8080/"
        },
        "id": "uOs3jb8rqwSi",
        "outputId": "168094e7-3dca-4463-acaf-e4f852d1e951"
      },
      "outputs": [
        {
          "data": {
            "text/plain": [
              "[5, 6]"
            ]
          },
          "execution_count": 131,
          "metadata": {},
          "output_type": "execute_result"
        }
      ],
      "source": [
        "my_list[1:3]"
      ]
    },
    {
      "cell_type": "markdown",
      "metadata": {
        "id": "UtsBoV_6n1NB"
      },
      "source": [
        "## List Methods\n",
        "\n",
        "---\n",
        "\n"
      ]
    },
    {
      "cell_type": "markdown",
      "metadata": {
        "id": "XFjyp2WpnjLp"
      },
      "source": [
        "### append\n",
        "---\n",
        "Adds an element to the end of the list"
      ]
    },
    {
      "cell_type": "code",
      "execution_count": null,
      "metadata": {
        "id": "08NDYDKaoOTp"
      },
      "outputs": [],
      "source": [
        "my_list = [1, 2, 3, \"apple\", True]"
      ]
    },
    {
      "cell_type": "code",
      "execution_count": null,
      "metadata": {
        "colab": {
          "base_uri": "https://localhost:8080/"
        },
        "id": "udVV_tNOnSiB",
        "outputId": "469cb2ef-0c8a-4164-8203-51d392c50f00"
      },
      "outputs": [
        {
          "name": "stdout",
          "output_type": "stream",
          "text": [
            "After append: [1, 2, 3, 'apple', True, 4]\n"
          ]
        }
      ],
      "source": [
        "my_list.append(4)\n",
        "print(\"After append:\", my_list)"
      ]
    },
    {
      "cell_type": "markdown",
      "metadata": {
        "id": "tEeGjs_tnsCh"
      },
      "source": [
        "### insert\n",
        "\n",
        "---\n",
        "\n",
        "\n",
        "Inserts an element at a specific index"
      ]
    },
    {
      "cell_type": "code",
      "execution_count": null,
      "metadata": {
        "colab": {
          "base_uri": "https://localhost:8080/"
        },
        "id": "hc435_8dnVKT",
        "outputId": "38f8813d-468a-490f-8802-0ee821ca81dd"
      },
      "outputs": [
        {
          "name": "stdout",
          "output_type": "stream",
          "text": [
            "After insert: [1, 2, 'banana', 3, 'apple', True, 4]\n"
          ]
        }
      ],
      "source": [
        "my_list.insert(2, \"banana\")\n",
        "print(\"After insert:\", my_list)"
      ]
    },
    {
      "cell_type": "markdown",
      "metadata": {
        "id": "wrhp45p5nxrJ"
      },
      "source": [
        "### remove\n",
        "\n",
        "---\n",
        "\n",
        "\n",
        "Removes the first occurrence of a specific element"
      ]
    },
    {
      "cell_type": "code",
      "execution_count": null,
      "metadata": {
        "colab": {
          "base_uri": "https://localhost:8080/"
        },
        "id": "vTwUiiwqnZLh",
        "outputId": "9ac49884-6e5c-46e9-e38d-2cd0aefe4e28"
      },
      "outputs": [
        {
          "name": "stdout",
          "output_type": "stream",
          "text": [
            "After remove: [1, 2, 'banana', 3, True, 4]\n"
          ]
        }
      ],
      "source": [
        "my_list.remove(\"apple\")\n",
        "print(\"After remove:\", my_list)"
      ]
    },
    {
      "cell_type": "markdown",
      "metadata": {
        "id": "ujO_oiyDn9AS"
      },
      "source": [
        "### count\n",
        "\n",
        "---\n",
        "\n",
        "\n",
        "Returns the number of times a specific element appears in the list"
      ]
    },
    {
      "cell_type": "code",
      "execution_count": null,
      "metadata": {
        "colab": {
          "base_uri": "https://localhost:8080/"
        },
        "id": "ugVPq1kEncJa",
        "outputId": "698e311f-259b-4aae-9a0d-a701d27d1766"
      },
      "outputs": [
        {
          "name": "stdout",
          "output_type": "stream",
          "text": [
            "Count of 2: 1\n"
          ]
        }
      ],
      "source": [
        "count_of_2 = my_list.count(2)\n",
        "print(\"Count of 2:\", count_of_2)"
      ]
    },
    {
      "cell_type": "markdown",
      "metadata": {
        "id": "80JV1jAboQrg"
      },
      "source": [
        "### pop\n",
        "\n",
        "---\n",
        "\n",
        "\n",
        "Removes and returns the element at a specific index (default is the last element)"
      ]
    },
    {
      "cell_type": "code",
      "execution_count": null,
      "metadata": {
        "colab": {
          "base_uri": "https://localhost:8080/"
        },
        "id": "bAafPJE0nZ65",
        "outputId": "2090db53-6296-4cef-918d-6c1961121302"
      },
      "outputs": [
        {
          "name": "stdout",
          "output_type": "stream",
          "text": [
            "Popped element: 3\n",
            "After pop: [1, 2, 'banana', True, 4]\n"
          ]
        }
      ],
      "source": [
        "popped_element = my_list.pop(3)\n",
        "print(\"Popped element:\", popped_element)\n",
        "print(\"After pop:\", my_list)"
      ]
    },
    {
      "cell_type": "markdown",
      "metadata": {
        "id": "yQwB-XWooUzZ"
      },
      "source": [
        "### sort\n",
        "\n",
        "---\n",
        "\n",
        "\n",
        "Sorts the elements of the list in ascending order (in-place)"
      ]
    },
    {
      "cell_type": "code",
      "execution_count": null,
      "metadata": {
        "colab": {
          "base_uri": "https://localhost:8080/"
        },
        "id": "rJodGFxMnfBL",
        "outputId": "d3f845e6-69d8-4dc4-ce96-c3634cbc5946"
      },
      "outputs": [
        {
          "name": "stdout",
          "output_type": "stream",
          "text": [
            "Sorted Numbers: [1, 2, 5, 8, 9]\n"
          ]
        }
      ],
      "source": [
        "numbers = [5, 2, 8, 1, 9]\n",
        "numbers.sort()\n",
        "print(\"Sorted Numbers:\", numbers)"
      ]
    },
    {
      "cell_type": "markdown",
      "metadata": {
        "id": "ZQ5BEsRQJXHR"
      },
      "source": [
        "## Mutable vs Immutable\n",
        "\n",
        "### Key Concepts\n",
        "\n",
        "*   **Mutable Objects**: These are objects whose state or content can be modified after creation.\n",
        "*   **Immutable Objects**: These are objects whose state or content cannot be changed after creation.\n",
        "*   **Mutable Data Types**: Lists, Dictionaries, Sets\n",
        "*   **Immutable Data Types**: Integers, Floats, Strings, Tuple\n"
      ]
    },
    {
      "cell_type": "markdown",
      "metadata": {
        "id": "ufiGfg5nJulW"
      },
      "source": [
        "## Comparison: List (Mutable) vs String (Immutable)\n"
      ]
    },
    {
      "cell_type": "markdown",
      "metadata": {
        "id": "v50XLXQuJ91O"
      },
      "source": [
        "### List (Mutable)\n",
        "Lists are mutable, meaning their elements can be modified after creation"
      ]
    },
    {
      "cell_type": "code",
      "execution_count": 6,
      "metadata": {
        "colab": {
          "base_uri": "https://localhost:8080/"
        },
        "id": "8jRIUpIeJeRO",
        "outputId": "378e1545-fa89-4aff-fdd5-e37830ba3af1"
      },
      "outputs": [
        {
          "name": "stdout",
          "output_type": "stream",
          "text": [
            "[10, 2, 3]\n"
          ]
        }
      ],
      "source": [
        "  # Example\n",
        "  my_list = [1, 2, 3]\n",
        "  my_list[0] = 10  # Modifying the first element\n",
        "  print(my_list)"
      ]
    },
    {
      "cell_type": "markdown",
      "metadata": {
        "id": "qB8VK1EmJ7ye"
      },
      "source": [
        "### String (Immutable)\n",
        "Strings are immutable, meaning their content cannot be changed after creation.\n",
        "\n",
        "\n"
      ]
    },
    {
      "cell_type": "code",
      "execution_count": null,
      "metadata": {
        "id": "qVFjFas1KGcG"
      },
      "outputs": [],
      "source": [
        "my_string = \"hello\"\n",
        "# my_string[0] = 'H'  # This would raise an error"
      ]
    },
    {
      "cell_type": "code",
      "execution_count": null,
      "metadata": {
        "colab": {
          "base_uri": "https://localhost:8080/",
          "height": 35
        },
        "id": "ehulkx3LKNfu",
        "outputId": "09062396-707d-4de9-b8f6-40100ca71e8c"
      },
      "outputs": [
        {
          "data": {
            "application/vnd.google.colaboratory.intrinsic+json": {
              "type": "string"
            },
            "text/plain": [
              "'Hello'"
            ]
          },
          "execution_count": 17,
          "metadata": {},
          "output_type": "execute_result"
        }
      ],
      "source": [
        "my_string.replace('h', 'H')"
      ]
    },
    {
      "cell_type": "code",
      "execution_count": null,
      "metadata": {
        "colab": {
          "base_uri": "https://localhost:8080/",
          "height": 35
        },
        "id": "hMDnmmfhKOWJ",
        "outputId": "d2cdfec3-7d4a-4658-d661-1cf3b8c485f6"
      },
      "outputs": [
        {
          "data": {
            "application/vnd.google.colaboratory.intrinsic+json": {
              "type": "string"
            },
            "text/plain": [
              "'hello'"
            ]
          },
          "execution_count": 18,
          "metadata": {},
          "output_type": "execute_result"
        }
      ],
      "source": [
        "my_string"
      ]
    },
    {
      "cell_type": "code",
      "execution_count": null,
      "metadata": {
        "colab": {
          "base_uri": "https://localhost:8080/"
        },
        "id": "LUrW2GAzKLfv",
        "outputId": "fa636589-35a7-4ac1-ad59-7324f3059bda"
      },
      "outputs": [
        {
          "name": "stdout",
          "output_type": "stream",
          "text": [
            "Hello\n"
          ]
        }
      ],
      "source": [
        "new_string = my_string.replace('h', 'H')  # Creates a new string\n",
        "print(new_string)"
      ]
    },
    {
      "cell_type": "code",
      "execution_count": null,
      "metadata": {
        "colab": {
          "base_uri": "https://localhost:8080/"
        },
        "id": "c1BBaZHJrUvH",
        "outputId": "49e0e6e7-b9d8-4851-83f5-e7310af2723f"
      },
      "outputs": [
        {
          "name": "stdout",
          "output_type": "stream",
          "text": [
            "[1, 2, 3, 'ali', True] <class 'list'>\n"
          ]
        }
      ],
      "source": [
        "my_list = [1, 2, 3, 'ali', True]\n",
        "\n",
        "print(my_list, type(my_list))"
      ]
    },
    {
      "cell_type": "code",
      "execution_count": null,
      "metadata": {
        "id": "fzw1Zn6_rXEY"
      },
      "outputs": [],
      "source": [
        "my_list[3] = 10"
      ]
    },
    {
      "cell_type": "code",
      "execution_count": null,
      "metadata": {
        "colab": {
          "base_uri": "https://localhost:8080/"
        },
        "id": "gLfJKDGdracQ",
        "outputId": "b48e4302-3fa3-4036-a513-0e5b349ce2d2"
      },
      "outputs": [
        {
          "data": {
            "text/plain": [
              "[1, 2, 3, 10, True]"
            ]
          },
          "execution_count": 3,
          "metadata": {},
          "output_type": "execute_result"
        }
      ],
      "source": [
        "my_list"
      ]
    },
    {
      "cell_type": "code",
      "execution_count": null,
      "metadata": {
        "id": "SBCVEVgprbTm"
      },
      "outputs": [],
      "source": [
        "my_list[-1] = 20"
      ]
    },
    {
      "cell_type": "code",
      "execution_count": null,
      "metadata": {
        "colab": {
          "base_uri": "https://localhost:8080/"
        },
        "id": "8ysJNmrdrdWy",
        "outputId": "78c074ea-e1a0-4871-b975-69cfff447e73"
      },
      "outputs": [
        {
          "data": {
            "text/plain": [
              "[1, 2, 3, 10, 20]"
            ]
          },
          "execution_count": 5,
          "metadata": {},
          "output_type": "execute_result"
        }
      ],
      "source": [
        "my_list"
      ]
    },
    {
      "cell_type": "code",
      "execution_count": null,
      "metadata": {
        "id": "3lzRxjdNrfqX"
      },
      "outputs": [],
      "source": [
        "my_list.append(90)"
      ]
    },
    {
      "cell_type": "code",
      "execution_count": null,
      "metadata": {
        "colab": {
          "base_uri": "https://localhost:8080/"
        },
        "id": "__qaPF62rg5P",
        "outputId": "0f4be2dc-aa15-47c5-d725-e901e19a1ec1"
      },
      "outputs": [
        {
          "data": {
            "text/plain": [
              "[1, 2, 3, 10, 20, 90]"
            ]
          },
          "execution_count": 7,
          "metadata": {},
          "output_type": "execute_result"
        }
      ],
      "source": [
        "my_list"
      ]
    },
    {
      "cell_type": "code",
      "execution_count": null,
      "metadata": {
        "id": "4TVNUFYTri0_"
      },
      "outputs": [],
      "source": [
        "my_list.insert(3, 4)"
      ]
    },
    {
      "cell_type": "code",
      "execution_count": null,
      "metadata": {
        "colab": {
          "base_uri": "https://localhost:8080/"
        },
        "id": "RzENbaFMrjq_",
        "outputId": "f40f7d65-3dcf-49aa-d6dd-a551ee4a4f0e"
      },
      "outputs": [
        {
          "data": {
            "text/plain": [
              "[1, 2, 3, 4, 10, 20, 90]"
            ]
          },
          "execution_count": 9,
          "metadata": {},
          "output_type": "execute_result"
        }
      ],
      "source": [
        "my_list"
      ]
    },
    {
      "cell_type": "code",
      "execution_count": null,
      "metadata": {
        "id": "pFpKuQOXrm6n"
      },
      "outputs": [],
      "source": [
        "my_list.extend([2, 4, 6])"
      ]
    },
    {
      "cell_type": "code",
      "execution_count": null,
      "metadata": {
        "colab": {
          "base_uri": "https://localhost:8080/"
        },
        "id": "g3Wdr3RdrnxP",
        "outputId": "d94581a9-4148-4e62-bd41-53a888f0434f"
      },
      "outputs": [
        {
          "data": {
            "text/plain": [
              "[1, 2, 3, 4, 10, 20, 90, 2, 4, 6]"
            ]
          },
          "execution_count": 11,
          "metadata": {},
          "output_type": "execute_result"
        }
      ],
      "source": [
        "my_list"
      ]
    },
    {
      "cell_type": "code",
      "execution_count": null,
      "metadata": {
        "id": "m5uP0OulrpOf"
      },
      "outputs": [],
      "source": [
        "my_list.append([2, 3, 4])"
      ]
    },
    {
      "cell_type": "code",
      "execution_count": null,
      "metadata": {
        "colab": {
          "base_uri": "https://localhost:8080/"
        },
        "id": "1JvpOPOjrqIH",
        "outputId": "91fe8c2e-6a41-4184-b52d-8c56d9d84f50"
      },
      "outputs": [
        {
          "data": {
            "text/plain": [
              "[1, 2, 3, 4, 10, 20, 90, 2, 4, 6, [2, 3, 4]]"
            ]
          },
          "execution_count": 13,
          "metadata": {},
          "output_type": "execute_result"
        }
      ],
      "source": [
        "my_list"
      ]
    },
    {
      "cell_type": "code",
      "execution_count": null,
      "metadata": {
        "id": "oD1RvG0Jrr1n"
      },
      "outputs": [],
      "source": [
        "my_list[-1].append([1, 2, 3])"
      ]
    },
    {
      "cell_type": "code",
      "execution_count": null,
      "metadata": {
        "colab": {
          "base_uri": "https://localhost:8080/"
        },
        "id": "wMzW9kI5rso4",
        "outputId": "3bcdf2d2-2d29-4e1e-abc2-6ed7ab64f16b"
      },
      "outputs": [
        {
          "data": {
            "text/plain": [
              "[1, 2, 3, 4, 10, 20, 90, 2, 4, 6, [2, 3, 4, [1, 2, 3]]]"
            ]
          },
          "execution_count": 15,
          "metadata": {},
          "output_type": "execute_result"
        }
      ],
      "source": [
        "my_list"
      ]
    },
    {
      "cell_type": "code",
      "execution_count": null,
      "metadata": {
        "id": "XPYVOg6rrvLL"
      },
      "outputs": [],
      "source": [
        "my_list[-1][1] = 5"
      ]
    },
    {
      "cell_type": "code",
      "execution_count": null,
      "metadata": {
        "colab": {
          "base_uri": "https://localhost:8080/"
        },
        "id": "JnoaiU_ErwKH",
        "outputId": "36158a77-3806-4f6b-9199-5e680a5c72dd"
      },
      "outputs": [
        {
          "data": {
            "text/plain": [
              "[1, 2, 3, 4, 10, 20, 90, 2, 4, 6, [2, 5, 4, [1, 2, 3]]]"
            ]
          },
          "execution_count": 17,
          "metadata": {},
          "output_type": "execute_result"
        }
      ],
      "source": [
        "my_list"
      ]
    },
    {
      "cell_type": "code",
      "execution_count": null,
      "metadata": {
        "id": "Rm-vNhtWr0ar"
      },
      "outputs": [],
      "source": [
        "my_list[-1][-1][0] = 10"
      ]
    },
    {
      "cell_type": "code",
      "execution_count": null,
      "metadata": {
        "colab": {
          "base_uri": "https://localhost:8080/"
        },
        "id": "-Oi6qdG3r36x",
        "outputId": "5926f7e0-e3b6-40ac-82c9-37476c9f2353"
      },
      "outputs": [
        {
          "data": {
            "text/plain": [
              "[1, 2, 3, 4, 10, 20, 90, 2, 4, 6, [2, 5, 4, [10, 2, 3]]]"
            ]
          },
          "execution_count": 19,
          "metadata": {},
          "output_type": "execute_result"
        }
      ],
      "source": [
        "my_list"
      ]
    },
    {
      "cell_type": "code",
      "execution_count": null,
      "metadata": {
        "id": "6AETrVa_r6DQ"
      },
      "outputs": [],
      "source": [
        "l1 = [1, 2, 3]\n",
        "l2 = [4, 5, 6]\n",
        "\n",
        "l3 = l1 + l2"
      ]
    },
    {
      "cell_type": "code",
      "execution_count": null,
      "metadata": {
        "colab": {
          "base_uri": "https://localhost:8080/"
        },
        "id": "bS-qV-E3r653",
        "outputId": "de07af2f-a002-438a-bab8-7ed7907de149"
      },
      "outputs": [
        {
          "data": {
            "text/plain": [
              "[1, 2, 3, 4, 5, 6]"
            ]
          },
          "execution_count": 21,
          "metadata": {},
          "output_type": "execute_result"
        }
      ],
      "source": [
        "l3"
      ]
    },
    {
      "cell_type": "code",
      "execution_count": null,
      "metadata": {
        "id": "kF6Siy2Tr7yp"
      },
      "outputs": [],
      "source": [
        "l1.extend(l2)"
      ]
    },
    {
      "cell_type": "code",
      "execution_count": null,
      "metadata": {
        "colab": {
          "base_uri": "https://localhost:8080/"
        },
        "id": "tT5WZU3Kr-f_",
        "outputId": "45d6cdbc-2f05-4644-ec4c-5b60a30a0dcf"
      },
      "outputs": [
        {
          "data": {
            "text/plain": [
              "[1, 2, 3, 4, 5, 6]"
            ]
          },
          "execution_count": 23,
          "metadata": {},
          "output_type": "execute_result"
        }
      ],
      "source": [
        "l1"
      ]
    },
    {
      "cell_type": "code",
      "execution_count": null,
      "metadata": {
        "id": "0z299x3Er_fP"
      },
      "outputs": [],
      "source": [
        "l1 = [1, 2, 3]"
      ]
    },
    {
      "cell_type": "code",
      "execution_count": null,
      "metadata": {
        "id": "8JEh6hTesCkw"
      },
      "outputs": [],
      "source": [
        "l2 = l1"
      ]
    },
    {
      "cell_type": "code",
      "execution_count": null,
      "metadata": {
        "colab": {
          "base_uri": "https://localhost:8080/"
        },
        "id": "2dUVVbHCsEoK",
        "outputId": "fad92b37-3c5b-41d9-adc1-f66d7fec67f1"
      },
      "outputs": [
        {
          "name": "stdout",
          "output_type": "stream",
          "text": [
            "137370185386304 137370185386304\n"
          ]
        }
      ],
      "source": [
        "print(id(l1), id(l2))"
      ]
    },
    {
      "cell_type": "code",
      "execution_count": null,
      "metadata": {
        "colab": {
          "base_uri": "https://localhost:8080/"
        },
        "id": "8nfZ-OoAsHKE",
        "outputId": "722b96ae-56f7-4031-96b0-6777553d292a"
      },
      "outputs": [
        {
          "name": "stdout",
          "output_type": "stream",
          "text": [
            "[1, 2, 3]\n",
            "[1, 2, 3]\n"
          ]
        }
      ],
      "source": [
        "print(l1)\n",
        "print(l2)"
      ]
    },
    {
      "cell_type": "code",
      "execution_count": null,
      "metadata": {
        "id": "mWrrA7iEsIi5"
      },
      "outputs": [],
      "source": [
        "l2.append(4)"
      ]
    },
    {
      "cell_type": "code",
      "execution_count": null,
      "metadata": {
        "colab": {
          "base_uri": "https://localhost:8080/"
        },
        "id": "P6URkjTgsKDf",
        "outputId": "72972923-5722-4b0a-9e66-ba120985b9e4"
      },
      "outputs": [
        {
          "name": "stdout",
          "output_type": "stream",
          "text": [
            "[1, 2, 3, 4]\n",
            "[1, 2, 3, 4]\n"
          ]
        }
      ],
      "source": [
        "print(l1)\n",
        "print(l2)"
      ]
    },
    {
      "cell_type": "code",
      "execution_count": null,
      "metadata": {
        "id": "HVzKw5D9sLUR"
      },
      "outputs": [],
      "source": [
        "l1 = [1, 2, 3]\n",
        "l2 = l1.copy()"
      ]
    },
    {
      "cell_type": "code",
      "execution_count": null,
      "metadata": {
        "colab": {
          "base_uri": "https://localhost:8080/"
        },
        "id": "RloJ-0bosMro",
        "outputId": "af51d5ae-2599-453f-ab3d-8e997330080b"
      },
      "outputs": [
        {
          "data": {
            "text/plain": [
              "137370186250816"
            ]
          },
          "execution_count": 31,
          "metadata": {},
          "output_type": "execute_result"
        }
      ],
      "source": [
        "id(l1.copy())"
      ]
    },
    {
      "cell_type": "code",
      "execution_count": null,
      "metadata": {
        "colab": {
          "base_uri": "https://localhost:8080/"
        },
        "id": "IHBFys4psN8l",
        "outputId": "656b9fef-0030-498e-874b-93ec234c26ab"
      },
      "outputs": [
        {
          "name": "stdout",
          "output_type": "stream",
          "text": [
            "137370186243968 137371031303808\n"
          ]
        }
      ],
      "source": [
        "print(id(l1), id(l2))"
      ]
    },
    {
      "cell_type": "code",
      "execution_count": null,
      "metadata": {
        "id": "sFxNcGaEsPNt"
      },
      "outputs": [],
      "source": [
        "l2.append(4)"
      ]
    },
    {
      "cell_type": "code",
      "execution_count": null,
      "metadata": {
        "colab": {
          "base_uri": "https://localhost:8080/"
        },
        "id": "_BNt30kRsQiR",
        "outputId": "2642c4d7-eb13-44f8-dc65-86be5d79fee7"
      },
      "outputs": [
        {
          "name": "stdout",
          "output_type": "stream",
          "text": [
            "[1, 2, 3]\n",
            "[1, 2, 3, 4]\n"
          ]
        }
      ],
      "source": [
        "print(l1)\n",
        "print(l2)"
      ]
    },
    {
      "cell_type": "code",
      "execution_count": null,
      "metadata": {
        "colab": {
          "base_uri": "https://localhost:8080/"
        },
        "id": "2eOzPZazsTQh",
        "outputId": "1f309129-6a11-42e4-fbe9-e0e1f8a4eda8"
      },
      "outputs": [
        {
          "data": {
            "text/plain": [
              "1"
            ]
          },
          "execution_count": 35,
          "metadata": {},
          "output_type": "execute_result"
        }
      ],
      "source": [
        "lst = [1, 2, 3, 6, 7, 8]\n",
        "lst[0]"
      ]
    },
    {
      "cell_type": "code",
      "execution_count": null,
      "metadata": {
        "colab": {
          "base_uri": "https://localhost:8080/"
        },
        "id": "wL_Hfc_BsUrV",
        "outputId": "8708c2c4-f155-4f94-804a-4a31ff281a00"
      },
      "outputs": [
        {
          "data": {
            "text/plain": [
              "[2, 3, 6]"
            ]
          },
          "execution_count": 36,
          "metadata": {},
          "output_type": "execute_result"
        }
      ],
      "source": [
        "lst[1:4]"
      ]
    },
    {
      "cell_type": "code",
      "execution_count": null,
      "metadata": {
        "colab": {
          "base_uri": "https://localhost:8080/"
        },
        "id": "frq81NDmsWJ_",
        "outputId": "b6458bda-4301-4fd2-8b05-21e1daa39ecc"
      },
      "outputs": [
        {
          "data": {
            "text/plain": [
              "[1, 2, 3, 6, 7, 8]"
            ]
          },
          "execution_count": 37,
          "metadata": {},
          "output_type": "execute_result"
        }
      ],
      "source": [
        "lst[:100000]"
      ]
    },
    {
      "cell_type": "markdown",
      "metadata": {
        "id": "YZM3eyYHQenT"
      },
      "source": [
        "## Tuple\n",
        "---\n",
        "Ordered, immutable (unchangeable) collection of items"
      ]
    },
    {
      "cell_type": "code",
      "execution_count": null,
      "metadata": {
        "colab": {
          "base_uri": "https://localhost:8080/"
        },
        "id": "ar6nzS5HQeDF",
        "outputId": "c1de1107-deaf-48ca-9c6d-abc69d1f0667"
      },
      "outputs": [
        {
          "name": "stdout",
          "output_type": "stream",
          "text": [
            "(1, 2, 3, 'banana', False) <class 'tuple'>\n"
          ]
        }
      ],
      "source": [
        "my_tuple = (1, 2, 3, \"banana\", False)\n",
        "print(my_tuple, type(my_tuple))"
      ]
    },
    {
      "cell_type": "markdown",
      "metadata": {
        "id": "Wn6izOc5UtPu"
      },
      "source": [
        "## Range\n",
        "\n",
        "---\n",
        "\n",
        "\n",
        "Represents a sequence of numbers"
      ]
    },
    {
      "cell_type": "code",
      "execution_count": null,
      "metadata": {
        "colab": {
          "base_uri": "https://localhost:8080/"
        },
        "id": "QEzrWDexQm2j",
        "outputId": "625818e9-2ab2-463b-e11f-2d8409b56fa6"
      },
      "outputs": [
        {
          "name": "stdout",
          "output_type": "stream",
          "text": [
            "range(0, 5) <class 'range'>\n"
          ]
        }
      ],
      "source": [
        "my_range = range(5) # Numbers from 0 to 4\n",
        "print(my_range, type(my_range))"
      ]
    },
    {
      "cell_type": "markdown",
      "metadata": {
        "id": "O9SHSFDsQvn0"
      },
      "source": [
        "## Dictionary\n",
        "\n",
        "\n",
        "---\n",
        "\n",
        "\n",
        "Collection of key-value pairs"
      ]
    },
    {
      "cell_type": "code",
      "execution_count": 3,
      "metadata": {
        "colab": {
          "base_uri": "https://localhost:8080/"
        },
        "id": "UhrwhkVrQyJT",
        "outputId": "988bd6e3-404d-4e09-89a3-aff552806f4c"
      },
      "outputs": [
        {
          "name": "stdout",
          "output_type": "stream",
          "text": [
            "<class 'dict'>\n"
          ]
        }
      ],
      "source": [
        "my_dict = {\n",
        "    \"name\": \"Bob\",\n",
        "    \"age\": 25,\n",
        "    \"city\": \"New York\"\n",
        "}\n",
        "print(type(my_dict))"
      ]
    },
    {
      "cell_type": "code",
      "execution_count": 10,
      "metadata": {},
      "outputs": [
        {
          "data": {
            "text/plain": [
              "'New York'"
            ]
          },
          "execution_count": 10,
          "metadata": {},
          "output_type": "execute_result"
        }
      ],
      "source": [
        "my_dict[\"city\"]"
      ]
    },
    {
      "cell_type": "code",
      "execution_count": 11,
      "metadata": {},
      "outputs": [],
      "source": [
        "my_dict[\"city\"] = \"Tehran\""
      ]
    },
    {
      "cell_type": "code",
      "execution_count": 12,
      "metadata": {
        "colab": {
          "base_uri": "https://localhost:8080/",
          "height": 35
        },
        "id": "SW8Ld0Y3dXgm",
        "outputId": "0f9133ea-a967-4c9e-df72-1318f5c813ab"
      },
      "outputs": [
        {
          "data": {
            "text/plain": [
              "'Bob'"
            ]
          },
          "execution_count": 12,
          "metadata": {},
          "output_type": "execute_result"
        }
      ],
      "source": [
        "my_dict.get(\"name\", \"not found\")"
      ]
    },
    {
      "cell_type": "code",
      "execution_count": 13,
      "metadata": {},
      "outputs": [
        {
          "data": {
            "text/plain": [
              "'not found'"
            ]
          },
          "execution_count": 13,
          "metadata": {},
          "output_type": "execute_result"
        }
      ],
      "source": [
        "my_dict.get(\"Name\", \"not found\")"
      ]
    },
    {
      "cell_type": "code",
      "execution_count": 14,
      "metadata": {},
      "outputs": [],
      "source": [
        "my_dict[\"family\"] = \"Jackson\""
      ]
    },
    {
      "cell_type": "code",
      "execution_count": 15,
      "metadata": {},
      "outputs": [
        {
          "data": {
            "text/plain": [
              "{'name': 'Bob', 'age': 26, 'city': 'Tehran', 'family': 'Jackson'}"
            ]
          },
          "execution_count": 15,
          "metadata": {},
          "output_type": "execute_result"
        }
      ],
      "source": [
        "my_dict"
      ]
    },
    {
      "cell_type": "code",
      "execution_count": 16,
      "metadata": {
        "id": "Z3o9WCsrdhMs"
      },
      "outputs": [],
      "source": [
        "my_dict.update({\"age\":26})"
      ]
    },
    {
      "cell_type": "code",
      "execution_count": 17,
      "metadata": {
        "colab": {
          "base_uri": "https://localhost:8080/"
        },
        "id": "Hpvxf8zXdmB1",
        "outputId": "52f711c6-c51c-4697-8706-ed246362dcaf"
      },
      "outputs": [
        {
          "data": {
            "text/plain": [
              "{'name': 'Bob', 'age': 26, 'city': 'Tehran', 'family': 'Jackson'}"
            ]
          },
          "execution_count": 17,
          "metadata": {},
          "output_type": "execute_result"
        }
      ],
      "source": [
        "my_dict"
      ]
    },
    {
      "cell_type": "code",
      "execution_count": 18,
      "metadata": {
        "id": "NUD0LkVwdcYs"
      },
      "outputs": [],
      "source": [
        "city = my_dict.pop(\"age\")"
      ]
    },
    {
      "cell_type": "code",
      "execution_count": 20,
      "metadata": {
        "colab": {
          "base_uri": "https://localhost:8080/"
        },
        "id": "8bdNvhXvdwo8",
        "outputId": "3c5bcc02-ec52-46bd-f4d3-6fb76447f800"
      },
      "outputs": [
        {
          "name": "stdout",
          "output_type": "stream",
          "text": [
            "26\n"
          ]
        },
        {
          "data": {
            "text/plain": [
              "{'name': 'Bob', 'city': 'Tehran', 'family': 'Jackson'}"
            ]
          },
          "execution_count": 20,
          "metadata": {},
          "output_type": "execute_result"
        }
      ],
      "source": [
        "print(city)\n",
        "my_dict"
      ]
    },
    {
      "cell_type": "code",
      "execution_count": 14,
      "metadata": {
        "colab": {
          "base_uri": "https://localhost:8080/",
          "height": 35
        },
        "id": "OaJQOm62d4My",
        "outputId": "3481bcaf-01bb-4b7d-f504-8cd39c0c3f01"
      },
      "outputs": [
        {
          "data": {
            "application/vnd.google.colaboratory.intrinsic+json": {
              "type": "string"
            },
            "text/plain": [
              "'New York'"
            ]
          },
          "execution_count": 14,
          "metadata": {},
          "output_type": "execute_result"
        }
      ],
      "source": [
        "my_dict.pop(\"city\")"
      ]
    },
    {
      "cell_type": "code",
      "execution_count": 21,
      "metadata": {
        "colab": {
          "base_uri": "https://localhost:8080/"
        },
        "id": "KsnNdsUkd6hd",
        "outputId": "7d9b5837-9a69-4964-951b-27830ea078ec"
      },
      "outputs": [
        {
          "data": {
            "text/plain": [
              "{'name': 'Bob', 'city': 'Tehran', 'family': 'Jackson'}"
            ]
          },
          "execution_count": 21,
          "metadata": {},
          "output_type": "execute_result"
        }
      ],
      "source": [
        "my_dict"
      ]
    },
    {
      "cell_type": "code",
      "execution_count": 22,
      "metadata": {
        "id": "dJbpV281eF6-"
      },
      "outputs": [],
      "source": [
        "my_dict2 = {\n",
        "    \"name\": \"Bob\",\n",
        "    \"age\": 25,\n",
        "    \"city\": \"New York\"\n",
        "}"
      ]
    },
    {
      "cell_type": "code",
      "execution_count": 23,
      "metadata": {
        "colab": {
          "base_uri": "https://localhost:8080/"
        },
        "id": "H3rEK1jAeCed",
        "outputId": "0a49fb61-9d3d-40d5-e11b-40d0ac2bbaf9"
      },
      "outputs": [
        {
          "data": {
            "text/plain": [
              "dict_keys(['name', 'age', 'city'])"
            ]
          },
          "execution_count": 23,
          "metadata": {},
          "output_type": "execute_result"
        }
      ],
      "source": [
        "my_dict2.keys()"
      ]
    },
    {
      "cell_type": "code",
      "execution_count": 24,
      "metadata": {
        "colab": {
          "base_uri": "https://localhost:8080/"
        },
        "id": "kQHJE_fCeIyV",
        "outputId": "8eba770b-d007-4c59-c625-4db5074a243c"
      },
      "outputs": [
        {
          "data": {
            "text/plain": [
              "dict_values(['Bob', 25, 'New York'])"
            ]
          },
          "execution_count": 24,
          "metadata": {},
          "output_type": "execute_result"
        }
      ],
      "source": [
        "my_dict2.values()"
      ]
    },
    {
      "cell_type": "code",
      "execution_count": 25,
      "metadata": {
        "colab": {
          "base_uri": "https://localhost:8080/"
        },
        "id": "3ce8pHt8eNAk",
        "outputId": "fb9e5092-83c7-48c8-dfb5-578c08a3120e"
      },
      "outputs": [
        {
          "data": {
            "text/plain": [
              "dict_items([('name', 'Bob'), ('age', 25), ('city', 'New York')])"
            ]
          },
          "execution_count": 25,
          "metadata": {},
          "output_type": "execute_result"
        }
      ],
      "source": [
        "my_dict2.items()"
      ]
    },
    {
      "cell_type": "markdown",
      "metadata": {
        "id": "JcAI-YNuQzRj"
      },
      "source": [
        "## Set\n",
        "\n",
        "\n",
        "---\n",
        "\n",
        "\n",
        "Unordered collection of unique items<br>\n",
        "Set items are unordered, unchangeable, and do not allow duplicate values."
      ]
    },
    {
      "cell_type": "code",
      "execution_count": 29,
      "metadata": {
        "colab": {
          "base_uri": "https://localhost:8080/"
        },
        "id": "v4YThNuyURO3",
        "outputId": "6fc31fb3-8317-45d6-9f9e-4fe29648e5fe"
      },
      "outputs": [
        {
          "name": "stdout",
          "output_type": "stream",
          "text": [
            "{50, 3, 4, 20, 10} <class 'set'>\n"
          ]
        }
      ],
      "source": [
        "my_set = {10, 50, 20, 3, 3, 4} # Duplicate 3 is removed\n",
        "print(my_set, type(my_set))"
      ]
    },
    {
      "cell_type": "code",
      "execution_count": 30,
      "metadata": {
        "id": "XYAJgYCCe4UO"
      },
      "outputs": [],
      "source": [
        "set1 = {\"apple\", \"banana\", \"cherry\"}\n",
        "set2 = {\"google\", \"microsoft\", \"apple\"}"
      ]
    },
    {
      "cell_type": "code",
      "execution_count": 31,
      "metadata": {
        "colab": {
          "base_uri": "https://localhost:8080/"
        },
        "id": "kQLwefpVfEWF",
        "outputId": "533ad36f-b1f4-4137-cdf3-8d18c584b9b8"
      },
      "outputs": [
        {
          "data": {
            "text/plain": [
              "{'apple', 'banana', 'cherry', 'google', 'microsoft'}"
            ]
          },
          "execution_count": 31,
          "metadata": {},
          "output_type": "execute_result"
        }
      ],
      "source": [
        "set3 = set1.union(set2)\n",
        "set3"
      ]
    },
    {
      "cell_type": "code",
      "execution_count": 33,
      "metadata": {
        "colab": {
          "base_uri": "https://localhost:8080/"
        },
        "id": "iPak8tp-fOyh",
        "outputId": "c610f37d-0e7f-4f97-b7ca-038927736c38"
      },
      "outputs": [
        {
          "data": {
            "text/plain": [
              "{'apple'}"
            ]
          },
          "execution_count": 33,
          "metadata": {},
          "output_type": "execute_result"
        }
      ],
      "source": [
        "set4 = set1.intersection(set2)\n",
        "set4"
      ]
    },
    {
      "cell_type": "markdown",
      "metadata": {
        "id": "pR-gMgWaTUab"
      },
      "source": [
        "## Boolean Type\n",
        "---\n",
        "Represents True or False\n"
      ]
    },
    {
      "cell_type": "code",
      "execution_count": null,
      "metadata": {
        "colab": {
          "base_uri": "https://localhost:8080/"
        },
        "id": "WaVgunaATQsr",
        "outputId": "f19d0b3f-4aaf-41b9-ee48-3dbc18eb78f6"
      },
      "outputs": [
        {
          "name": "stdout",
          "output_type": "stream",
          "text": [
            "True <class 'bool'>\n"
          ]
        }
      ],
      "source": [
        "is_student = True\n",
        "print(is_student, type(is_student))"
      ]
    },
    {
      "cell_type": "markdown",
      "metadata": {
        "id": "AbzFXBStTaWr"
      },
      "source": [
        "## None\n",
        "---\n",
        "Represents the absence of a value"
      ]
    },
    {
      "cell_type": "code",
      "execution_count": null,
      "metadata": {
        "colab": {
          "base_uri": "https://localhost:8080/"
        },
        "id": "gJCcoO5bTRsz",
        "outputId": "5006e619-7425-486d-c680-470c2356a7b2"
      },
      "outputs": [
        {
          "name": "stdout",
          "output_type": "stream",
          "text": [
            "None <class 'NoneType'>\n"
          ]
        }
      ],
      "source": [
        "result = None\n",
        "print(result, type(result))"
      ]
    },
    {
      "cell_type": "markdown",
      "metadata": {
        "id": "xk1d6OwpUl-y"
      },
      "source": [
        "# **Type Casting (Conversion)**\n",
        "\n",
        "\n",
        "---\n",
        "\n"
      ]
    },
    {
      "cell_type": "markdown",
      "metadata": {
        "id": "S-mocxUQVD_T"
      },
      "source": [
        "int to float"
      ]
    },
    {
      "cell_type": "code",
      "execution_count": null,
      "metadata": {
        "colab": {
          "base_uri": "https://localhost:8080/"
        },
        "id": "-RC2tTOtUwQC",
        "outputId": "763b41b2-93ce-47c4-94bc-22f51bb4c8be"
      },
      "outputs": [
        {
          "name": "stdout",
          "output_type": "stream",
          "text": [
            "Age as float: 30.0, type: <class 'float'>\n"
          ]
        }
      ],
      "source": [
        "age = 30\n",
        "float_age = float(age)\n",
        "print(f\"Age as float: {float_age}, type: {type(float_age)}\")"
      ]
    },
    {
      "cell_type": "markdown",
      "metadata": {
        "id": "5SwwLVDvVINj"
      },
      "source": [
        "float to int"
      ]
    },
    {
      "cell_type": "code",
      "execution_count": null,
      "metadata": {
        "colab": {
          "base_uri": "https://localhost:8080/"
        },
        "id": "L4BqbsrKUxJy",
        "outputId": "ac35dc28-fc6d-4762-ce11-b08dee570461"
      },
      "outputs": [
        {
          "name": "stdout",
          "output_type": "stream",
          "text": [
            "Height as int: 5, type: <class 'int'>\n"
          ]
        }
      ],
      "source": [
        "height = 5.8\n",
        "int_height = int(height)\n",
        "print(f\"Height as int: {int_height}, type: {type(int_height)}\")"
      ]
    },
    {
      "cell_type": "markdown",
      "metadata": {
        "id": "q0XQm1EhVMMy"
      },
      "source": [
        "string to int"
      ]
    },
    {
      "cell_type": "code",
      "execution_count": null,
      "metadata": {
        "colab": {
          "base_uri": "https://localhost:8080/"
        },
        "id": "J_IkKdWmUyNK",
        "outputId": "573f5c45-55bd-41a0-b62d-7fd2402a206c"
      },
      "outputs": [
        {
          "name": "stdout",
          "output_type": "stream",
          "text": [
            "String num as int: 123, type: <class 'int'>\n"
          ]
        }
      ],
      "source": [
        "string_num = \"123\"\n",
        "int_num = int(string_num)\n",
        "print(f\"String num as int: {int_num}, type: {type(int_num)}\")"
      ]
    },
    {
      "cell_type": "markdown",
      "metadata": {
        "id": "34-i7iNkVNiy"
      },
      "source": [
        "int to string"
      ]
    },
    {
      "cell_type": "code",
      "execution_count": null,
      "metadata": {
        "colab": {
          "base_uri": "https://localhost:8080/"
        },
        "id": "VNJT61WBU0PT",
        "outputId": "21e79ee6-b68a-4021-f54d-241c4dd1575a"
      },
      "outputs": [
        {
          "name": "stdout",
          "output_type": "stream",
          "text": [
            "Number as string: 42, type: <class 'str'>\n"
          ]
        }
      ],
      "source": [
        "number = 42\n",
        "string_number = str(number)\n",
        "print(f\"Number as string: {string_number}, type: {type(string_number)}\")"
      ]
    },
    {
      "cell_type": "markdown",
      "metadata": {
        "id": "OWwHN7rAVPja"
      },
      "source": [
        "string to float"
      ]
    },
    {
      "cell_type": "code",
      "execution_count": null,
      "metadata": {
        "colab": {
          "base_uri": "https://localhost:8080/"
        },
        "id": "OLgPMeiJU1QL",
        "outputId": "6c74ef09-a363-4ca8-d571-0a185ad6c132"
      },
      "outputs": [
        {
          "name": "stdout",
          "output_type": "stream",
          "text": [
            "String float as float: 3.14, type: <class 'float'>\n"
          ]
        }
      ],
      "source": [
        "string_float = \"3.14\"\n",
        "float_from_string = float(string_float)\n",
        "print(f\"String float as float: {float_from_string}, type: {type(float_from_string)}\")"
      ]
    },
    {
      "cell_type": "markdown",
      "metadata": {
        "id": "Jh2kySdYVRKU"
      },
      "source": [
        "list to tuple"
      ]
    },
    {
      "cell_type": "code",
      "execution_count": null,
      "metadata": {
        "colab": {
          "base_uri": "https://localhost:8080/"
        },
        "id": "iLd0GCaTUteK",
        "outputId": "7f5cbb57-c0d8-42ed-b92e-14b4038d0abf"
      },
      "outputs": [
        {
          "name": "stdout",
          "output_type": "stream",
          "text": [
            "List as tuple: (1, 2, 3), type: <class 'tuple'>\n"
          ]
        }
      ],
      "source": [
        "my_list = [1, 2, 3]\n",
        "my_tuple = tuple(my_list)\n",
        "print(f\"List as tuple: {my_tuple}, type: {type(my_tuple)}\")"
      ]
    },
    {
      "cell_type": "markdown",
      "metadata": {
        "id": "UF0srX69VTHy"
      },
      "source": [
        "tuple to list"
      ]
    },
    {
      "cell_type": "code",
      "execution_count": null,
      "metadata": {
        "colab": {
          "base_uri": "https://localhost:8080/"
        },
        "id": "wwQ8qPdzU_fq",
        "outputId": "e097a2b6-9f42-40a0-e7bb-a7f2ae8ec88f"
      },
      "outputs": [
        {
          "name": "stdout",
          "output_type": "stream",
          "text": [
            "Tuple as list: [4, 5, 6], type: <class 'list'>\n"
          ]
        }
      ],
      "source": [
        "my_tuple = (4, 5, 6)\n",
        "my_list = list(my_tuple)\n",
        "print(f\"Tuple as list: {my_list}, type: {type(my_list)}\")"
      ]
    },
    {
      "cell_type": "markdown",
      "metadata": {
        "id": "jlQio2XNUVPD"
      },
      "source": [
        "# **input function**\n",
        "---\n",
        "Get user input\n"
      ]
    },
    {
      "cell_type": "code",
      "execution_count": null,
      "metadata": {
        "colab": {
          "base_uri": "https://localhost:8080/"
        },
        "id": "aDWjTTRyUUTc",
        "outputId": "1d48ea16-612e-4e82-a3cb-a5dd4848bec1"
      },
      "outputs": [
        {
          "name": "stdout",
          "output_type": "stream",
          "text": [
            "Enter your name: name\n",
            "Enter your age: 23\n",
            "Enter your city: shz\n"
          ]
        }
      ],
      "source": [
        "name = input(\"Enter your name: \")\n",
        "age = int(input(\"Enter your age: \"))  # Convert input to an integer\n",
        "city = input(\"Enter your city: \")"
      ]
    },
    {
      "cell_type": "code",
      "execution_count": null,
      "metadata": {
        "colab": {
          "base_uri": "https://localhost:8080/"
        },
        "id": "qMjoZrWhUg86",
        "outputId": "954ce0bb-037f-4b69-b084-9a38a0f2fb37"
      },
      "outputs": [
        {
          "name": "stdout",
          "output_type": "stream",
          "text": [
            "User Information:\n",
            "Name: name\n",
            "Age: 23\n",
            "City: shz\n"
          ]
        }
      ],
      "source": [
        "print(\"User Information:\")\n",
        "print(\"Name:\", name)\n",
        "print(\"Age:\", age)\n",
        "print(\"City:\", city)"
      ]
    },
    {
      "cell_type": "markdown",
      "metadata": {
        "id": "gaHpPy3aWMtj"
      },
      "source": [
        "# **Operators**\n",
        "\n",
        "\n",
        "---\n",
        "\n"
      ]
    },
    {
      "cell_type": "markdown",
      "metadata": {
        "id": "mxeRi7JVWDc7"
      },
      "source": [
        "## Arithmetic Operators\n",
        "\n",
        "\n",
        "---\n",
        "\n"
      ]
    },
    {
      "cell_type": "code",
      "execution_count": null,
      "metadata": {
        "colab": {
          "base_uri": "https://localhost:8080/"
        },
        "id": "pe4UNfe_V6NS",
        "outputId": "98744203-c8a3-45ae-d9e9-d07b9ce97bd7"
      },
      "outputs": [
        {
          "name": "stdout",
          "output_type": "stream",
          "text": [
            "Addition: 15\n",
            "Subtraction: 5\n",
            "Multiplication: 50\n",
            "Division: 2.0\n",
            "Floor Division: 2\n",
            "Modulus: 0\n",
            "Exponentiation: 100000\n"
          ]
        }
      ],
      "source": [
        "x = 10\n",
        "y = 5\n",
        "\n",
        "addition = x + y  # Addition\n",
        "subtraction = x - y # Subtraction\n",
        "multiplication = x * y # Multiplication\n",
        "division = x / y # Division\n",
        "floor_division = x // y # Floor division\n",
        "modulus = x % y  # Modulus (remainder)\n",
        "exponentiation = x ** y  # Exponentiation\n",
        "\n",
        "print(f\"Addition: {addition}\")\n",
        "print(f\"Subtraction: {subtraction}\")\n",
        "print(f\"Multiplication: {multiplication}\")\n",
        "print(f\"Division: {division}\")\n",
        "print(f\"Floor Division: {floor_division}\")\n",
        "print(f\"Modulus: {modulus}\")\n",
        "print(f\"Exponentiation: {exponentiation}\")"
      ]
    },
    {
      "cell_type": "markdown",
      "metadata": {
        "id": "P4PQt1IbWKeT"
      },
      "source": [
        "## Comparison Operators\n",
        "\n",
        "\n",
        "---\n",
        "\n"
      ]
    },
    {
      "cell_type": "code",
      "execution_count": null,
      "metadata": {
        "colab": {
          "base_uri": "https://localhost:8080/"
        },
        "id": "5ZloPF-wV9kL",
        "outputId": "96281b51-68b3-4db7-ac5e-127959a6af8a"
      },
      "outputs": [
        {
          "name": "stdout",
          "output_type": "stream",
          "text": [
            "Is a equal to b? False\n",
            "Is a not equal to b? True\n",
            "Is a greater than b? True\n",
            "Is a less than b? False\n",
            "Is a greater than or equal to b? True\n",
            "Is a less than or equal to b? False\n"
          ]
        }
      ],
      "source": [
        "a = 10\n",
        "b = 5\n",
        "\n",
        "print(f\"Is a equal to b? {a == b}\")  # Equal to\n",
        "print(f\"Is a not equal to b? {a != b}\")  # Not equal to\n",
        "print(f\"Is a greater than b? {a > b}\")  # Greater than\n",
        "print(f\"Is a less than b? {a < b}\")  # Less than\n",
        "print(f\"Is a greater than or equal to b? {a >= b}\")  # Greater than or equal to\n",
        "print(f\"Is a less than or equal to b? {a <= b}\")  # Less than or equal to"
      ]
    },
    {
      "cell_type": "markdown",
      "metadata": {
        "id": "OR6eKwiLEexU"
      },
      "source": [
        "### Comparison of Different Data Types\n",
        "- The expression `5 == '5'` compares an integer (`5`) with a string (`'5'`).\n",
        "- In most programming languages, this comparison will return `False` because the data types (integer vs. string) are different, even though their values appear similar."
      ]
    },
    {
      "cell_type": "code",
      "execution_count": null,
      "metadata": {
        "colab": {
          "base_uri": "https://localhost:8080/"
        },
        "id": "oEdQVpVtEWPt",
        "outputId": "3eab9352-bc44-44f3-e4b3-cbf38a555fc9"
      },
      "outputs": [
        {
          "data": {
            "text/plain": [
              "False"
            ]
          },
          "execution_count": 9,
          "metadata": {},
          "output_type": "execute_result"
        }
      ],
      "source": [
        "5 == '5'"
      ]
    },
    {
      "cell_type": "markdown",
      "metadata": {
        "id": "VlBgYln9WSNT"
      },
      "source": [
        "## Logical Operators\n",
        "\n",
        "\n",
        "---\n",
        "\n"
      ]
    },
    {
      "cell_type": "code",
      "execution_count": null,
      "metadata": {
        "colab": {
          "base_uri": "https://localhost:8080/"
        },
        "id": "wUCn4zPYV_Zb",
        "outputId": "e939a57b-8f5a-45cf-da68-b03b4bb28ea8"
      },
      "outputs": [
        {
          "name": "stdout",
          "output_type": "stream",
          "text": [
            "p AND q: False\n",
            "p OR q: True\n",
            "NOT p: False\n"
          ]
        }
      ],
      "source": [
        "p = True\n",
        "q = False\n",
        "\n",
        "print(f\"p AND q: {p and q}\")  # Logical AND\n",
        "print(f\"p OR q: {p or q}\")  # Logical OR\n",
        "print(f\"NOT p: {not p}\")  # Logical NOT"
      ]
    },
    {
      "cell_type": "markdown",
      "metadata": {
        "id": "Gmk5Dw-oWVML"
      },
      "source": [
        "## Assignment Operators\n",
        "\n",
        "---\n",
        "\n"
      ]
    },
    {
      "cell_type": "code",
      "execution_count": null,
      "metadata": {
        "colab": {
          "base_uri": "https://localhost:8080/"
        },
        "id": "NiPkvklDWBdr",
        "outputId": "271df567-85f3-44c8-b160-740bb53c47a5"
      },
      "outputs": [
        {
          "name": "stdout",
          "output_type": "stream",
          "text": [
            "num1 after += 5: 20\n",
            "num1 after -= 3: 17\n",
            "num1 after *= 2: 34\n",
            "num1 after /= 4: 8.5\n",
            "num1 after %= 3: 2.5\n"
          ]
        }
      ],
      "source": [
        "num1 = 15\n",
        "num1 += 5 # num1 = num1 +5\n",
        "print(f\"num1 after += 5: {num1}\")\n",
        "\n",
        "num1 -= 3 # num1 = num1 - 3\n",
        "print(f\"num1 after -= 3: {num1}\")\n",
        "\n",
        "num1 *= 2 # num1 = num1 * 2\n",
        "print(f\"num1 after *= 2: {num1}\")\n",
        "\n",
        "num1 /= 4 # num1 = num1 / 4\n",
        "print(f\"num1 after /= 4: {num1}\")\n",
        "\n",
        "num1 %= 3 # num1 = num1 % 3\n",
        "print(f\"num1 after %= 3: {num1}\")"
      ]
    },
    {
      "cell_type": "markdown",
      "metadata": {
        "id": "30AHS4-AWn-b"
      },
      "source": [
        "# **Conditional Statements**\n",
        "\n",
        "---\n",
        "\n"
      ]
    },
    {
      "cell_type": "markdown",
      "metadata": {
        "id": "NaRL0zkjW6wb"
      },
      "source": [
        "## If statement\n",
        "\n",
        "---\n",
        "\n"
      ]
    },
    {
      "cell_type": "code",
      "execution_count": null,
      "metadata": {
        "colab": {
          "base_uri": "https://localhost:8080/"
        },
        "id": "iZJ55FSuW357",
        "outputId": "cc50afbf-e066-4a88-f95d-5f6809743b04"
      },
      "outputs": [
        {
          "name": "stdout",
          "output_type": "stream",
          "text": [
            "x is greater than 5\n"
          ]
        }
      ],
      "source": [
        "x = 10\n",
        "if x > 5:\n",
        "  print(\"x is greater than 5\")"
      ]
    },
    {
      "cell_type": "markdown",
      "metadata": {
        "id": "atzRBeL9W8Jz"
      },
      "source": [
        "## If-else statement\n",
        "\n",
        "---\n"
      ]
    },
    {
      "cell_type": "code",
      "execution_count": null,
      "metadata": {
        "colab": {
          "base_uri": "https://localhost:8080/"
        },
        "id": "EY6eDoIuW3HF",
        "outputId": "a0f17984-0e2c-4e85-9e08-b2cf3025b34d"
      },
      "outputs": [
        {
          "name": "stdout",
          "output_type": "stream",
          "text": [
            "y is not greater than 5\n"
          ]
        }
      ],
      "source": [
        "x = 9.9\n",
        "if x >= 10:\n",
        "  print(\"Passed\")\n",
        "else:\n",
        "  print(\"Failed\")"
      ]
    },
    {
      "cell_type": "code",
      "execution_count": null,
      "metadata": {
        "colab": {
          "base_uri": "https://localhost:8080/"
        },
        "id": "gg9gcGA1m4Rq",
        "outputId": "554471b3-9927-41ad-9abc-eac63d14803d"
      },
      "outputs": [
        {
          "name": "stdout",
          "output_type": "stream",
          "text": [
            "Enter a number: 2\n",
            "2 is even\n"
          ]
        }
      ],
      "source": [
        "number = int(input(\"Enter a number: \"))\n",
        "\n",
        "if number % 2 == 0:\n",
        "    print(f\"{number} is even\")\n",
        "else:\n",
        "    print(f\"{number} is odd\")"
      ]
    },
    {
      "cell_type": "markdown",
      "metadata": {
        "id": "Cx1KBe2TW98r"
      },
      "source": [
        "## If-elif-else statement\n",
        "\n",
        "---\n",
        "\n"
      ]
    },
    {
      "cell_type": "code",
      "execution_count": null,
      "metadata": {
        "colab": {
          "base_uri": "https://localhost:8080/"
        },
        "id": "Kx-utZsmW15D",
        "outputId": "e3807b25-0656-41d8-f9b9-bb849c024129"
      },
      "outputs": [
        {
          "name": "stdout",
          "output_type": "stream",
          "text": [
            "z is greater than 5 but not greater than 10\n"
          ]
        }
      ],
      "source": [
        "z = 7\n",
        "if z > 10:\n",
        "  print(\"z is greater than 10\")\n",
        "elif z > 5:\n",
        "  print(\"z is greater than 5 but not greater than 10\")\n",
        "else:\n",
        "  print(\"z is not greater than 5\")"
      ]
    },
    {
      "cell_type": "markdown",
      "metadata": {
        "id": "Sc4wfl-iW_x7"
      },
      "source": [
        "## Nested if statements\n",
        "\n",
        "---\n",
        "\n"
      ]
    },
    {
      "cell_type": "code",
      "execution_count": null,
      "metadata": {
        "colab": {
          "base_uri": "https://localhost:8080/"
        },
        "id": "o2h6-VF1W1Aj",
        "outputId": "50d679f5-e923-42df-8b8a-aa552c66382e"
      },
      "outputs": [
        {
          "name": "stdout",
          "output_type": "stream",
          "text": [
            "You are an adult\n",
            "You are not a senior citizen.\n"
          ]
        }
      ],
      "source": [
        "age = 20\n",
        "if age >= 18:\n",
        "  print(\"You are an adult\")\n",
        "  if age >= 65:\n",
        "    print(\"You are also a senior citizen\")\n",
        "  else:\n",
        "    print(\"You are not a senior citizen.\")\n",
        "else:\n",
        "  print(\"You are a minor.\")"
      ]
    },
    {
      "cell_type": "markdown",
      "metadata": {
        "id": "E7K1U2qhXJ-D"
      },
      "source": [
        "## Using logical operators in conditions\n",
        "\n",
        "---\n",
        "\n"
      ]
    },
    {
      "cell_type": "code",
      "execution_count": null,
      "metadata": {
        "colab": {
          "base_uri": "https://localhost:8080/"
        },
        "id": "BHKdxbHUW0Hj",
        "outputId": "8204eafc-99ed-42bf-e982-31f306fdbbec"
      },
      "outputs": [
        {
          "name": "stdout",
          "output_type": "stream",
          "text": [
            "The temperature is pleasant\n"
          ]
        }
      ],
      "source": [
        "temperature = 25\n",
        "if temperature > 20 and temperature < 30:\n",
        "  print(\"The temperature is pleasant\")"
      ]
    },
    {
      "cell_type": "code",
      "execution_count": null,
      "metadata": {
        "colab": {
          "base_uri": "https://localhost:8080/"
        },
        "id": "5gDigNwmWy7T",
        "outputId": "d7158c1c-653d-4911-dd78-91feefeb2b18"
      },
      "outputs": [
        {
          "name": "stdout",
          "output_type": "stream",
          "text": [
            "It's raining, stay inside!\n"
          ]
        }
      ],
      "source": [
        "is_raining = True\n",
        "if not is_raining:\n",
        "  print(\"Let's go outside!\")\n",
        "else:\n",
        "  print(\"It's raining, stay inside!\")"
      ]
    },
    {
      "cell_type": "markdown",
      "metadata": {
        "id": "8Dh-YXpLXo7S"
      },
      "source": [
        "## Ternary operator\n",
        "\n",
        "---\n",
        "\n"
      ]
    },
    {
      "cell_type": "code",
      "execution_count": null,
      "metadata": {
        "id": "RS5f7xd4XSj7"
      },
      "outputs": [],
      "source": [
        "result = \"x is greater than 5\" if x > 5 else \"x is not greater than 5\"\n"
      ]
    },
    {
      "cell_type": "markdown",
      "metadata": {
        "id": "D4m00vSWcNrs"
      },
      "source": [
        "# **Loops**\n",
        "\n",
        "---\n",
        "\n"
      ]
    },
    {
      "cell_type": "markdown",
      "metadata": {
        "id": "h7KgkamUcQMa"
      },
      "source": [
        "## For loop\n",
        "\n",
        "---\n",
        "\n"
      ]
    },
    {
      "cell_type": "code",
      "execution_count": null,
      "metadata": {
        "colab": {
          "base_uri": "https://localhost:8080/"
        },
        "id": "bWD9FCTkcLPa",
        "outputId": "c2e218a4-eab6-449a-fcd5-5bfbb080dc8f"
      },
      "outputs": [
        {
          "name": "stdout",
          "output_type": "stream",
          "text": [
            "0\n",
            "1\n",
            "2\n",
            "3\n",
            "4\n"
          ]
        }
      ],
      "source": [
        "for i in range(5):  # Iterate from 0 to 4\n",
        "  print(i)"
      ]
    },
    {
      "cell_type": "code",
      "execution_count": null,
      "metadata": {
        "colab": {
          "base_uri": "https://localhost:8080/"
        },
        "id": "lvg6z0ChhGEp",
        "outputId": "9ea085cc-e6d5-4cca-c862-90fff45829af"
      },
      "outputs": [
        {
          "name": "stdout",
          "output_type": "stream",
          "text": [
            "hello ali\n",
            "hello reza\n",
            "hello mina\n",
            "hello sara\n"
          ]
        }
      ],
      "source": [
        "names = ['ali', 'reza', 'mina', 'sara']\n",
        "for name in names:\n",
        "  print(f\"hello {name}\")"
      ]
    },
    {
      "cell_type": "code",
      "execution_count": null,
      "metadata": {
        "colab": {
          "base_uri": "https://localhost:8080/"
        },
        "id": "2K79SoFqhTZZ",
        "outputId": "45dd12d1-a3c1-42c5-a8ba-bba345c6593a"
      },
      "outputs": [
        {
          "name": "stdout",
          "output_type": "stream",
          "text": [
            "student 0: ali\n",
            "student 1: reza\n",
            "student 2: mina\n",
            "student 3: sara\n"
          ]
        }
      ],
      "source": [
        "names = ['ali', 'reza', 'mina', 'sara']\n",
        "for i in range(len(names)):\n",
        "  print(f\"student {i}: {names[i]}\")"
      ]
    },
    {
      "cell_type": "code",
      "execution_count": null,
      "metadata": {
        "colab": {
          "base_uri": "https://localhost:8080/"
        },
        "id": "_-o_5T37gogR",
        "outputId": "90f6857d-8f31-4bdc-c366-e623eb804d6c"
      },
      "outputs": [
        {
          "name": "stdout",
          "output_type": "stream",
          "text": [
            "factorial of n: 5\n",
            "1\n",
            "2\n",
            "6\n",
            "24\n",
            "120\n",
            "factorial of 5 is 120\n"
          ]
        }
      ],
      "source": [
        "fact = 1\n",
        "n = int(input(\"factorial of n: \"))\n",
        "for i in range(1, n+1):\n",
        "  fact *= i\n",
        "  print(fact)\n",
        "\n",
        "print(f\"factorial of {n} is {fact}\")"
      ]
    },
    {
      "cell_type": "markdown",
      "metadata": {
        "id": "Kc4O6HvGcXhD"
      },
      "source": [
        "### Break statement\n",
        "\n",
        "---\n",
        "\n"
      ]
    },
    {
      "cell_type": "code",
      "execution_count": null,
      "metadata": {
        "colab": {
          "base_uri": "https://localhost:8080/"
        },
        "id": "POfFCFVUcJ0a",
        "outputId": "15a96613-17a6-4e4c-ce70-033b1e7dfa39"
      },
      "outputs": [
        {
          "name": "stdout",
          "output_type": "stream",
          "text": [
            "0\n",
            "1\n",
            "2\n",
            "3\n",
            "4\n"
          ]
        }
      ],
      "source": [
        "for i in range(10):\n",
        "  if i == 5:\n",
        "    break  # Exit the loop when i is 5\n",
        "  print(i)"
      ]
    },
    {
      "cell_type": "markdown",
      "metadata": {
        "id": "3Z9yudfLcZtq"
      },
      "source": [
        "### Continue statement\n",
        "\n",
        "---\n",
        "\n"
      ]
    },
    {
      "cell_type": "code",
      "execution_count": 35,
      "metadata": {
        "colab": {
          "base_uri": "https://localhost:8080/"
        },
        "id": "AaQoUJqscH7S",
        "outputId": "a3891784-c50e-4653-dc10-98e5f02757e0"
      },
      "outputs": [
        {
          "name": "stdout",
          "output_type": "stream",
          "text": [
            "1\n",
            "3\n",
            "5\n",
            "7\n",
            "9\n"
          ]
        }
      ],
      "source": [
        "for i in range(10):\n",
        "  if i % 2 == 0:\n",
        "    continue  # Skip even numbers\n",
        "  print(i)"
      ]
    },
    {
      "cell_type": "markdown",
      "metadata": {
        "id": "OaNiBRLTcTVy"
      },
      "source": [
        "## While loop\n",
        "\n",
        "\n",
        "---\n",
        "\n"
      ]
    },
    {
      "cell_type": "code",
      "execution_count": null,
      "metadata": {
        "colab": {
          "base_uri": "https://localhost:8080/"
        },
        "id": "GQdbz2Y5LFen",
        "outputId": "5bb05cdd-17cb-4772-b6e2-7ec3f2c035b9"
      },
      "outputs": [
        {
          "name": "stdout",
          "output_type": "stream",
          "text": [
            "120\n"
          ]
        }
      ],
      "source": [
        "d = 5\n",
        "fact = 1\n",
        "c = 1\n",
        "while c <= d:\n",
        "  fact = fact * c\n",
        "  c += 1\n",
        "print(fact)"
      ]
    },
    {
      "cell_type": "code",
      "execution_count": null,
      "metadata": {
        "colab": {
          "base_uri": "https://localhost:8080/"
        },
        "id": "8-AcMmhDf1hp",
        "outputId": "678fe3d5-f5ee-4cee-f73c-ccdf53ca410c"
      },
      "outputs": [
        {
          "name": "stdout",
          "output_type": "stream",
          "text": [
            "Enter a number (or 'q' to quit): q\n"
          ]
        }
      ],
      "source": [
        "user_input = input(\"Enter a number (or 'q' to quit): \")\n",
        "while user_input != 'q':\n",
        "  print(\"Still There!\")\n",
        "  user_input = input(\"Enter a number (or 'q' to quit): \")"
      ]
    },
    {
      "cell_type": "code",
      "execution_count": null,
      "metadata": {
        "colab": {
          "base_uri": "https://localhost:8080/"
        },
        "id": "2MsLvMSGgQhC",
        "outputId": "cf719adf-5601-4482-cdb2-2abd0963f5f5"
      },
      "outputs": [
        {
          "name": "stdout",
          "output_type": "stream",
          "text": [
            "Enter a number (or 'q' to quit): q\n"
          ]
        }
      ],
      "source": [
        "while True:\n",
        "  user_input = input(\"Enter a number (or 'q' to quit): \")\n",
        "  if user_input == 'q':\n",
        "    break\n",
        "  print(\"Still There!\")"
      ]
    },
    {
      "cell_type": "markdown",
      "metadata": {
        "id": "kQ8MZGGIi4t6"
      },
      "source": [
        "# Function\n",
        "\n",
        "\n",
        "---\n",
        "\n"
      ]
    },
    {
      "cell_type": "markdown",
      "metadata": {
        "id": "uzpR6B-wi735"
      },
      "source": [
        "## Define a function\n",
        "\n",
        "\n",
        "---\n",
        "\n"
      ]
    },
    {
      "cell_type": "code",
      "execution_count": null,
      "metadata": {
        "id": "uc2sctUjiAAf"
      },
      "outputs": [],
      "source": [
        "b = 6 # global variable\n",
        "def add_numbers():\n",
        "  c = 5 # local variable\n",
        "  return a + b"
      ]
    },
    {
      "cell_type": "code",
      "execution_count": null,
      "metadata": {
        "colab": {
          "base_uri": "https://localhost:8080/"
        },
        "id": "BtpNjfSjmgFp",
        "outputId": "4cbe4b82-d964-4e17-ae57-b006797ffc4a"
      },
      "outputs": [
        {
          "name": "stdout",
          "output_type": "stream",
          "text": [
            "10\n"
          ]
        }
      ],
      "source": [
        "print(a)"
      ]
    },
    {
      "cell_type": "code",
      "execution_count": null,
      "metadata": {
        "colab": {
          "base_uri": "https://localhost:8080/",
          "height": 144
        },
        "id": "o0CRLqnomh25",
        "outputId": "6bcd1fd5-8b9f-45dd-e959-af8b2f089147"
      },
      "outputs": [
        {
          "ename": "NameError",
          "evalue": "name 'c' is not defined",
          "output_type": "error",
          "traceback": [
            "\u001b[0;31m---------------------------------------------------------------------------\u001b[0m",
            "\u001b[0;31mNameError\u001b[0m                                 Traceback (most recent call last)",
            "\u001b[0;32m<ipython-input-138-1dd5973cae19>\u001b[0m in \u001b[0;36m<cell line: 0>\u001b[0;34m()\u001b[0m\n\u001b[0;32m----> 1\u001b[0;31m \u001b[0mprint\u001b[0m\u001b[0;34m(\u001b[0m\u001b[0mc\u001b[0m\u001b[0;34m)\u001b[0m\u001b[0;34m\u001b[0m\u001b[0;34m\u001b[0m\u001b[0m\n\u001b[0m",
            "\u001b[0;31mNameError\u001b[0m: name 'c' is not defined"
          ]
        }
      ],
      "source": [
        "print(c) # we got an error, because c is a local variable"
      ]
    },
    {
      "cell_type": "code",
      "execution_count": null,
      "metadata": {
        "colab": {
          "base_uri": "https://localhost:8080/"
        },
        "id": "Ne8FqhhSiA74",
        "outputId": "02383533-4764-4b13-e66a-c64bac6e18d4"
      },
      "outputs": [
        {
          "name": "stdout",
          "output_type": "stream",
          "text": [
            "11\n"
          ]
        }
      ],
      "source": [
        "result = add_numbers()\n",
        "print(result)"
      ]
    },
    {
      "cell_type": "markdown",
      "metadata": {
        "id": "xrcp_z3mjA6S"
      },
      "source": [
        "## Positional Argument\n",
        "---"
      ]
    },
    {
      "cell_type": "code",
      "execution_count": 1,
      "metadata": {
        "id": "Dy94DS3ZiEj9"
      },
      "outputs": [],
      "source": [
        "def add_numbers2(a, b):\n",
        "  c = a + b\n",
        "  return c"
      ]
    },
    {
      "cell_type": "code",
      "execution_count": 2,
      "metadata": {
        "colab": {
          "base_uri": "https://localhost:8080/"
        },
        "id": "eP3jzAofiK5S",
        "outputId": "a983e858-4dc2-480d-a5d3-8f4b9f322ed7"
      },
      "outputs": [
        {
          "name": "stdout",
          "output_type": "stream",
          "text": [
            "5\n"
          ]
        }
      ],
      "source": [
        "result = add_numbers2(2, 3)\n",
        "print(result)"
      ]
    },
    {
      "cell_type": "markdown",
      "metadata": {
        "id": "uGo87MKljwKJ"
      },
      "source": [
        "## Keyword Argument\n",
        "\n",
        "\n",
        "---\n",
        "\n"
      ]
    },
    {
      "cell_type": "code",
      "execution_count": null,
      "metadata": {
        "colab": {
          "base_uri": "https://localhost:8080/"
        },
        "id": "W2bsUs3FlO3o",
        "outputId": "4a870b34-8932-4ce4-ad3e-2e00d7e3c19e"
      },
      "outputs": [
        {
          "name": "stdout",
          "output_type": "stream",
          "text": [
            "Hi, Alice!\n"
          ]
        }
      ],
      "source": [
        "def greet(name, greeting):\n",
        "  return f\"{greeting}, {name}!\"\n",
        "\n",
        "result = greet(greeting=\"Hi\", name=\"Alice\")\n",
        "print(result)"
      ]
    },
    {
      "cell_type": "markdown",
      "metadata": {
        "id": "QohhvCEqjDlR"
      },
      "source": [
        "## Default argument\n",
        "\n",
        "---\n",
        "\n"
      ]
    },
    {
      "cell_type": "code",
      "execution_count": null,
      "metadata": {
        "id": "tgl3-3RiiNk2"
      },
      "outputs": [],
      "source": [
        "def add_numbers3(a, b=5):\n",
        "  return a + b"
      ]
    },
    {
      "cell_type": "code",
      "execution_count": null,
      "metadata": {
        "colab": {
          "base_uri": "https://localhost:8080/"
        },
        "id": "c3Bxud9wiW6r",
        "outputId": "59ae2162-0e32-4040-b523-1e89f513b4da"
      },
      "outputs": [
        {
          "name": "stdout",
          "output_type": "stream",
          "text": [
            "8\n"
          ]
        }
      ],
      "source": [
        "result = add_numbers3(3)\n",
        "print(result)"
      ]
    },
    {
      "cell_type": "code",
      "execution_count": null,
      "metadata": {
        "colab": {
          "base_uri": "https://localhost:8080/"
        },
        "id": "AGJrn9EtiZkS",
        "outputId": "7a96e812-62ae-4025-f053-bd46c44ba34b"
      },
      "outputs": [
        {
          "name": "stdout",
          "output_type": "stream",
          "text": [
            "factorial of n: 3\n",
            "6\n"
          ]
        }
      ],
      "source": [
        "def factorial(n):\n",
        "  fact = 1\n",
        "  for i in range(1, n+1):\n",
        "    fact *= i\n",
        "  return fact\n",
        "\n",
        "n = int(input(\"factorial of n: \"))\n",
        "fact = factorial(n)\n",
        "print(fact)"
      ]
    },
    {
      "cell_type": "code",
      "execution_count": null,
      "metadata": {
        "colab": {
          "base_uri": "https://localhost:8080/"
        },
        "id": "m--LJDIXLPvv",
        "outputId": "0323e851-074e-4500-eab0-b8cd842d4a8f"
      },
      "outputs": [
        {
          "name": "stdout",
          "output_type": "stream",
          "text": [
            "0\n",
            "1\n",
            "1\n",
            "2\n",
            "3\n",
            "5\n",
            "8\n"
          ]
        }
      ],
      "source": [
        "def fibo(i):\n",
        "  f1 = 0\n",
        "  f2 = 1\n",
        "  if i<= 2:\n",
        "    return i-1\n",
        "  for c in range(3,i+1):\n",
        "    f3 = f2 + f1\n",
        "    f1 = f2\n",
        "    f2 = f3\n",
        "  return f3\n",
        "\n",
        "for x in range(1,8):\n",
        "  print(fibo(x))"
      ]
    },
    {
      "cell_type": "markdown",
      "metadata": {
        "id": "HJpZS9aJlzTx"
      },
      "source": [
        "# Exception Handling\n",
        "\n",
        "---\n",
        "\n"
      ]
    },
    {
      "cell_type": "code",
      "execution_count": null,
      "metadata": {
        "colab": {
          "base_uri": "https://localhost:8080/",
          "height": 162
        },
        "id": "LEfIxJOMmSXJ",
        "outputId": "3f454482-af12-439d-d0eb-64cd33c55096"
      },
      "outputs": [
        {
          "name": "stdout",
          "output_type": "stream",
          "text": [
            "Enter a number: s\n"
          ]
        },
        {
          "ename": "ValueError",
          "evalue": "invalid literal for int() with base 10: 's'",
          "output_type": "error",
          "traceback": [
            "\u001b[0;31m---------------------------------------------------------------------------\u001b[0m",
            "\u001b[0;31mValueError\u001b[0m                                Traceback (most recent call last)",
            "\u001b[0;32m<ipython-input-123-76c9e59d7c5b>\u001b[0m in \u001b[0;36m<cell line: 0>\u001b[0;34m()\u001b[0m\n\u001b[0;32m----> 1\u001b[0;31m \u001b[0mnumber\u001b[0m \u001b[0;34m=\u001b[0m \u001b[0mint\u001b[0m\u001b[0;34m(\u001b[0m\u001b[0minput\u001b[0m\u001b[0;34m(\u001b[0m\u001b[0;34m\"Enter a number: \"\u001b[0m\u001b[0;34m)\u001b[0m\u001b[0;34m)\u001b[0m\u001b[0;34m\u001b[0m\u001b[0;34m\u001b[0m\u001b[0m\n\u001b[0m",
            "\u001b[0;31mValueError\u001b[0m: invalid literal for int() with base 10: 's'"
          ]
        }
      ],
      "source": [
        "number = int(input(\"Enter a number: \"))"
      ]
    },
    {
      "cell_type": "code",
      "execution_count": null,
      "metadata": {
        "colab": {
          "base_uri": "https://localhost:8080/"
        },
        "id": "BBuYRbEhl_RT",
        "outputId": "e7e99cf7-2ba2-4a51-99c6-9b589a1db9a9"
      },
      "outputs": [
        {
          "name": "stdout",
          "output_type": "stream",
          "text": [
            "Enter a number: d\n",
            "Error: invalid literal for int() with base 10: 'd'\n"
          ]
        }
      ],
      "source": [
        "try:\n",
        "  # Code that might raise an exception\n",
        "  number = int(input(\"Enter a number: \"))\n",
        "  print(number)\n",
        "except Exception as e:\n",
        "  # Handle the specific exception\n",
        "  print(f\"Error: {e}\")"
      ]
    },
    {
      "cell_type": "code",
      "execution_count": null,
      "metadata": {
        "colab": {
          "base_uri": "https://localhost:8080/",
          "height": 144
        },
        "id": "CHERWqvUl3NJ",
        "outputId": "4ba8e583-ef48-43ef-fc54-46de5d14da82"
      },
      "outputs": [
        {
          "ename": "ZeroDivisionError",
          "evalue": "division by zero",
          "output_type": "error",
          "traceback": [
            "\u001b[0;31m---------------------------------------------------------------------------\u001b[0m",
            "\u001b[0;31mZeroDivisionError\u001b[0m                         Traceback (most recent call last)",
            "\u001b[0;32m<ipython-input-125-cd759d3fcf39>\u001b[0m in \u001b[0;36m<cell line: 0>\u001b[0;34m()\u001b[0m\n\u001b[0;32m----> 1\u001b[0;31m \u001b[0;36m10\u001b[0m \u001b[0;34m/\u001b[0m \u001b[0;36m0\u001b[0m\u001b[0;34m\u001b[0m\u001b[0;34m\u001b[0m\u001b[0m\n\u001b[0m",
            "\u001b[0;31mZeroDivisionError\u001b[0m: division by zero"
          ]
        }
      ],
      "source": [
        "10 / 0"
      ]
    },
    {
      "cell_type": "code",
      "execution_count": null,
      "metadata": {
        "colab": {
          "base_uri": "https://localhost:8080/"
        },
        "id": "sFoHghIFlw3J",
        "outputId": "85e498bb-bb24-4afd-b7ef-42f2314af64a"
      },
      "outputs": [
        {
          "name": "stdout",
          "output_type": "stream",
          "text": [
            "Error: division by zero\n"
          ]
        }
      ],
      "source": [
        "try:\n",
        "  result = 10 / 0\n",
        "except ZeroDivisionError as e:\n",
        "  print(f\"Error: {e}\")"
      ]
    },
    {
      "cell_type": "code",
      "execution_count": 26,
      "metadata": {},
      "outputs": [
        {
          "name": "stdout",
          "output_type": "stream",
          "text": [
            "invalid literal for int() with base 10: 'd'\n",
            "hello\n"
          ]
        }
      ],
      "source": [
        "try:\n",
        "  name = int(input(\"Enter a number: \"))\n",
        "  print(name)\n",
        "except Exception as e:\n",
        "  print(e)\n",
        "\n",
        "print(\"hello\")"
      ]
    }
  ],
  "metadata": {
    "colab": {
      "provenance": []
    },
    "kernelspec": {
      "display_name": "Python 3",
      "name": "python3"
    },
    "language_info": {
      "codemirror_mode": {
        "name": "ipython",
        "version": 3
      },
      "file_extension": ".py",
      "mimetype": "text/x-python",
      "name": "python",
      "nbconvert_exporter": "python",
      "pygments_lexer": "ipython3",
      "version": "3.12.5"
    }
  },
  "nbformat": 4,
  "nbformat_minor": 0
}
